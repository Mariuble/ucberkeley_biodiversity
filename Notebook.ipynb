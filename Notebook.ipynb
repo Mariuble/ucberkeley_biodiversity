{
 "cells": [
  {
   "cell_type": "code",
   "execution_count": 1,
   "id": "7dcf66b1-57f8-4914-990f-0ed5cbbe5688",
   "metadata": {},
   "outputs": [],
   "source": [
    "import pandas as pd\n",
    "import numpy as np\n",
    "import seaborn as sns\n",
    "from sklearn import linear_model as lm\n",
    "import matplotlib.pyplot as plt"
   ]
  },
  {
   "cell_type": "markdown",
   "id": "bd133f39-0e65-43f5-ac5a-819fcab43973",
   "metadata": {},
   "source": [
    "# Abstract\n",
    "As global climate change accelerates, one of the most urgent tasks for the coming decades is to develop accurate predictions about biological responses to guide the effective protection of biodiversity. Biodiversity is defined as “the variety of living species on Earth, including plants, animals, bacteria, and fungi”, scientist has also estimated that there are over 8.1 million species, yet only 1.2 million are discovered, leaving a huge amount of unidentified species. All of the Earth’s species work together to survive and maintain their ecosystems. While researchers are continuously documenting new species and their behavior, prediction models will be decisive in determining the evolution of the biodiversity and saving species before their extinction.\n"
   ]
  },
  {
   "cell_type": "markdown",
   "id": "cacc65b3-015e-4747-ae1e-2ade55d68ed6",
   "metadata": {},
   "source": [
    "# Introduction\n",
    "With rising sea levels, pollution, human population growth, increasing consumption and reduced resource efficiency, little is known about how this affects the Earth’s magnificent and complex biodiversity. We wanted to delve deeper into the relationship between environmental changes and biodiversity, seeking to understand the larger scale consequences. In the experiments we have gathered our data from, environmental changes were quantified into increasing nitrogen deposition, increasing atmospheric CO2, and decreasing biodiversity. These three aspects were chosen based on their importance to plant growth and development as CO2 is part of photosynthesis; nitrogen is a key nutrient for plant growth; and data shows that there is a decreasing trend in biodiversity.  \n",
    "\n",
    "According to NASA, the CO2 concentration has risen from pre-industrial levels of approximately 280 parts per million (ppm) to 420 ppm as of May 2022. This is the highest level ever recorded and NASAs predictions indicate levels up to 1500 ppm over the next few centuries. The amount of nitrogen moving through terrestrial ecosystems has also increased in the recent past. While natural \"background\" levels of nitrogen fixation have remained constant, human additions to the system through fertilizer production and fossil fuel use have increased dramatically. While nitrogen is a key nutrient for plant growth and plays a critical role in plant community structure, CO2 is the raw material for photosynthesis and is known to affect plant growth and development. Therefore, we found it both logical and interesting to look further into the relationship between nitrogen, carbon dioxide and biodiversity. While the BioCON research experiment at The University of Minnesota (explained in more depth later) focused on how different plant diversities responded to staged  environmental changes. We wanted to look at it from a different perspective, investigating how the soil is affected by different levels of biodiversity. This led us to our research question;\n",
    "\n",
    "**\"Can we build a model to predict the soil levels of nitrogen and carbon dioxide, based on the different levels of biodiversity?\"**\n",
    "\n",
    "Building an understanding of how soil, plants, carbon dioxide and nitrogen interact will be a decisive factor in the fight against climate change. Sustaining biodiversity is important for minimizing the human impact from an ethical point of view, but if the diversity is contributing to sink the climate change, this is an additional incentive to protect and encourage biodiversity."
   ]
  },
  {
   "cell_type": "markdown",
   "id": "43232cde-694d-48d9-9af0-2566451f2ff4",
   "metadata": {},
   "source": [
    "# Data sampling and collection"
   ]
  },
  {
   "cell_type": "markdown",
   "id": "2b514c08-78b2-4e0d-8d44-9a626cec0a9c",
   "metadata": {},
   "source": [
    "We explored several datasets in order to answer our research question regarding how the climate change has an impact on the biodiversity. During the exploratory data analysis, we made several hypotheses based on datasets provided and additional datasets. Some of the hypotheses were discarded because they did not produce the results we expected in order to see relevant relationships between features that could be used in our final machine learning model. Therefore, some of the datasets used in the exploratory data analysis (EDA) will not be used in the modeling to answer the research question."
   ]
  },
  {
   "cell_type": "code",
   "execution_count": 83,
   "id": "fd3aab77-8c22-46ae-a827-f100b53d7b03",
   "metadata": {},
   "outputs": [],
   "source": [
    "biocon = pd.read_csv('datasets/bioCON_plant_diversity.txt', delimiter='\\t')\n",
    "species = pd.read_csv('datasets/species.txt', delimiter='\\t')\n",
    "poll = pd.read_csv('datasets/plant_pollinator_diversity_set2.csv')"
   ]
  },
  {
   "cell_type": "markdown",
   "id": "17b79e27-501e-4ac3-9ea2-515c89bef221",
   "metadata": {},
   "source": [
    "### The BIOCON experiment\n",
    "The BIOCON dataset comes from an ecological experiment at the University of Minnesota's Cedar Creek Ecosystem Science Reserve.\n",
    "Starting in 1997, the goal of this experiment was to explore how different plant communities responded to three environmental changes across the globe. The environmental changes were quantified into increasing nitrogen deposition, increasing atmospheric CO2, and decreasing biodiversity. These three aspects were chosen based on their importance to plant growth and development as CO2 is part of photosynthesis; nitrogen is a key nutritiant for plant growth; and data shows that there is a decreasing trend in biodiversity.\n",
    "\n",
    "The experiment consisted of 371 2x2-meter plots divided into 6 rings, where some plots was exposed to a carbon dioxide, nitrogen, water or temperature treatment, as well as a different count of species. In 2002, 2007, 2012 and 2016, the level of carbon dioxide and nitrogen in the soil at four depths in each of these plots were measured and logged in the dataset. This is the granularity of the dataset.\n",
    "\n",
    "While a lot of research already have been done on these topics, several questions remain unanswered. The BIOCON experiment aims to address how these issues affect each other, and which consequences might arise when systems are exposed to these at the same time.\n",
    "\n",
    "A complementary dataset containing information on which plant species were planted in the different plots was also used in the analysis. This data already contained one-hot encoded values, which made it easier to perform our analysis as we did not have to perform any manipulation on it.\n",
    "\n",
    "#### Bias\n",
    "The temperature treatment was based on an assumption of how the trend in increasing temperature will be the next decade in central America. Therefore, this might not represent the true values in the future, thus giving a bias in the fitting of the model.\n",
    "\n",
    "In the years between 2002 and 2012, all plots in each ring was burned approximetly every other spring. Since 2013, they performed yearly burning in the fall. Therefore, the model has not been trained on plants and communities which has been growing longer than this.\n",
    "\n",
    "As the experiment performed weeding of the plots by hand, this introduce some bias, as the weeding process might be different on the amount of plots included. The roots of the extracted plants, might also not completely be gone, which also contributed to the bias."
   ]
  },
  {
   "cell_type": "markdown",
   "id": "10da360f-2a33-4fd7-9d69-7559aef4358b",
   "metadata": {},
   "source": [
    "### The impact of Lupinus transgenerational effects\n",
    "The Lupinus Transgenerational Effects dataset comes from the study conducted by the University of Minnesota's Cedar Creek Ecosystem Science Reserve. Each row represents data related to a lupinus plant from 2006, including information about the maternal plant, offspring, leaflet length in July versus August, root length in August and aboveground biomass. "
   ]
  },
  {
   "cell_type": "markdown",
   "id": "36971beb-a5b7-4d2f-bed1-07575d790ced",
   "metadata": {
    "tags": []
   },
   "source": [
    "# Data cleaning"
   ]
  },
  {
   "cell_type": "markdown",
   "id": "1adc7e2d-537b-4538-9f73-0340082dbcd1",
   "metadata": {},
   "source": [
    "The BIOCON dataset contained values encoded in different formats and data types. Therefore, a data cleaning process was required in order for us to perform the analysis. The dataset contained some records which were incomplete and had some attributes that lacked values or were invalid. As we wanted to look at the soil percentage of carbon and nitrogen, we dropped the records which had invalid values in these columns"
   ]
  },
  {
   "cell_type": "code",
   "execution_count": 3,
   "id": "2d716ad5-8a29-41ac-bb99-4bc62e63e2c6",
   "metadata": {},
   "outputs": [
    {
     "data": {
      "text/html": [
       "<div>\n",
       "<style scoped>\n",
       "    .dataframe tbody tr th:only-of-type {\n",
       "        vertical-align: middle;\n",
       "    }\n",
       "\n",
       "    .dataframe tbody tr th {\n",
       "        vertical-align: top;\n",
       "    }\n",
       "\n",
       "    .dataframe thead th {\n",
       "        text-align: right;\n",
       "    }\n",
       "</style>\n",
       "<table border=\"1\" class=\"dataframe\">\n",
       "  <thead>\n",
       "    <tr style=\"text-align: right;\">\n",
       "      <th></th>\n",
       "      <th>Year</th>\n",
       "      <th>Plot</th>\n",
       "      <th>Ring</th>\n",
       "      <th>CO2 Treatment</th>\n",
       "      <th>Nitrogen Treatment</th>\n",
       "      <th>CountOfSpecies</th>\n",
       "      <th>CountOfGroup</th>\n",
       "      <th>Experiment</th>\n",
       "      <th>monospecies</th>\n",
       "      <th>Monogroup</th>\n",
       "      <th>Water Treatment</th>\n",
       "      <th>Temp Treatment</th>\n",
       "      <th>Depth</th>\n",
       "      <th>Carbon(%)</th>\n",
       "      <th>Nitrogen(%)</th>\n",
       "      <th>C/N Ratio</th>\n",
       "    </tr>\n",
       "  </thead>\n",
       "  <tbody>\n",
       "    <tr>\n",
       "      <th>0</th>\n",
       "      <td>2002</td>\n",
       "      <td>1</td>\n",
       "      <td>1</td>\n",
       "      <td>Cenrich</td>\n",
       "      <td>Namb</td>\n",
       "      <td>4</td>\n",
       "      <td>2</td>\n",
       "      <td>M</td>\n",
       "      <td></td>\n",
       "      <td></td>\n",
       "      <td></td>\n",
       "      <td></td>\n",
       "      <td>0-10</td>\n",
       "      <td>0.618</td>\n",
       "      <td>0.074</td>\n",
       "      <td>8.351351351</td>\n",
       "    </tr>\n",
       "    <tr>\n",
       "      <th>1</th>\n",
       "      <td>2002</td>\n",
       "      <td>1</td>\n",
       "      <td>1</td>\n",
       "      <td>Cenrich</td>\n",
       "      <td>Namb</td>\n",
       "      <td>4</td>\n",
       "      <td>2</td>\n",
       "      <td>M</td>\n",
       "      <td></td>\n",
       "      <td></td>\n",
       "      <td></td>\n",
       "      <td></td>\n",
       "      <td>10-20</td>\n",
       "      <td>0.515</td>\n",
       "      <td>0.057</td>\n",
       "      <td>9.035087719</td>\n",
       "    </tr>\n",
       "    <tr>\n",
       "      <th>2</th>\n",
       "      <td>2002</td>\n",
       "      <td>1</td>\n",
       "      <td>1</td>\n",
       "      <td>Cenrich</td>\n",
       "      <td>Namb</td>\n",
       "      <td>4</td>\n",
       "      <td>2</td>\n",
       "      <td>M</td>\n",
       "      <td></td>\n",
       "      <td></td>\n",
       "      <td></td>\n",
       "      <td></td>\n",
       "      <td>20-40</td>\n",
       "      <td>0.142</td>\n",
       "      <td>0.023</td>\n",
       "      <td>6.173913043</td>\n",
       "    </tr>\n",
       "    <tr>\n",
       "      <th>3</th>\n",
       "      <td>2002</td>\n",
       "      <td>1</td>\n",
       "      <td>1</td>\n",
       "      <td>Cenrich</td>\n",
       "      <td>Namb</td>\n",
       "      <td>4</td>\n",
       "      <td>2</td>\n",
       "      <td>M</td>\n",
       "      <td></td>\n",
       "      <td></td>\n",
       "      <td></td>\n",
       "      <td></td>\n",
       "      <td>40-60</td>\n",
       "      <td>0.132</td>\n",
       "      <td>0.016</td>\n",
       "      <td>8.25</td>\n",
       "    </tr>\n",
       "    <tr>\n",
       "      <th>4</th>\n",
       "      <td>2002</td>\n",
       "      <td>2</td>\n",
       "      <td>1</td>\n",
       "      <td>Cenrich</td>\n",
       "      <td>Namb</td>\n",
       "      <td>1</td>\n",
       "      <td>1</td>\n",
       "      <td>M</td>\n",
       "      <td>Bouteloua gracilis</td>\n",
       "      <td>C-4</td>\n",
       "      <td></td>\n",
       "      <td></td>\n",
       "      <td>0-10</td>\n",
       "      <td>0.55</td>\n",
       "      <td>0.07</td>\n",
       "      <td>7.857142857</td>\n",
       "    </tr>\n",
       "  </tbody>\n",
       "</table>\n",
       "</div>"
      ],
      "text/plain": [
       "   Year  Plot Ring CO2 Treatment Nitrogen Treatment  CountOfSpecies  \\\n",
       "0  2002     1    1       Cenrich               Namb               4   \n",
       "1  2002     1    1       Cenrich               Namb               4   \n",
       "2  2002     1    1       Cenrich               Namb               4   \n",
       "3  2002     1    1       Cenrich               Namb               4   \n",
       "4  2002     2    1       Cenrich               Namb               1   \n",
       "\n",
       "   CountOfGroup Experiment         monospecies Monogroup Water Treatment  \\\n",
       "0             2          M                                                 \n",
       "1             2          M                                                 \n",
       "2             2          M                                                 \n",
       "3             2          M                                                 \n",
       "4             1          M  Bouteloua gracilis       C-4                   \n",
       "\n",
       "  Temp Treatment  Depth Carbon(%) Nitrogen(%)    C/N Ratio  \n",
       "0                  0-10     0.618       0.074  8.351351351  \n",
       "1                 10-20     0.515       0.057  9.035087719  \n",
       "2                 20-40     0.142       0.023  6.173913043  \n",
       "3                 40-60     0.132       0.016         8.25  \n",
       "4                  0-10      0.55        0.07  7.857142857  "
      ]
     },
     "execution_count": 3,
     "metadata": {},
     "output_type": "execute_result"
    }
   ],
   "source": [
    "biocon.head()"
   ]
  },
  {
   "cell_type": "code",
   "execution_count": 4,
   "id": "6e6fb73e-7513-41f0-b4b5-9f84c250f70a",
   "metadata": {},
   "outputs": [
    {
     "data": {
      "text/plain": [
       "Year                   int64\n",
       "Plot                   int64\n",
       "Ring                  object\n",
       "CO2 Treatment         object\n",
       "Nitrogen Treatment    object\n",
       "CountOfSpecies         int64\n",
       "CountOfGroup           int64\n",
       "Experiment            object\n",
       "monospecies           object\n",
       "Monogroup             object\n",
       "Water Treatment       object\n",
       "Temp Treatment        object\n",
       "Depth                 object\n",
       "Carbon(%)             object\n",
       "Nitrogen(%)           object\n",
       "C/N Ratio             object\n",
       "dtype: object"
      ]
     },
     "execution_count": 4,
     "metadata": {},
     "output_type": "execute_result"
    }
   ],
   "source": [
    "biocon.dtypes"
   ]
  },
  {
   "cell_type": "code",
   "execution_count": 5,
   "id": "17a43a98-29f2-4036-8b23-7a9768458150",
   "metadata": {},
   "outputs": [
    {
     "data": {
      "text/plain": [
       "array([' ', 'Bouteloua gracilis', 'Asclepias tuberosa',\n",
       "       'Schizachyrium scoparium', 'Amorpha canescens', 'Bromus inermis',\n",
       "       'Agropyron repens', 'Lespedeza capitata', 'Petalostemum villosum',\n",
       "       'Poa pratensis', 'Solidago rigida', 'Anemone cylindrica',\n",
       "       'Koeleria cristata', 'Achillea millefolium', 'Lupinus perennis',\n",
       "       'Andropogon gerardi', 'Sorghastrum nutans'], dtype=object)"
      ]
     },
     "execution_count": 5,
     "metadata": {},
     "output_type": "execute_result"
    }
   ],
   "source": [
    "biocon['monospecies'].unique()"
   ]
  },
  {
   "cell_type": "markdown",
   "id": "935e53ac-3627-4f6d-ac62-0f522ed3eb6a",
   "metadata": {},
   "source": [
    "The unvalid values are replaced to a standardized value so we easily can manipulate them at the same. The numerical values are parsed to fulfill the requirements from regression analysis."
   ]
  },
  {
   "cell_type": "code",
   "execution_count": 84,
   "id": "56250297-318c-494a-a374-0587777d2727",
   "metadata": {},
   "outputs": [],
   "source": [
    "biocon['Carbon(%)'].replace('', np.nan, inplace=True)\n",
    "biocon['Nitrogen(%)'].replace('', np.nan, inplace=True)\n",
    "biocon['C/N Ratio'].replace(' ', np.nan, inplace=True)\n",
    "biocon.dropna(subset=['Carbon(%)', 'Nitrogen(%)', 'C/N Ratio'], inplace=True)\n",
    "biocon['Carbon(%)'] = biocon['Carbon(%)'].astype(float)\n",
    "biocon['Nitrogen(%)'] = biocon['Nitrogen(%)'].astype(float)\n",
    "biocon['C/N Ratio'] = biocon['C/N Ratio'].astype(float)"
   ]
  },
  {
   "cell_type": "markdown",
   "id": "77bbe4c4-dd63-47ee-922b-faa1ef96320e",
   "metadata": {},
   "source": [
    "### Remove outliers\n",
    "In order to not remove any more records than necessary, we wanted to make a visualization of the different soil levels due to the percentage values being dependent on the depth. As shown in the figure below, the soil levels of carbon and nitrogen decrease with depth. We can also see from the visualization that most of the distributions are right skewed with long right tails. In the first figure visualizing the carbon distribution, we can clearly see that the different depths have different thresholds for values we would mark as outliers. Observations more than 1.5 IQR below Q1 or more than 1.5 IQR above Q3 are marked as outliers. In the first figure below, the threshold of the higher values are highlighted with vertical lines with the corresponding colors."
   ]
  },
  {
   "cell_type": "code",
   "execution_count": 7,
   "id": "0ed60585-4d63-4bc9-a8e1-5e1ad52d5d48",
   "metadata": {},
   "outputs": [],
   "source": [
    "def remove_outliers(data, variable, lower=-np.inf, upper=np.inf):\n",
    "    \"\"\"\n",
    "    Input:\n",
    "      data (data frame): the table to be filtered\n",
    "      variable (string): the column with numerical outliers\n",
    "      lower (numeric): observations with values lower than this will be removed\n",
    "      upper (numeric): observations with values higher than this will be removed\n",
    "    \n",
    "    Output:\n",
    "      a data frame with outliers removed\n",
    "      \n",
    "    Note: This function should not change mutate the contents of data.\n",
    "    \"\"\"  \n",
    "    return data[(data[variable] >= lower) & (data[variable] <= upper)]"
   ]
  },
  {
   "cell_type": "markdown",
   "id": "86cd37e3-6849-4f8c-b094-7f2b600ef606",
   "metadata": {},
   "source": [
    "#### Outliers in the carbon values"
   ]
  },
  {
   "cell_type": "code",
   "execution_count": 85,
   "id": "05c405d8-d61a-411f-8ca9-894356489018",
   "metadata": {},
   "outputs": [
    {
     "data": {
      "text/plain": [
       "<matplotlib.lines.Line2D at 0x17546f1f0>"
      ]
     },
     "execution_count": 85,
     "metadata": {},
     "output_type": "execute_result"
    },
    {
     "data": {
      "image/png": "[encoded data removed]",
      "text/plain": [
       "<Figure size 1080x360 with 1 Axes>"
      ]
     },
     "metadata": {
      "needs_background": "light"
     },
     "output_type": "display_data"
    }
   ],
   "source": [
    "biocon[biocon['Depth'] == '0-10']['Carbon(%)'].hist(bins=50, figsize=(15,5), alpha=0.2, color='blue')\n",
    "biocon[biocon['Depth'] == '10-20']['Carbon(%)'].hist(bins=50, figsize=(15,5), alpha=0.4, color='green')\n",
    "biocon[biocon['Depth'] == '20-40']['Carbon(%)'].hist(bins=50, figsize=(15,5), alpha=0.7, color='yellow')\n",
    "biocon[biocon['Depth'] == '40-60']['Carbon(%)'].hist(bins=50, figsize=(15,5), alpha=0.5, color='red')\n",
    "plt.xlabel('Soil carbon percentage')\n",
    "plt.ylabel('Count of occurences')\n",
    "plt.title('Distribution of Carbon(%) in different soil depths')\n",
    "plt.legend(['Carbon(%) 0-10cm','Carbon(%) 10-20cm','Carbon(%) 20-40cm','Carbon(%) 40-60cm'])\n",
    "\n",
    "# The threshold values calculated in the cell below\n",
    "plt.axvline(1.7, color='blue', alpha=0.8)\n",
    "plt.axvline(1.1, color='green', alpha=0.8)\n",
    "plt.axvline(0.8, color='yellow', alpha=0.8)\n",
    "plt.axvline(0.71, color='red', alpha=0.8)"
   ]
  },
  {
   "cell_type": "code",
   "execution_count": 86,
   "id": "f483a00d-ef03-45b7-95c4-61c88ae67385",
   "metadata": {},
   "outputs": [
    {
     "name": "stdout",
     "output_type": "stream",
     "text": [
      "0-10\n",
      "Low: -0.0031249999999998224\n",
      "High: 1.7378749999999998\n",
      "10-20\n",
      "Low: 0.16775000000000018\n",
      "High: 1.10575\n",
      "20-40\n",
      "Low: 0.11374999999999996\n",
      "High: 0.7957500000000001\n",
      "40-60\n",
      "Low: 0.02200000000000002\n",
      "High: 0.71\n"
     ]
    }
   ],
   "source": [
    "# Observations more than 1.5 IQR below Q1 or more than 1.5 IQR above Q3 are marked as outliers.\n",
    "for depth in ['0-10','10-20','20-40','40-60']:\n",
    "    df = biocon[biocon['Depth'] == depth]\n",
    "    column = 'Carbon(%)'\n",
    "    \n",
    "    Q1 = df[column].quantile(0.25)\n",
    "    Q3 = df[column].quantile(0.75)\n",
    "    IQR = Q3 - Q1\n",
    "    \n",
    "    low = (Q1 - 1.5 * IQR)\n",
    "    high = (Q3 + 1.5 * IQR)\n",
    "    \n",
    "    print(depth)\n",
    "    print('Low:', low)\n",
    "    print('High:', high)\n",
    "    #filtered_index = df[((df[column] <= low) or (df[column] >= high))].index\n",
    "    #biocon.drop(biocon[df[column] >= high].index, inplace=True)\n",
    "    # Remove Outliers\n",
    "    \n",
    "ten = remove_outliers(biocon[biocon['Depth'] == '0-10'], 'Carbon(%)', -0.003125, 1.73787)\n",
    "twenty = remove_outliers(biocon[biocon['Depth'] == '10-20'], 'Carbon(%)', 0.16775, 1.10575)\n",
    "fourty = remove_outliers(biocon[biocon['Depth'] == '20-40'], 'Carbon(%)', 0.1137499, 0.79575)\n",
    "sixty = remove_outliers(biocon[biocon['Depth'] == '40-60'], 'Carbon(%)', 0.02200, 0.71)\n",
    "\n",
    "biocon = pd.concat([ten, twenty, fourty, sixty])"
   ]
  },
  {
   "cell_type": "markdown",
   "id": "8cc76fe3-4661-4dc9-a64f-ec871d122af5",
   "metadata": {},
   "source": [
    "#### Outliers in the nitrogen values"
   ]
  },
  {
   "cell_type": "code",
   "execution_count": 87,
   "id": "b98cb76f-0f66-4972-9ea7-d75f4a07b982",
   "metadata": {},
   "outputs": [
    {
     "data": {
      "text/plain": [
       "<matplotlib.legend.Legend at 0x169d41ba0>"
      ]
     },
     "execution_count": 87,
     "metadata": {},
     "output_type": "execute_result"
    },
    {
     "data": {
      "image/png": "[encoded data removed]",
      "text/plain": [
       "<Figure size 1080x360 with 1 Axes>"
      ]
     },
     "metadata": {
      "needs_background": "light"
     },
     "output_type": "display_data"
    }
   ],
   "source": [
    "biocon[biocon['Depth'] == '0-10']['Nitrogen(%)'].hist(bins=50, figsize=(15,5), alpha=0.2, color='blue')\n",
    "biocon[biocon['Depth'] == '10-20']['Nitrogen(%)'].hist(bins=50, figsize=(15,5), alpha=0.4, color='green')\n",
    "biocon[biocon['Depth'] == '20-40']['Nitrogen(%)'].hist(bins=50, figsize=(15,5), alpha=0.7, color='yellow')\n",
    "biocon[biocon['Depth'] == '40-60']['Nitrogen(%)'].hist(bins=50, figsize=(15,5), alpha=0.5, color='red')\n",
    "plt.xlabel('Soil nitrogen percentage')\n",
    "plt.ylabel('Count of occurences')\n",
    "plt.title('Distribution of Nitrogen(%) in different soil depths')\n",
    "plt.legend(['Nitrogen(%) 0-10cm','Nitrogen(%) 10-20cm','Nitrogen(%) 20-40cm','Nitrogen(%) 40-60cm'])"
   ]
  },
  {
   "cell_type": "code",
   "execution_count": 88,
   "id": "b52edb92-151b-4325-8467-4922926a70e2",
   "metadata": {},
   "outputs": [
    {
     "name": "stdout",
     "output_type": "stream",
     "text": [
      "0-10\n",
      "Low: 0.01425000000000002\n",
      "High: 0.13224999999999998\n",
      "10-20\n",
      "Low: 0.015999999999999993\n",
      "High: 0.096\n",
      "20-40\n",
      "Low: 0.0075\n",
      "High: 0.07550000000000001\n",
      "40-60\n",
      "Low: 0.003000000000000006\n",
      "High: 0.06699999999999999\n"
     ]
    }
   ],
   "source": [
    "for depth in ['0-10','10-20','20-40','40-60']:\n",
    "    df = biocon[biocon['Depth'] == depth]\n",
    "    column = 'Nitrogen(%)'\n",
    "    \n",
    "    Q1 = df[column].quantile(0.25)\n",
    "    Q3 = df[column].quantile(0.75)\n",
    "    IQR = Q3 - Q1\n",
    "    \n",
    "    low = (Q1 - 1.5 * IQR)\n",
    "    high = (Q3 + 1.5 * IQR)\n",
    "    \n",
    "    print(depth)\n",
    "    print('Low:', low)\n",
    "    print('High:', high)\n",
    "    #filtered_index = df[((df[column] <= low) or (df[column] >= high))].index\n",
    "    #biocon.drop(biocon[df[column] >= high].index, inplace=True)\n",
    "    # Remove Outliers\n",
    "    \n",
    "tenN = remove_outliers(biocon[biocon['Depth'] == '0-10'], 'Nitrogen(%)', 0.01425, 0.13225)\n",
    "twentyN = remove_outliers(biocon[biocon['Depth'] == '10-20'], 'Nitrogen(%)', 0.0159, 0.096)\n",
    "fourtyN = remove_outliers(biocon[biocon['Depth'] == '20-40'], 'Nitrogen(%)', 0.0075, 0.0755)\n",
    "sixtyN = remove_outliers(biocon[biocon['Depth'] == '40-60'], 'Nitrogen(%)', 0.03, 0.067)\n",
    "\n",
    "biocon = pd.concat([tenN, twentyN, fourtyN, sixtyN])"
   ]
  },
  {
   "cell_type": "markdown",
   "id": "fda8ba90-f820-4e72-b87d-49dcd466c008",
   "metadata": {},
   "source": [
    "From the distribution, we can see that certain values dominate the distribution creating remarkable gaps. This is probably due to some measurements being rounded to the same values in the experiment. Therefore, this is not something that we will be further concerned about in our analysis. Below we can see the top 5 nitrogen percentage values."
   ]
  },
  {
   "cell_type": "code",
   "execution_count": 44,
   "id": "1fb1e729-4054-4bd6-9434-da9a311089f3",
   "metadata": {},
   "outputs": [
    {
     "data": {
      "text/plain": [
       "0.030    107\n",
       "0.040     56\n",
       "0.034     45\n",
       "0.035     38\n",
       "0.036     37\n",
       "Name: Nitrogen(%), dtype: int64"
      ]
     },
     "execution_count": 44,
     "metadata": {},
     "output_type": "execute_result"
    }
   ],
   "source": [
    "biocon[biocon['Depth'] == '40-60']['Nitrogen(%)'].value_counts().head()"
   ]
  },
  {
   "cell_type": "markdown",
   "id": "cd0e9c5f-efdd-4ff5-ac45-2dcd10cb1c86",
   "metadata": {
    "tags": []
   },
   "source": [
    "# Exploratory data analysis"
   ]
  },
  {
   "cell_type": "markdown",
   "id": "aaeed7bc-f105-43ed-8cbc-bc80d1b5d2a1",
   "metadata": {},
   "source": [
    "To answer this, we will use different tools and methods to see if we can find some inference in the data we collected.\n",
    "With Exploration, we will use visualizations and descriptive statistics to make some predictions on the data by using machine learning and fitting a regression model, optimization it to the data we have collected based on our thoughts and ideas obtained from earlier exploration."
   ]
  },
  {
   "cell_type": "markdown",
   "id": "d6f1b5e6-1f6e-426b-b782-edc61ccca248",
   "metadata": {},
   "source": [
    "### Lupinus Transgenerational Effects\n",
    "A big part of our EDA, which ended up not being relevant for our final machine learning model, was to see if one specific species in the research study, specifically the lupinus, had an impact on biodiversity. \n",
    "According to WWF, invasive species and disease is the third biggest threat to biodiversity, and constitutes 13% of the recorded threats to biodiversity on average. Lupinus is considered to be such a species. Its quick growth and length tend to shade for shorter species and outcompete them. The lupinus also produces alkaloid compounds that are said to have a negative impact on the germination of seeds from other species.\n",
    "When investigating the Lupinus Transgenerational Effects dataset from the Cedar Creek research study, we found a clear relationship between the carbon dioxide treatment on the offspring and the leaflet length in August. A similar relationship was found between the carbon dioxide treatment on the offspring and aboveground biomass. The results show that elevated carbon dioxide treatment has a positive effect on the lupinus.\n"
   ]
  },
  {
   "cell_type": "code",
   "execution_count": 104,
   "id": "128d6d44-4713-4a1c-9648-9ce811fa1f81",
   "metadata": {},
   "outputs": [],
   "source": [
    "lupinus = pd.read_csv('datasets/e141_Lupinus Transgenerational Effects.txt', delimiter='\\t')"
   ]
  },
  {
   "cell_type": "code",
   "execution_count": 105,
   "id": "37ae6472-8898-4782-ad65-c4d31b80a853",
   "metadata": {},
   "outputs": [
    {
     "data": {
      "text/html": [
       "<div>\n",
       "<style scoped>\n",
       "    .dataframe tbody tr th:only-of-type {\n",
       "        vertical-align: middle;\n",
       "    }\n",
       "\n",
       "    .dataframe tbody tr th {\n",
       "        vertical-align: top;\n",
       "    }\n",
       "\n",
       "    .dataframe thead th {\n",
       "        text-align: right;\n",
       "    }\n",
       "</style>\n",
       "<table border=\"1\" class=\"dataframe\">\n",
       "  <thead>\n",
       "    <tr style=\"text-align: right;\">\n",
       "      <th></th>\n",
       "      <th>Maternal plot</th>\n",
       "      <th>Offspring CO2</th>\n",
       "      <th>August leaflet length</th>\n",
       "    </tr>\n",
       "  </thead>\n",
       "  <tbody>\n",
       "    <tr>\n",
       "      <th>0</th>\n",
       "      <td>184.0</td>\n",
       "      <td>elevated</td>\n",
       "      <td>18.000000</td>\n",
       "    </tr>\n",
       "    <tr>\n",
       "      <th>1</th>\n",
       "      <td>205.0</td>\n",
       "      <td>ambient</td>\n",
       "      <td>19.666667</td>\n",
       "    </tr>\n",
       "    <tr>\n",
       "      <th>2</th>\n",
       "      <td>275.0</td>\n",
       "      <td>elevated</td>\n",
       "      <td>20.000000</td>\n",
       "    </tr>\n",
       "    <tr>\n",
       "      <th>3</th>\n",
       "      <td>354.0</td>\n",
       "      <td>ambient</td>\n",
       "      <td>20.000000</td>\n",
       "    </tr>\n",
       "    <tr>\n",
       "      <th>4</th>\n",
       "      <td>175.0</td>\n",
       "      <td>ambient</td>\n",
       "      <td>20.000000</td>\n",
       "    </tr>\n",
       "  </tbody>\n",
       "</table>\n",
       "</div>"
      ],
      "text/plain": [
       "   Maternal plot Offspring CO2  August leaflet length\n",
       "0          184.0      elevated              18.000000\n",
       "1          205.0       ambient              19.666667\n",
       "2          275.0      elevated              20.000000\n",
       "3          354.0       ambient              20.000000\n",
       "4          175.0       ambient              20.000000"
      ]
     },
     "execution_count": 105,
     "metadata": {},
     "output_type": "execute_result"
    }
   ],
   "source": [
    "test = lupinus.groupby(['Maternal plot', 'Offspring CO2']).mean('aboveground biomass (g)').sort_values(['aboveground biomass (g)'])['aboveground biomass (g)'].to_frame().reset_index()\n",
    "test.head()\n",
    "\n",
    "test1 = lupinus.groupby(['Maternal plot', 'Offspring CO2']).mean('August leaflet length').sort_values(['August leaflet length'])['August leaflet length'].dropna().to_frame().reset_index()\n",
    "test1.head()"
   ]
  },
  {
   "cell_type": "code",
   "execution_count": 106,
   "id": "badc70da-cce3-4c4c-b820-2369561b47d3",
   "metadata": {},
   "outputs": [
    {
     "data": {
      "text/plain": [
       "<AxesSubplot:ylabel='aboveground biomass (g)'>"
      ]
     },
     "execution_count": 106,
     "metadata": {},
     "output_type": "execute_result"
    },
    {
     "data": {
      "image/png": "[encoded data removed]",
      "text/plain": [
       "<Figure size 432x288 with 1 Axes>"
      ]
     },
     "metadata": {
      "needs_background": "light"
     },
     "output_type": "display_data"
    }
   ],
   "source": [
    "x_axis=[*range(1,84,1)]\n",
    "sns.scatterplot(data=test, x=x_axis, y='aboveground biomass (g)', hue='Offspring CO2')"
   ]
  },
  {
   "cell_type": "code",
   "execution_count": 107,
   "id": "38ab0827-77ac-40fa-b643-7a3ce8fe8b2c",
   "metadata": {},
   "outputs": [
    {
     "data": {
      "text/plain": [
       "<AxesSubplot:ylabel='August leaflet length'>"
      ]
     },
     "execution_count": 107,
     "metadata": {},
     "output_type": "execute_result"
    },
    {
     "data": {
      "image/png": "[encoded data removed]",
      "text/plain": [
       "<Figure size 432x288 with 1 Axes>"
      ]
     },
     "metadata": {
      "needs_background": "light"
     },
     "output_type": "display_data"
    }
   ],
   "source": [
    "x_axis=[*range(1,81,1)]\n",
    "#plt.scatter(x, test1['aboveground biomass (g)'], cmap='Offspring CO2')\n",
    "sns.scatterplot(data=test1, x=x_axis, y='August leaflet length', hue='Offspring CO2')"
   ]
  },
  {
   "cell_type": "code",
   "execution_count": 108,
   "id": "044f3a16-50c9-45af-b1ed-f1475d863941",
   "metadata": {},
   "outputs": [
    {
     "data": {
      "text/plain": [
       "(867, 16)"
      ]
     },
     "execution_count": 108,
     "metadata": {},
     "output_type": "execute_result"
    }
   ],
   "source": [
    "lup = poll[poll['PLTSP_NAME']=='Lupinus laxiflorus']\n",
    "lup.shape"
   ]
  },
  {
   "cell_type": "code",
   "execution_count": 109,
   "id": "d24359e2-07b3-45ae-b8e7-9457a406ae93",
   "metadata": {},
   "outputs": [
    {
     "data": {
      "text/html": [
       "<div>\n",
       "<style scoped>\n",
       "    .dataframe tbody tr th:only-of-type {\n",
       "        vertical-align: middle;\n",
       "    }\n",
       "\n",
       "    .dataframe tbody tr th {\n",
       "        vertical-align: top;\n",
       "    }\n",
       "\n",
       "    .dataframe thead th {\n",
       "        text-align: right;\n",
       "    }\n",
       "</style>\n",
       "<table border=\"1\" class=\"dataframe\">\n",
       "  <thead>\n",
       "    <tr style=\"text-align: right;\">\n",
       "      <th></th>\n",
       "      <th>PLOT_ID</th>\n",
       "      <th>Lupinus</th>\n",
       "    </tr>\n",
       "  </thead>\n",
       "  <tbody>\n",
       "    <tr>\n",
       "      <th>0</th>\n",
       "      <td>BGD01</td>\n",
       "      <td>1</td>\n",
       "    </tr>\n",
       "    <tr>\n",
       "      <th>1</th>\n",
       "      <td>BGD02</td>\n",
       "      <td>1</td>\n",
       "    </tr>\n",
       "    <tr>\n",
       "      <th>2</th>\n",
       "      <td>BGD03</td>\n",
       "      <td>4</td>\n",
       "    </tr>\n",
       "    <tr>\n",
       "      <th>3</th>\n",
       "      <td>BGD04</td>\n",
       "      <td>2</td>\n",
       "    </tr>\n",
       "    <tr>\n",
       "      <th>4</th>\n",
       "      <td>BGD05</td>\n",
       "      <td>2</td>\n",
       "    </tr>\n",
       "  </tbody>\n",
       "</table>\n",
       "</div>"
      ],
      "text/plain": [
       "  PLOT_ID  Lupinus\n",
       "0   BGD01        1\n",
       "1   BGD02        1\n",
       "2   BGD03        4\n",
       "3   BGD04        2\n",
       "4   BGD05        2"
      ]
     },
     "execution_count": 109,
     "metadata": {},
     "output_type": "execute_result"
    }
   ],
   "source": [
    "lup = lup.groupby('PLOT_ID').size().to_frame().reset_index().rename(columns={0:'Lupinus'})\n",
    "lup.shape\n",
    "lup.head()"
   ]
  },
  {
   "cell_type": "code",
   "execution_count": 111,
   "id": "f1acceb2-b099-4cf5-96dd-525b9c7a24b0",
   "metadata": {},
   "outputs": [
    {
     "data": {
      "text/plain": [
       "(21752, 16)"
      ]
     },
     "execution_count": 111,
     "metadata": {},
     "output_type": "execute_result"
    }
   ],
   "source": [
    "other_species = poll[poll['PLTSP_CODE']!='LUPILAXI']\n",
    "other_species.shape"
   ]
  },
  {
   "cell_type": "code",
   "execution_count": 112,
   "id": "70bff2ab-2d1d-4fa8-90c4-795be6b096f8",
   "metadata": {},
   "outputs": [
    {
     "data": {
      "text/html": [
       "<div>\n",
       "<style scoped>\n",
       "    .dataframe tbody tr th:only-of-type {\n",
       "        vertical-align: middle;\n",
       "    }\n",
       "\n",
       "    .dataframe tbody tr th {\n",
       "        vertical-align: top;\n",
       "    }\n",
       "\n",
       "    .dataframe thead th {\n",
       "        text-align: right;\n",
       "    }\n",
       "</style>\n",
       "<table border=\"1\" class=\"dataframe\">\n",
       "  <thead>\n",
       "    <tr style=\"text-align: right;\">\n",
       "      <th></th>\n",
       "      <th>PLOT_ID</th>\n",
       "      <th>Other</th>\n",
       "    </tr>\n",
       "  </thead>\n",
       "  <tbody>\n",
       "    <tr>\n",
       "      <th>0</th>\n",
       "      <td>BGD01</td>\n",
       "      <td>37</td>\n",
       "    </tr>\n",
       "    <tr>\n",
       "      <th>1</th>\n",
       "      <td>BGD02</td>\n",
       "      <td>27</td>\n",
       "    </tr>\n",
       "    <tr>\n",
       "      <th>2</th>\n",
       "      <td>BGD03</td>\n",
       "      <td>40</td>\n",
       "    </tr>\n",
       "    <tr>\n",
       "      <th>3</th>\n",
       "      <td>BGD04</td>\n",
       "      <td>34</td>\n",
       "    </tr>\n",
       "    <tr>\n",
       "      <th>4</th>\n",
       "      <td>BGD05</td>\n",
       "      <td>38</td>\n",
       "    </tr>\n",
       "  </tbody>\n",
       "</table>\n",
       "</div>"
      ],
      "text/plain": [
       "  PLOT_ID  Other\n",
       "0   BGD01     37\n",
       "1   BGD02     27\n",
       "2   BGD03     40\n",
       "3   BGD04     34\n",
       "4   BGD05     38"
      ]
     },
     "execution_count": 112,
     "metadata": {},
     "output_type": "execute_result"
    }
   ],
   "source": [
    "other_species = other_species.groupby('PLOT_ID').size().to_frame().reset_index().rename(columns={0:'Other'})\n",
    "other_species.shape\n",
    "other_species.head()"
   ]
  },
  {
   "cell_type": "code",
   "execution_count": 113,
   "id": "b1d1b0b1-ee51-4b85-9dfb-ff63fd10d444",
   "metadata": {},
   "outputs": [
    {
     "data": {
      "text/html": [
       "<div>\n",
       "<style scoped>\n",
       "    .dataframe tbody tr th:only-of-type {\n",
       "        vertical-align: middle;\n",
       "    }\n",
       "\n",
       "    .dataframe tbody tr th {\n",
       "        vertical-align: top;\n",
       "    }\n",
       "\n",
       "    .dataframe thead th {\n",
       "        text-align: right;\n",
       "    }\n",
       "</style>\n",
       "<table border=\"1\" class=\"dataframe\">\n",
       "  <thead>\n",
       "    <tr style=\"text-align: right;\">\n",
       "      <th></th>\n",
       "      <th>PLOT_ID</th>\n",
       "      <th>Lupinus</th>\n",
       "      <th>Other</th>\n",
       "    </tr>\n",
       "  </thead>\n",
       "  <tbody>\n",
       "    <tr>\n",
       "      <th>0</th>\n",
       "      <td>BGD01</td>\n",
       "      <td>1</td>\n",
       "      <td>37</td>\n",
       "    </tr>\n",
       "    <tr>\n",
       "      <th>33</th>\n",
       "      <td>CNT01</td>\n",
       "      <td>1</td>\n",
       "      <td>35</td>\n",
       "    </tr>\n",
       "    <tr>\n",
       "      <th>36</th>\n",
       "      <td>CNT05</td>\n",
       "      <td>1</td>\n",
       "      <td>52</td>\n",
       "    </tr>\n",
       "    <tr>\n",
       "      <th>40</th>\n",
       "      <td>CPB05</td>\n",
       "      <td>1</td>\n",
       "      <td>199</td>\n",
       "    </tr>\n",
       "    <tr>\n",
       "      <th>42</th>\n",
       "      <td>CPB07</td>\n",
       "      <td>1</td>\n",
       "      <td>201</td>\n",
       "    </tr>\n",
       "  </tbody>\n",
       "</table>\n",
       "</div>"
      ],
      "text/plain": [
       "   PLOT_ID  Lupinus  Other\n",
       "0    BGD01        1     37\n",
       "33   CNT01        1     35\n",
       "36   CNT05        1     52\n",
       "40   CPB05        1    199\n",
       "42   CPB07        1    201"
      ]
     },
     "execution_count": 113,
     "metadata": {},
     "output_type": "execute_result"
    }
   ],
   "source": [
    "pollinator = pd.merge(lup, other_species, on='PLOT_ID').sort_values('Lupinus')\n",
    "pollinator.head()"
   ]
  },
  {
   "cell_type": "code",
   "execution_count": 114,
   "id": "74b0ac3e-bf8d-4339-a27d-5cb9df6bfbc9",
   "metadata": {},
   "outputs": [
    {
     "data": {
      "text/plain": [
       "<AxesSubplot:xlabel='Lupinus', ylabel='Other'>"
      ]
     },
     "execution_count": 114,
     "metadata": {},
     "output_type": "execute_result"
    },
    {
     "data": {
      "image/png": "[encoded data removed]",
      "text/plain": [
       "<Figure size 432x288 with 1 Axes>"
      ]
     },
     "metadata": {
      "needs_background": "light"
     },
     "output_type": "display_data"
    }
   ],
   "source": [
    "mean_lupinus = pollinator.groupby('Lupinus').mean()\n",
    "mean_lupinus\n",
    "sns.scatterplot(data=mean_lupinus, x='Lupinus', y='Other')"
   ]
  },
  {
   "cell_type": "markdown",
   "id": "3c858506-4115-4713-addb-ea4e8a989083",
   "metadata": {},
   "source": [
    "From the results showing that lupinus thrived with increasing carbon dioxide levels, and an increasing share of lupinus plants has a negative effect on the share of other plant species, we made the hypothesis: The more lupinus plants in a plot, the fewer other plant species will exist in the plot.\n",
    "\n",
    "In order to test the hypothesis, we used the plant pollinator diversity set 2 in order to find the relationship between the number of lupinus plants versus other plant species in an area. Because it was considerable larger amount of values for the number of other species than the number of lupinus plants, we looked at the mean of the number of other species. \n",
    "\n",
    "The results from the plot shows the opposite of what we expected from our hypothesis: The number of other plant species increases when the number of lupinus plants increases in an area. Therefore, we decided not to include the number of lupinus plants from the plots in the BIOCON study as a feature in our model."
   ]
  },
  {
   "cell_type": "markdown",
   "id": "175d8657-366c-4c8c-8337-d2dabd8474b1",
   "metadata": {},
   "source": [
    "### The count of plant species has effect on the Carbon levels in the soil\n",
    "As we wanted to see how biodiversity contributed to the soil levels of carbon and nitrogen, we wanted to see if these values were affected by the count of species in the different plots. The experiment contained 6 rings with a total of  371 plots, in which each plot within a ring was isolated from each other. The plots contained different counts of species where some of the plots had individual water or temperature treatments, or enriched levels of nitrogen and CO2. Some of the plots had zero species planted, and others were monospecies plots.\n",
    "We plotted the depths separated from each other as we earlier have shown that the soil levels are different based on the depths. From the figure we can see that the nitrogen percentage in the soil increases with the count of species. The visualization of the carbon percentage can be found in the attached notebook, but the graphs look similar to the visualization of the nitrogen levels."
   ]
  },
  {
   "cell_type": "code",
   "execution_count": null,
   "id": "7ee0e6f5-a2e8-4e1e-8cdc-83206e95be22",
   "metadata": {},
   "outputs": [
    {
     "data": {
      "text/plain": [
       "Text(0.5, 1.0, 'The average Carbon level for each count of species')"
      ]
     },
     "execution_count": 193,
     "metadata": {},
     "output_type": "execute_result"
    },
    {
     "data": {
      "image/png": "[encoded data removed]",
      "text/plain": [
       "<Figure size 432x288 with 1 Axes>"
      ]
     },
     "metadata": {
      "needs_background": "light"
     },
     "output_type": "display_data"
    }
   ],
   "source": [
    "biocon.groupby(['CountOfSpecies'])['Carbon(%)'].mean().plot()\n",
    "plt.ylabel('Carbon percentage')\n",
    "plt.xlabel('Count of species')\n",
    "plt.title('The average Carbon level for each count of species')"
   ]
  },
  {
   "cell_type": "code",
   "execution_count": 52,
   "id": "3aa740d0-3cb4-4e07-bd8c-86311baae250",
   "metadata": {},
   "outputs": [
    {
     "data": {
      "text/plain": [
       "Text(0.5, 1.0, 'The average Nitrogen level for each count of species')"
      ]
     },
     "execution_count": 52,
     "metadata": {},
     "output_type": "execute_result"
    },
    {
     "data": {
      "image/png": "[encoded data removed]",
      "text/plain": [
       "<Figure size 432x288 with 1 Axes>"
      ]
     },
     "metadata": {
      "needs_background": "light"
     },
     "output_type": "display_data"
    }
   ],
   "source": [
    "biocon.groupby(['CountOfSpecies'])['Nitrogen(%)'].mean().plot()\n",
    "plt.ylabel('Nitrogen percentage')\n",
    "plt.xlabel('Count of species')\n",
    "plt.title('The average Nitrogen level for each count of species')"
   ]
  },
  {
   "cell_type": "code",
   "execution_count": 53,
   "id": "188d992e-99c3-40dc-a22d-80e2793e8787",
   "metadata": {},
   "outputs": [
    {
     "data": {
      "text/plain": [
       "0.6713151862464184"
      ]
     },
     "execution_count": 53,
     "metadata": {},
     "output_type": "execute_result"
    }
   ],
   "source": [
    "biocon[(biocon['Temp Treatment'] == 'HTelv') | (biocon['Temp Treatment'] == 'HTamb')]['Carbon(%)'].mean()"
   ]
  },
  {
   "cell_type": "markdown",
   "id": "dc095612-e8ff-448b-b803-649766371573",
   "metadata": {},
   "source": [
    "### Nitrogen percentage based on count of species and depth\n"
   ]
  },
  {
   "cell_type": "code",
   "execution_count": 55,
   "id": "87e1a9dc-ba9f-40c9-98d0-72f433804dfe",
   "metadata": {},
   "outputs": [
    {
     "data": {
      "text/plain": [
       "<matplotlib.legend.Legend at 0x166cfb3d0>"
      ]
     },
     "execution_count": 55,
     "metadata": {},
     "output_type": "execute_result"
    },
    {
     "data": {
      "image/png": "[encoded data removed]",
      "text/plain": [
       "<Figure size 720x504 with 1 Axes>"
      ]
     },
     "metadata": {
      "needs_background": "light"
     },
     "output_type": "display_data"
    }
   ],
   "source": [
    "df = biocon.loc[:, ['CountOfSpecies', 'Depth', 'Nitrogen(%)', 'Nitrogen Treatment']].copy()\n",
    "\n",
    "df['Nitrogen(%)'] = pd.to_numeric(df['Nitrogen(%)'], errors='coerce')\n",
    "df['CountOfSpecies'] = pd.to_numeric(df['CountOfSpecies'], errors='coerce')\n",
    "\n",
    "#fig, axes = plt.subplots(nrows=2, ncols=2)\n",
    "\n",
    "ax = df[(df['Depth'] == '0-10')].groupby('CountOfSpecies').mean().plot(color='blue', figsize=(10,7))\n",
    "df[(df['Depth'] == '10-20')].groupby('CountOfSpecies').mean().plot(ax=ax, color='green')\n",
    "df[(df['Depth'] == '20-40')].groupby('CountOfSpecies').mean().plot(ax=ax, color='orange')\n",
    "df[(df['Depth'] == '40-60')].groupby('CountOfSpecies').mean().plot(ax=ax, color='red')\n",
    "\n",
    "plt.xlabel('Count of species')\n",
    "plt.ylabel('Nitrogen(%)')\n",
    "plt.title('Nitrogen(%) in the soil per count of species for each depth')\n",
    "plt.legend(['Nitrogen(%) 0-10cm','Nitrogen(%) 10-20cm','Nitrogen(%) 20-40cm','Nitrogen(%) 40-60cm'])"
   ]
  },
  {
   "cell_type": "code",
   "execution_count": 57,
   "id": "a476bca7-7c6b-4a0c-8b7b-6985e5cc23d8",
   "metadata": {},
   "outputs": [
    {
     "data": {
      "text/plain": [
       "Text(0.5, 1.0, 'Carbon levels')"
      ]
     },
     "execution_count": 57,
     "metadata": {},
     "output_type": "execute_result"
    },
    {
     "data": {
      "image/png": "[encoded data removed]",
      "text/plain": [
       "<Figure size 720x504 with 1 Axes>"
      ]
     },
     "metadata": {
      "needs_background": "light"
     },
     "output_type": "display_data"
    }
   ],
   "source": [
    "df = biocon.loc[:, ['CountOfSpecies', 'Depth', 'Carbon(%)']].copy()\n",
    "\n",
    "df['Carbon(%)'] = pd.to_numeric(df['Carbon(%)'], errors='coerce')\n",
    "df['CountOfSpecies'] = pd.to_numeric(df['CountOfSpecies'], errors='coerce')\n",
    "\n",
    "#fig, axes = plt.subplots(nrows=2, ncols=2)\n",
    "\n",
    "ax = df[(df['Depth'] == '0-10')].groupby('CountOfSpecies').mean().plot(color='blue', figsize=(10,7))\n",
    "df[(df['Depth'] == '10-20')].groupby('CountOfSpecies').mean().plot(ax=ax, color='green')\n",
    "df[(df['Depth'] == '20-40')].groupby('CountOfSpecies').mean().plot(ax=ax, color='orange')\n",
    "df[(df['Depth'] == '40-60')].groupby('CountOfSpecies').mean().plot(ax=ax, color='red')\n",
    "plt.title('Carbon levels')"
   ]
  },
  {
   "cell_type": "markdown",
   "id": "50f2b276-8f7b-4638-9df1-71a31ccd520f",
   "metadata": {},
   "source": [
    "From the plot above, we can see that the deeper values have lower values of nitrogen.\n",
    "\n",
    "We can also see that the slope is similar in the different depths, but the scaling is different"
   ]
  },
  {
   "cell_type": "code",
   "execution_count": null,
   "id": "bcd8585e-c26e-46cc-87cb-8f2f33736737",
   "metadata": {},
   "outputs": [
    {
     "data": {
      "text/html": [
       "<div>\n",
       "<style scoped>\n",
       "    .dataframe tbody tr th:only-of-type {\n",
       "        vertical-align: middle;\n",
       "    }\n",
       "\n",
       "    .dataframe tbody tr th {\n",
       "        vertical-align: top;\n",
       "    }\n",
       "\n",
       "    .dataframe thead th {\n",
       "        text-align: right;\n",
       "    }\n",
       "</style>\n",
       "<table border=\"1\" class=\"dataframe\">\n",
       "  <thead>\n",
       "    <tr style=\"text-align: right;\">\n",
       "      <th></th>\n",
       "      <th>Plot</th>\n",
       "      <th>CountOfSpecies</th>\n",
       "      <th>CountOfGroup</th>\n",
       "      <th>Carbon(%)</th>\n",
       "      <th>Nitrogen(%)</th>\n",
       "      <th>C/N Ratio</th>\n",
       "    </tr>\n",
       "    <tr>\n",
       "      <th>Year</th>\n",
       "      <th></th>\n",
       "      <th></th>\n",
       "      <th></th>\n",
       "      <th></th>\n",
       "      <th></th>\n",
       "      <th></th>\n",
       "    </tr>\n",
       "  </thead>\n",
       "  <tbody>\n",
       "    <tr>\n",
       "      <th>2002</th>\n",
       "      <td>186.111336</td>\n",
       "      <td>5.192308</td>\n",
       "      <td>2.269231</td>\n",
       "      <td>0.555184</td>\n",
       "      <td>0.056675</td>\n",
       "      <td>9.873872</td>\n",
       "    </tr>\n",
       "    <tr>\n",
       "      <th>2007</th>\n",
       "      <td>186.000000</td>\n",
       "      <td>5.196765</td>\n",
       "      <td>2.269542</td>\n",
       "      <td>0.644554</td>\n",
       "      <td>0.056111</td>\n",
       "      <td>11.191059</td>\n",
       "    </tr>\n",
       "    <tr>\n",
       "      <th>2012</th>\n",
       "      <td>185.896831</td>\n",
       "      <td>5.199595</td>\n",
       "      <td>2.270398</td>\n",
       "      <td>0.619814</td>\n",
       "      <td>0.054675</td>\n",
       "      <td>11.216634</td>\n",
       "    </tr>\n",
       "    <tr>\n",
       "      <th>2016</th>\n",
       "      <td>183.597956</td>\n",
       "      <td>5.695060</td>\n",
       "      <td>2.469336</td>\n",
       "      <td>0.559779</td>\n",
       "      <td>0.043070</td>\n",
       "      <td>13.676147</td>\n",
       "    </tr>\n",
       "  </tbody>\n",
       "</table>\n",
       "</div>"
      ],
      "text/plain": [
       "            Plot  CountOfSpecies  CountOfGroup  Carbon(%)  Nitrogen(%)  \\\n",
       "Year                                                                     \n",
       "2002  186.111336        5.192308      2.269231   0.555184     0.056675   \n",
       "2007  186.000000        5.196765      2.269542   0.644554     0.056111   \n",
       "2012  185.896831        5.199595      2.270398   0.619814     0.054675   \n",
       "2016  183.597956        5.695060      2.469336   0.559779     0.043070   \n",
       "\n",
       "      C/N Ratio  \n",
       "Year             \n",
       "2002   9.873872  \n",
       "2007  11.191059  \n",
       "2012  11.216634  \n",
       "2016  13.676147  "
      ]
     },
     "execution_count": 198,
     "metadata": {},
     "output_type": "execute_result"
    }
   ],
   "source": [
    "biocon.groupby('Year').mean()"
   ]
  },
  {
   "cell_type": "markdown",
   "id": "2692ea62-f130-4b30-9708-f527da07cc5d",
   "metadata": {},
   "source": [
    "### The impact of nitrogen and CO2 treatment\n",
    "The plots that received nitrogen treatment, was treated with 34% ammonium nitrate pellets three times per growing season and also 15N enrichement at the time of fertilization three times per growing season. Three of the six rings got CO2 enriched air with a CO2 concentration of 560 ppm, while the ambient level was 368 ppm. This treatment was done using Free Air CO2 Encrichement (FACE) technology.\n",
    "\n",
    "We wanted to see how these treatments impacted the soil levels of nitrogen and carbon."
   ]
  },
  {
   "cell_type": "code",
   "execution_count": 58,
   "id": "210cb6e9-a210-4eb8-90bd-1c4b5c3a6642",
   "metadata": {},
   "outputs": [
    {
     "data": {
      "image/png": "[encoded data removed]",
      "text/plain": [
       "<Figure size 720x288 with 2 Axes>"
      ]
     },
     "metadata": {
      "needs_background": "light"
     },
     "output_type": "display_data"
    }
   ],
   "source": [
    "fig, (ax1,ax2) = plt.subplots(1,2, figsize=(10,4))  # 1 row, 2 columns\n",
    "#biocon.loc[:,['Nitrogen Treatment', 'Nitrogen(%)']].plot(..., ax=ax1)\n",
    "sns.barplot(data = biocon, x=\"Nitrogen Treatment\", y='Nitrogen(%)', ax=ax1)\n",
    "sns.barplot(data = biocon, x=\"CO2 Treatment\", y='Carbon(%)', ax=ax2)\n",
    "plt.suptitle('The impact of nitrogen and CO2 treatment to the soil levels')\n",
    "plt.tight_layout()"
   ]
  },
  {
   "cell_type": "markdown",
   "id": "cce28b3a-bb63-4410-aef1-daaca51e6ac0",
   "metadata": {},
   "source": [
    "As the figure above shows, the impact of the treatments does give a slight difference in the soil levels, but these were not significant. We initially thought this treatment would have a more severe consequence than what we found in our analysis."
   ]
  },
  {
   "cell_type": "code",
   "execution_count": 59,
   "id": "ca6843a9-066a-4b22-a45b-4f454d713bd2",
   "metadata": {},
   "outputs": [
    {
     "data": {
      "text/plain": [
       "<seaborn.axisgrid.FacetGrid at 0x166e8b310>"
      ]
     },
     "execution_count": 59,
     "metadata": {},
     "output_type": "execute_result"
    },
    {
     "data": {
      "image/png": "[encoded data removed]",
      "text/plain": [
       "<Figure size 442.625x360 with 1 Axes>"
      ]
     },
     "metadata": {
      "needs_background": "light"
     },
     "output_type": "display_data"
    }
   ],
   "source": [
    "sns.lmplot(x = \"Nitrogen(%)\", y = \"Carbon(%)\", data = biocon, hue = \"CO2 Treatment\", scatter_kws={\"s\": 1})"
   ]
  },
  {
   "cell_type": "code",
   "execution_count": 60,
   "id": "ec6c5693-745f-4462-8478-459f90a4db88",
   "metadata": {},
   "outputs": [
    {
     "name": "stderr",
     "output_type": "stream",
     "text": [
      "/var/folders/jr/90trlx1148g4hs4p4rs_y01m0000gn/T/ipykernel_14963/4173151406.py:1: FutureWarning: Indexing with multiple keys (implicitly converted to a tuple of keys) will be deprecated, use a list instead.\n",
      "  biocon.groupby(['Ring'])['Carbon(%)', 'Nitrogen(%)', 'CountOfSpecies'].mean()\n"
     ]
    },
    {
     "data": {
      "text/html": [
       "<div>\n",
       "<style scoped>\n",
       "    .dataframe tbody tr th:only-of-type {\n",
       "        vertical-align: middle;\n",
       "    }\n",
       "\n",
       "    .dataframe tbody tr th {\n",
       "        vertical-align: top;\n",
       "    }\n",
       "\n",
       "    .dataframe thead th {\n",
       "        text-align: right;\n",
       "    }\n",
       "</style>\n",
       "<table border=\"1\" class=\"dataframe\">\n",
       "  <thead>\n",
       "    <tr style=\"text-align: right;\">\n",
       "      <th></th>\n",
       "      <th>Carbon(%)</th>\n",
       "      <th>Nitrogen(%)</th>\n",
       "      <th>CountOfSpecies</th>\n",
       "    </tr>\n",
       "    <tr>\n",
       "      <th>Ring</th>\n",
       "      <th></th>\n",
       "      <th></th>\n",
       "      <th></th>\n",
       "    </tr>\n",
       "  </thead>\n",
       "  <tbody>\n",
       "    <tr>\n",
       "      <th></th>\n",
       "      <td>0.590000</td>\n",
       "      <td>0.040000</td>\n",
       "      <td>1.000000</td>\n",
       "    </tr>\n",
       "    <tr>\n",
       "      <th>1</th>\n",
       "      <td>0.552559</td>\n",
       "      <td>0.050253</td>\n",
       "      <td>5.287433</td>\n",
       "    </tr>\n",
       "    <tr>\n",
       "      <th>2</th>\n",
       "      <td>0.525111</td>\n",
       "      <td>0.047015</td>\n",
       "      <td>5.396273</td>\n",
       "    </tr>\n",
       "    <tr>\n",
       "      <th>3</th>\n",
       "      <td>0.655507</td>\n",
       "      <td>0.058390</td>\n",
       "      <td>5.172338</td>\n",
       "    </tr>\n",
       "    <tr>\n",
       "      <th>4</th>\n",
       "      <td>0.612994</td>\n",
       "      <td>0.055072</td>\n",
       "      <td>5.259346</td>\n",
       "    </tr>\n",
       "    <tr>\n",
       "      <th>5</th>\n",
       "      <td>0.607648</td>\n",
       "      <td>0.052645</td>\n",
       "      <td>5.286802</td>\n",
       "    </tr>\n",
       "    <tr>\n",
       "      <th>6</th>\n",
       "      <td>0.646482</td>\n",
       "      <td>0.058146</td>\n",
       "      <td>5.119578</td>\n",
       "    </tr>\n",
       "  </tbody>\n",
       "</table>\n",
       "</div>"
      ],
      "text/plain": [
       "      Carbon(%)  Nitrogen(%)  CountOfSpecies\n",
       "Ring                                        \n",
       "       0.590000     0.040000        1.000000\n",
       "1      0.552559     0.050253        5.287433\n",
       "2      0.525111     0.047015        5.396273\n",
       "3      0.655507     0.058390        5.172338\n",
       "4      0.612994     0.055072        5.259346\n",
       "5      0.607648     0.052645        5.286802\n",
       "6      0.646482     0.058146        5.119578"
      ]
     },
     "execution_count": 60,
     "metadata": {},
     "output_type": "execute_result"
    }
   ],
   "source": [
    "biocon.groupby(['Ring'])['Carbon(%)', 'Nitrogen(%)', 'CountOfSpecies'].mean()"
   ]
  },
  {
   "cell_type": "markdown",
   "id": "5ace374d-1c8d-4e6b-9206-bc5975a1b356",
   "metadata": {},
   "source": [
    "**Temperature Treatment**\n",
    "\n",
    "In the BioCON research experiment, 48 of the plots in the study recieved a temperature treatment of 2 deegrees C meant to represent the minimum warming predicted the next century for Central North America. Therefore, we wanted to check if this treatment had any correlation with the amount of Carbon and Nitrogen in the soil for each plot. All of the 48 plots which recieved the treatment all had the diversity of 9 different species. In order to see if the treatment had any significant effect, we compared the overall mean for the plots affected by temperature treatment with the plot not affected, and found little reason to belive this has a impact."
   ]
  },
  {
   "cell_type": "code",
   "execution_count": 61,
   "id": "f5d69847-c620-48c6-ae95-4357b608a100",
   "metadata": {},
   "outputs": [
    {
     "name": "stderr",
     "output_type": "stream",
     "text": [
      "/var/folders/jr/90trlx1148g4hs4p4rs_y01m0000gn/T/ipykernel_14963/2545590124.py:1: FutureWarning: Indexing with multiple keys (implicitly converted to a tuple of keys) will be deprecated, use a list instead.\n",
      "  biocon[biocon['CountOfSpecies'] == 9].groupby('Temp Treatment')['Carbon(%)', 'Nitrogen(%)'].mean()\n"
     ]
    },
    {
     "data": {
      "text/html": [
       "<div>\n",
       "<style scoped>\n",
       "    .dataframe tbody tr th:only-of-type {\n",
       "        vertical-align: middle;\n",
       "    }\n",
       "\n",
       "    .dataframe tbody tr th {\n",
       "        vertical-align: top;\n",
       "    }\n",
       "\n",
       "    .dataframe thead th {\n",
       "        text-align: right;\n",
       "    }\n",
       "</style>\n",
       "<table border=\"1\" class=\"dataframe\">\n",
       "  <thead>\n",
       "    <tr style=\"text-align: right;\">\n",
       "      <th></th>\n",
       "      <th>Carbon(%)</th>\n",
       "      <th>Nitrogen(%)</th>\n",
       "    </tr>\n",
       "    <tr>\n",
       "      <th>Temp Treatment</th>\n",
       "      <th></th>\n",
       "      <th></th>\n",
       "    </tr>\n",
       "  </thead>\n",
       "  <tbody>\n",
       "    <tr>\n",
       "      <th></th>\n",
       "      <td>0.650152</td>\n",
       "      <td>0.059002</td>\n",
       "    </tr>\n",
       "    <tr>\n",
       "      <th>HTamb</th>\n",
       "      <td>0.679295</td>\n",
       "      <td>0.055624</td>\n",
       "    </tr>\n",
       "    <tr>\n",
       "      <th>HTelv</th>\n",
       "      <td>0.663472</td>\n",
       "      <td>0.054381</td>\n",
       "    </tr>\n",
       "  </tbody>\n",
       "</table>\n",
       "</div>"
      ],
      "text/plain": [
       "                Carbon(%)  Nitrogen(%)\n",
       "Temp Treatment                        \n",
       "                 0.650152     0.059002\n",
       "HTamb            0.679295     0.055624\n",
       "HTelv            0.663472     0.054381"
      ]
     },
     "execution_count": 61,
     "metadata": {},
     "output_type": "execute_result"
    }
   ],
   "source": [
    "biocon[biocon['CountOfSpecies'] == 9].groupby('Temp Treatment')['Carbon(%)', 'Nitrogen(%)'].mean()"
   ]
  },
  {
   "cell_type": "code",
   "execution_count": 62,
   "id": "a62eabe7-27f7-4214-b673-43965843a603",
   "metadata": {},
   "outputs": [
    {
     "name": "stderr",
     "output_type": "stream",
     "text": [
      "/var/folders/jr/90trlx1148g4hs4p4rs_y01m0000gn/T/ipykernel_14963/2658047545.py:1: FutureWarning: Indexing with multiple keys (implicitly converted to a tuple of keys) will be deprecated, use a list instead.\n",
      "  biocon.groupby('Year')['Carbon(%)', 'Nitrogen(%)'].mean()\n"
     ]
    },
    {
     "data": {
      "text/html": [
       "<div>\n",
       "<style scoped>\n",
       "    .dataframe tbody tr th:only-of-type {\n",
       "        vertical-align: middle;\n",
       "    }\n",
       "\n",
       "    .dataframe tbody tr th {\n",
       "        vertical-align: top;\n",
       "    }\n",
       "\n",
       "    .dataframe thead th {\n",
       "        text-align: right;\n",
       "    }\n",
       "</style>\n",
       "<table border=\"1\" class=\"dataframe\">\n",
       "  <thead>\n",
       "    <tr style=\"text-align: right;\">\n",
       "      <th></th>\n",
       "      <th>Carbon(%)</th>\n",
       "      <th>Nitrogen(%)</th>\n",
       "    </tr>\n",
       "    <tr>\n",
       "      <th>Year</th>\n",
       "      <th></th>\n",
       "      <th></th>\n",
       "    </tr>\n",
       "  </thead>\n",
       "  <tbody>\n",
       "    <tr>\n",
       "      <th>2002</th>\n",
       "      <td>0.543568</td>\n",
       "      <td>0.055761</td>\n",
       "    </tr>\n",
       "    <tr>\n",
       "      <th>2007</th>\n",
       "      <td>0.650644</td>\n",
       "      <td>0.057122</td>\n",
       "    </tr>\n",
       "    <tr>\n",
       "      <th>2012</th>\n",
       "      <td>0.620255</td>\n",
       "      <td>0.054683</td>\n",
       "    </tr>\n",
       "    <tr>\n",
       "      <th>2016</th>\n",
       "      <td>0.589565</td>\n",
       "      <td>0.045836</td>\n",
       "    </tr>\n",
       "  </tbody>\n",
       "</table>\n",
       "</div>"
      ],
      "text/plain": [
       "      Carbon(%)  Nitrogen(%)\n",
       "Year                        \n",
       "2002   0.543568     0.055761\n",
       "2007   0.650644     0.057122\n",
       "2012   0.620255     0.054683\n",
       "2016   0.589565     0.045836"
      ]
     },
     "execution_count": 62,
     "metadata": {},
     "output_type": "execute_result"
    }
   ],
   "source": [
    "biocon.groupby('Year')['Carbon(%)', 'Nitrogen(%)'].mean()"
   ]
  },
  {
   "cell_type": "markdown",
   "id": "86ec4191-192a-4242-b7f3-ffc1efaa8388",
   "metadata": {},
   "source": [
    "### Feature Engineering\n",
    "The experiments described above gave us the foundations to confidently select which features we wanted to include in our prediction model. We chose to use the count of species, the different depths, and the one-hot encoded information of which species were included in the different plots to predict the levels of nitrogen and carbon in the soil. While dropping the treatment features, plot, ring, monogroup, monospecies, count of group, experiment as these would not increase the accuracy of the model. We also chose to drop the year attribute, as we wanted to be able to predict future values which would contain years not fitted in the model.\n",
    "\n",
    "##### Count of species\n",
    "As proved in our hypothesis above, this was an obvious choice to include in the fitting of our model.\n",
    "##### Depth\n",
    "As the soil levels decrease at greater depths in the soil, this was valuable to include as a feature.\n",
    "The values were originally encoded as labels depending on which range the samples was collected from, we needed to replace the values in order to fit a regression model. As we had already parsed the numerical values to be able to input into the regression model, and the plot species information was already one-hot encoded when merging. We decided to integer-encode the depth values, as these were categorical variables from before. We discussed the alternative encoding of choosing the average depth of the categorical ranges, but decided that we did not need a continuous variable.\n",
    "##### Species\n",
    "As we wanted to build a model to predict the soil levels of nitrogen and carbon based on the biodiversity, we wanted to include which species were included in the plots. The experiment had available data which were already one hot encoded, meaning that each plant species had a binary (0-1) number indicating if it was present in the plot or not, indexed by the plot. This dataset was merged with the BIOCON dataset before training the regression model, expanding and replacing the purpose of the original monospecies and monogroup column. It was easily available, and there is no ordinal relationship which is why an integer encoding would not be sufficient.\n",
    "\n",
    "##### Features not included\n",
    "\n",
    "Features like index, plot, etc. does not have an impact of the soil levels and are only present as labeling. Therefore, these were removed from the dataset before the fitting of the model. As shown earlier in the analysis, the visualization indicate that there were no big difference between the different treatments and the carbon/nitrogen percent in the soil. We did not use \"Year\" as a feature because we would presumably want to use this model to predict values with data in later years, which would then contain \"Year\" values not used in the fitting of the model."
   ]
  },
  {
   "cell_type": "code",
   "execution_count": 63,
   "id": "f59c3306-bd98-4a3c-a32e-89995a91cad5",
   "metadata": {},
   "outputs": [
    {
     "data": {
      "text/html": [
       "<div>\n",
       "<style scoped>\n",
       "    .dataframe tbody tr th:only-of-type {\n",
       "        vertical-align: middle;\n",
       "    }\n",
       "\n",
       "    .dataframe tbody tr th {\n",
       "        vertical-align: top;\n",
       "    }\n",
       "\n",
       "    .dataframe thead th {\n",
       "        text-align: right;\n",
       "    }\n",
       "</style>\n",
       "<table border=\"1\" class=\"dataframe\">\n",
       "  <thead>\n",
       "    <tr style=\"text-align: right;\">\n",
       "      <th></th>\n",
       "      <th>Plot</th>\n",
       "      <th>CountOfSpecies</th>\n",
       "      <th>Depth</th>\n",
       "      <th>Carbon(%)</th>\n",
       "      <th>Nitrogen(%)</th>\n",
       "      <th>Achillea millefolium</th>\n",
       "      <th>Agropyron repens</th>\n",
       "      <th>Amorpha canescens</th>\n",
       "      <th>Andropogon gerardi</th>\n",
       "      <th>Anemone cylindrica</th>\n",
       "      <th>...</th>\n",
       "      <th>Bouteloua gracilis</th>\n",
       "      <th>Bromus inermis</th>\n",
       "      <th>Koeleria cristata</th>\n",
       "      <th>Lespedeza capitata</th>\n",
       "      <th>Lupinus perennis</th>\n",
       "      <th>Petalostemum villosum</th>\n",
       "      <th>Poa pratensis</th>\n",
       "      <th>Schizachyrium scoparium</th>\n",
       "      <th>Solidago rigida</th>\n",
       "      <th>Sorghastrum nutans</th>\n",
       "    </tr>\n",
       "  </thead>\n",
       "  <tbody>\n",
       "    <tr>\n",
       "      <th>0</th>\n",
       "      <td>1</td>\n",
       "      <td>4</td>\n",
       "      <td>0</td>\n",
       "      <td>0.6180</td>\n",
       "      <td>0.074</td>\n",
       "      <td>1</td>\n",
       "      <td>0</td>\n",
       "      <td>0</td>\n",
       "      <td>0</td>\n",
       "      <td>0</td>\n",
       "      <td>...</td>\n",
       "      <td>0</td>\n",
       "      <td>0</td>\n",
       "      <td>1</td>\n",
       "      <td>0</td>\n",
       "      <td>0</td>\n",
       "      <td>0</td>\n",
       "      <td>1</td>\n",
       "      <td>0</td>\n",
       "      <td>0</td>\n",
       "      <td>0</td>\n",
       "    </tr>\n",
       "    <tr>\n",
       "      <th>1</th>\n",
       "      <td>1</td>\n",
       "      <td>4</td>\n",
       "      <td>0</td>\n",
       "      <td>1.0000</td>\n",
       "      <td>0.077</td>\n",
       "      <td>1</td>\n",
       "      <td>0</td>\n",
       "      <td>0</td>\n",
       "      <td>0</td>\n",
       "      <td>0</td>\n",
       "      <td>...</td>\n",
       "      <td>0</td>\n",
       "      <td>0</td>\n",
       "      <td>1</td>\n",
       "      <td>0</td>\n",
       "      <td>0</td>\n",
       "      <td>0</td>\n",
       "      <td>1</td>\n",
       "      <td>0</td>\n",
       "      <td>0</td>\n",
       "      <td>0</td>\n",
       "    </tr>\n",
       "    <tr>\n",
       "      <th>2</th>\n",
       "      <td>1</td>\n",
       "      <td>4</td>\n",
       "      <td>0</td>\n",
       "      <td>1.0120</td>\n",
       "      <td>0.086</td>\n",
       "      <td>1</td>\n",
       "      <td>0</td>\n",
       "      <td>0</td>\n",
       "      <td>0</td>\n",
       "      <td>0</td>\n",
       "      <td>...</td>\n",
       "      <td>0</td>\n",
       "      <td>0</td>\n",
       "      <td>1</td>\n",
       "      <td>0</td>\n",
       "      <td>0</td>\n",
       "      <td>0</td>\n",
       "      <td>1</td>\n",
       "      <td>0</td>\n",
       "      <td>0</td>\n",
       "      <td>0</td>\n",
       "    </tr>\n",
       "    <tr>\n",
       "      <th>3</th>\n",
       "      <td>1</td>\n",
       "      <td>4</td>\n",
       "      <td>0</td>\n",
       "      <td>0.8600</td>\n",
       "      <td>0.060</td>\n",
       "      <td>1</td>\n",
       "      <td>0</td>\n",
       "      <td>0</td>\n",
       "      <td>0</td>\n",
       "      <td>0</td>\n",
       "      <td>...</td>\n",
       "      <td>0</td>\n",
       "      <td>0</td>\n",
       "      <td>1</td>\n",
       "      <td>0</td>\n",
       "      <td>0</td>\n",
       "      <td>0</td>\n",
       "      <td>1</td>\n",
       "      <td>0</td>\n",
       "      <td>0</td>\n",
       "      <td>0</td>\n",
       "    </tr>\n",
       "    <tr>\n",
       "      <th>4</th>\n",
       "      <td>1</td>\n",
       "      <td>4</td>\n",
       "      <td>1</td>\n",
       "      <td>0.5150</td>\n",
       "      <td>0.057</td>\n",
       "      <td>1</td>\n",
       "      <td>0</td>\n",
       "      <td>0</td>\n",
       "      <td>0</td>\n",
       "      <td>0</td>\n",
       "      <td>...</td>\n",
       "      <td>0</td>\n",
       "      <td>0</td>\n",
       "      <td>1</td>\n",
       "      <td>0</td>\n",
       "      <td>0</td>\n",
       "      <td>0</td>\n",
       "      <td>1</td>\n",
       "      <td>0</td>\n",
       "      <td>0</td>\n",
       "      <td>0</td>\n",
       "    </tr>\n",
       "    <tr>\n",
       "      <th>...</th>\n",
       "      <td>...</td>\n",
       "      <td>...</td>\n",
       "      <td>...</td>\n",
       "      <td>...</td>\n",
       "      <td>...</td>\n",
       "      <td>...</td>\n",
       "      <td>...</td>\n",
       "      <td>...</td>\n",
       "      <td>...</td>\n",
       "      <td>...</td>\n",
       "      <td>...</td>\n",
       "      <td>...</td>\n",
       "      <td>...</td>\n",
       "      <td>...</td>\n",
       "      <td>...</td>\n",
       "      <td>...</td>\n",
       "      <td>...</td>\n",
       "      <td>...</td>\n",
       "      <td>...</td>\n",
       "      <td>...</td>\n",
       "      <td>...</td>\n",
       "    </tr>\n",
       "    <tr>\n",
       "      <th>4957</th>\n",
       "      <td>343</td>\n",
       "      <td>1</td>\n",
       "      <td>2</td>\n",
       "      <td>0.5040</td>\n",
       "      <td>0.042</td>\n",
       "      <td>0</td>\n",
       "      <td>0</td>\n",
       "      <td>0</td>\n",
       "      <td>1</td>\n",
       "      <td>0</td>\n",
       "      <td>...</td>\n",
       "      <td>0</td>\n",
       "      <td>0</td>\n",
       "      <td>0</td>\n",
       "      <td>0</td>\n",
       "      <td>0</td>\n",
       "      <td>0</td>\n",
       "      <td>0</td>\n",
       "      <td>0</td>\n",
       "      <td>0</td>\n",
       "      <td>0</td>\n",
       "    </tr>\n",
       "    <tr>\n",
       "      <th>4958</th>\n",
       "      <td>343</td>\n",
       "      <td>1</td>\n",
       "      <td>2</td>\n",
       "      <td>0.5240</td>\n",
       "      <td>0.047</td>\n",
       "      <td>0</td>\n",
       "      <td>0</td>\n",
       "      <td>0</td>\n",
       "      <td>1</td>\n",
       "      <td>0</td>\n",
       "      <td>...</td>\n",
       "      <td>0</td>\n",
       "      <td>0</td>\n",
       "      <td>0</td>\n",
       "      <td>0</td>\n",
       "      <td>0</td>\n",
       "      <td>0</td>\n",
       "      <td>0</td>\n",
       "      <td>0</td>\n",
       "      <td>0</td>\n",
       "      <td>0</td>\n",
       "    </tr>\n",
       "    <tr>\n",
       "      <th>4959</th>\n",
       "      <td>343</td>\n",
       "      <td>1</td>\n",
       "      <td>2</td>\n",
       "      <td>0.4510</td>\n",
       "      <td>0.036</td>\n",
       "      <td>0</td>\n",
       "      <td>0</td>\n",
       "      <td>0</td>\n",
       "      <td>1</td>\n",
       "      <td>0</td>\n",
       "      <td>...</td>\n",
       "      <td>0</td>\n",
       "      <td>0</td>\n",
       "      <td>0</td>\n",
       "      <td>0</td>\n",
       "      <td>0</td>\n",
       "      <td>0</td>\n",
       "      <td>0</td>\n",
       "      <td>0</td>\n",
       "      <td>0</td>\n",
       "      <td>0</td>\n",
       "    </tr>\n",
       "    <tr>\n",
       "      <th>4960</th>\n",
       "      <td>343</td>\n",
       "      <td>1</td>\n",
       "      <td>3</td>\n",
       "      <td>0.3389</td>\n",
       "      <td>0.049</td>\n",
       "      <td>0</td>\n",
       "      <td>0</td>\n",
       "      <td>0</td>\n",
       "      <td>1</td>\n",
       "      <td>0</td>\n",
       "      <td>...</td>\n",
       "      <td>0</td>\n",
       "      <td>0</td>\n",
       "      <td>0</td>\n",
       "      <td>0</td>\n",
       "      <td>0</td>\n",
       "      <td>0</td>\n",
       "      <td>0</td>\n",
       "      <td>0</td>\n",
       "      <td>0</td>\n",
       "      <td>0</td>\n",
       "    </tr>\n",
       "    <tr>\n",
       "      <th>4961</th>\n",
       "      <td>343</td>\n",
       "      <td>1</td>\n",
       "      <td>3</td>\n",
       "      <td>0.4690</td>\n",
       "      <td>0.040</td>\n",
       "      <td>0</td>\n",
       "      <td>0</td>\n",
       "      <td>0</td>\n",
       "      <td>1</td>\n",
       "      <td>0</td>\n",
       "      <td>...</td>\n",
       "      <td>0</td>\n",
       "      <td>0</td>\n",
       "      <td>0</td>\n",
       "      <td>0</td>\n",
       "      <td>0</td>\n",
       "      <td>0</td>\n",
       "      <td>0</td>\n",
       "      <td>0</td>\n",
       "      <td>0</td>\n",
       "      <td>0</td>\n",
       "    </tr>\n",
       "  </tbody>\n",
       "</table>\n",
       "<p>4962 rows × 21 columns</p>\n",
       "</div>"
      ],
      "text/plain": [
       "      Plot  CountOfSpecies  Depth  Carbon(%)  Nitrogen(%)  \\\n",
       "0        1               4      0     0.6180        0.074   \n",
       "1        1               4      0     1.0000        0.077   \n",
       "2        1               4      0     1.0120        0.086   \n",
       "3        1               4      0     0.8600        0.060   \n",
       "4        1               4      1     0.5150        0.057   \n",
       "...    ...             ...    ...        ...          ...   \n",
       "4957   343               1      2     0.5040        0.042   \n",
       "4958   343               1      2     0.5240        0.047   \n",
       "4959   343               1      2     0.4510        0.036   \n",
       "4960   343               1      3     0.3389        0.049   \n",
       "4961   343               1      3     0.4690        0.040   \n",
       "\n",
       "      Achillea millefolium  Agropyron repens  Amorpha canescens  \\\n",
       "0                        1                 0                  0   \n",
       "1                        1                 0                  0   \n",
       "2                        1                 0                  0   \n",
       "3                        1                 0                  0   \n",
       "4                        1                 0                  0   \n",
       "...                    ...               ...                ...   \n",
       "4957                     0                 0                  0   \n",
       "4958                     0                 0                  0   \n",
       "4959                     0                 0                  0   \n",
       "4960                     0                 0                  0   \n",
       "4961                     0                 0                  0   \n",
       "\n",
       "      Andropogon gerardi  Anemone cylindrica  ...  Bouteloua gracilis  \\\n",
       "0                      0                   0  ...                   0   \n",
       "1                      0                   0  ...                   0   \n",
       "2                      0                   0  ...                   0   \n",
       "3                      0                   0  ...                   0   \n",
       "4                      0                   0  ...                   0   \n",
       "...                  ...                 ...  ...                 ...   \n",
       "4957                   1                   0  ...                   0   \n",
       "4958                   1                   0  ...                   0   \n",
       "4959                   1                   0  ...                   0   \n",
       "4960                   1                   0  ...                   0   \n",
       "4961                   1                   0  ...                   0   \n",
       "\n",
       "      Bromus inermis  Koeleria cristata  Lespedeza capitata  Lupinus perennis  \\\n",
       "0                  0                  1                   0                 0   \n",
       "1                  0                  1                   0                 0   \n",
       "2                  0                  1                   0                 0   \n",
       "3                  0                  1                   0                 0   \n",
       "4                  0                  1                   0                 0   \n",
       "...              ...                ...                 ...               ...   \n",
       "4957               0                  0                   0                 0   \n",
       "4958               0                  0                   0                 0   \n",
       "4959               0                  0                   0                 0   \n",
       "4960               0                  0                   0                 0   \n",
       "4961               0                  0                   0                 0   \n",
       "\n",
       "      Petalostemum villosum  Poa pratensis  Schizachyrium scoparium  \\\n",
       "0                         0              1                        0   \n",
       "1                         0              1                        0   \n",
       "2                         0              1                        0   \n",
       "3                         0              1                        0   \n",
       "4                         0              1                        0   \n",
       "...                     ...            ...                      ...   \n",
       "4957                      0              0                        0   \n",
       "4958                      0              0                        0   \n",
       "4959                      0              0                        0   \n",
       "4960                      0              0                        0   \n",
       "4961                      0              0                        0   \n",
       "\n",
       "      Solidago rigida  Sorghastrum nutans  \n",
       "0                   0                   0  \n",
       "1                   0                   0  \n",
       "2                   0                   0  \n",
       "3                   0                   0  \n",
       "4                   0                   0  \n",
       "...               ...                 ...  \n",
       "4957                0                   0  \n",
       "4958                0                   0  \n",
       "4959                0                   0  \n",
       "4960                0                   0  \n",
       "4961                0                   0  \n",
       "\n",
       "[4962 rows x 21 columns]"
      ]
     },
     "execution_count": 63,
     "metadata": {},
     "output_type": "execute_result"
    }
   ],
   "source": [
    "total = pd.merge(biocon, species, on='Plot')\n",
    "total = total.drop(columns = ['Ring_x','CO2 Treatment', 'Nitrogen Treatment', 'Experiment', 'monospecies',\n",
    "                              'Monogroup', 'Water Treatment', 'Temp Treatment', 'CountOfGroup', 'Ring_y', 'C/N Ratio', 'Year'])\n",
    "total['Depth'].replace(['0-10','10-20','20-40', '40-60'], [0,1,2,3], inplace=True)\n",
    "total"
   ]
  },
  {
   "cell_type": "code",
   "execution_count": 64,
   "id": "2d1c80a3-79e2-44bd-894d-06f91c6decf5",
   "metadata": {},
   "outputs": [
    {
     "data": {
      "text/plain": [
       "Plot                         int64\n",
       "CountOfSpecies               int64\n",
       "Depth                        int64\n",
       "Carbon(%)                  float64\n",
       "Nitrogen(%)                float64\n",
       "Achillea millefolium         int64\n",
       "Agropyron repens             int64\n",
       "Amorpha canescens            int64\n",
       "Andropogon gerardi           int64\n",
       "Anemone cylindrica           int64\n",
       "Asclepias tuberosa           int64\n",
       "Bouteloua gracilis           int64\n",
       "Bromus inermis               int64\n",
       "Koeleria cristata            int64\n",
       "Lespedeza capitata           int64\n",
       "Lupinus perennis             int64\n",
       "Petalostemum villosum        int64\n",
       "Poa pratensis                int64\n",
       "Schizachyrium scoparium      int64\n",
       "Solidago rigida              int64\n",
       "Sorghastrum nutans           int64\n",
       "dtype: object"
      ]
     },
     "execution_count": 64,
     "metadata": {},
     "output_type": "execute_result"
    }
   ],
   "source": [
    "total.dtypes"
   ]
  },
  {
   "cell_type": "markdown",
   "id": "f0fc8315-2c6c-405c-818d-c6a235cb780c",
   "metadata": {},
   "source": [
    "# Data modeling and inferences"
   ]
  },
  {
   "cell_type": "markdown",
   "id": "2d5d9776-e1e3-44fa-a69a-79ad948102fe",
   "metadata": {},
   "source": [
    "Here are a few components your notebook must address if your focus is on modeling:\n",
    "* What type of machine learning problem are you investigating? \n",
    "* What model do you plan on using and why? \n",
    "* Does your model require hyperparameter tuning? If so, how do you approach it? \n",
    "* How do you engineer the features for your model? What are the rationales behind selecting these features? \n",
    "* How do you perform cross validation on your model? \n",
    "* What loss metrics are you using to evaluate your model? \n",
    "* From a bias-variance tradeoff standpoint, how do you assess the performance of your model? \n",
    "* How do you check if it is overfitting? \n",
    "* How would you improve your model based on the outcome?\n",
    "\n",
    "If you are choosing to pursue your research question from an inference angle\n",
    "* Your notebook must demonstrate sufficient analysis and visualization to support your conclusion.\n",
    "* You must have a clearly constructed hypothesis test (including a clearly defined test statistic, significance level, and justification of chosen procedure)\n",
    "* We will not restrict you to the type of statistical test you conduct as there are many different statistical techniques that may apply to your case. However, we also ask that you provide detailed justification for the techniques you choose and how it allows you make those inferences."
   ]
  },
  {
   "cell_type": "markdown",
   "id": "71d2af79-4f0e-411e-a2b2-565b700e660d",
   "metadata": {},
   "source": [
    "We used a linear regression model with cross validation, splitting the dataset into 80% training data and keeping 20% as a validation set. The dataset was shuffled before the split, so the sampling would be random to not give an ordering error in the fitting and testing. To measure the performance of the model, we used the RMSE (Root Mean Squared Error) metric. RMSE is known to be less robust to outliers as it gives higher weights to large errors. It is a very common metric when evaluating regression models as it is a good general purpose error metric."
   ]
  },
  {
   "cell_type": "code",
   "execution_count": null,
   "id": "d892f760-60f0-4773-be2d-be985a182390",
   "metadata": {},
   "outputs": [
    {
     "data": {
      "text/html": [
       "<div>\n",
       "<style scoped>\n",
       "    .dataframe tbody tr th:only-of-type {\n",
       "        vertical-align: middle;\n",
       "    }\n",
       "\n",
       "    .dataframe tbody tr th {\n",
       "        vertical-align: top;\n",
       "    }\n",
       "\n",
       "    .dataframe thead th {\n",
       "        text-align: right;\n",
       "    }\n",
       "</style>\n",
       "<table border=\"1\" class=\"dataframe\">\n",
       "  <thead>\n",
       "    <tr style=\"text-align: right;\">\n",
       "      <th></th>\n",
       "      <th>Year</th>\n",
       "      <th>Plot</th>\n",
       "      <th>Ring</th>\n",
       "      <th>CO2 Treatment</th>\n",
       "      <th>Nitrogen Treatment</th>\n",
       "      <th>CountOfSpecies</th>\n",
       "      <th>CountOfGroup</th>\n",
       "      <th>Experiment</th>\n",
       "      <th>monospecies</th>\n",
       "      <th>Monogroup</th>\n",
       "      <th>Water Treatment</th>\n",
       "      <th>Temp Treatment</th>\n",
       "      <th>Depth</th>\n",
       "      <th>Carbon(%)</th>\n",
       "      <th>Nitrogen(%)</th>\n",
       "      <th>C/N Ratio</th>\n",
       "    </tr>\n",
       "  </thead>\n",
       "  <tbody>\n",
       "    <tr>\n",
       "      <th>0</th>\n",
       "      <td>2002</td>\n",
       "      <td>1</td>\n",
       "      <td>1</td>\n",
       "      <td>Cenrich</td>\n",
       "      <td>Namb</td>\n",
       "      <td>4</td>\n",
       "      <td>2</td>\n",
       "      <td>M</td>\n",
       "      <td></td>\n",
       "      <td></td>\n",
       "      <td></td>\n",
       "      <td></td>\n",
       "      <td>0-10</td>\n",
       "      <td>0.618</td>\n",
       "      <td>0.074</td>\n",
       "      <td>8.351351351</td>\n",
       "    </tr>\n",
       "    <tr>\n",
       "      <th>1</th>\n",
       "      <td>2002</td>\n",
       "      <td>1</td>\n",
       "      <td>1</td>\n",
       "      <td>Cenrich</td>\n",
       "      <td>Namb</td>\n",
       "      <td>4</td>\n",
       "      <td>2</td>\n",
       "      <td>M</td>\n",
       "      <td></td>\n",
       "      <td></td>\n",
       "      <td></td>\n",
       "      <td></td>\n",
       "      <td>10-20</td>\n",
       "      <td>0.515</td>\n",
       "      <td>0.057</td>\n",
       "      <td>9.035087719</td>\n",
       "    </tr>\n",
       "    <tr>\n",
       "      <th>2</th>\n",
       "      <td>2002</td>\n",
       "      <td>1</td>\n",
       "      <td>1</td>\n",
       "      <td>Cenrich</td>\n",
       "      <td>Namb</td>\n",
       "      <td>4</td>\n",
       "      <td>2</td>\n",
       "      <td>M</td>\n",
       "      <td></td>\n",
       "      <td></td>\n",
       "      <td></td>\n",
       "      <td></td>\n",
       "      <td>20-40</td>\n",
       "      <td>0.142</td>\n",
       "      <td>0.023</td>\n",
       "      <td>6.173913043</td>\n",
       "    </tr>\n",
       "    <tr>\n",
       "      <th>3</th>\n",
       "      <td>2002</td>\n",
       "      <td>1</td>\n",
       "      <td>1</td>\n",
       "      <td>Cenrich</td>\n",
       "      <td>Namb</td>\n",
       "      <td>4</td>\n",
       "      <td>2</td>\n",
       "      <td>M</td>\n",
       "      <td></td>\n",
       "      <td></td>\n",
       "      <td></td>\n",
       "      <td></td>\n",
       "      <td>40-60</td>\n",
       "      <td>0.132</td>\n",
       "      <td>0.016</td>\n",
       "      <td>8.25</td>\n",
       "    </tr>\n",
       "    <tr>\n",
       "      <th>4</th>\n",
       "      <td>2002</td>\n",
       "      <td>2</td>\n",
       "      <td>1</td>\n",
       "      <td>Cenrich</td>\n",
       "      <td>Namb</td>\n",
       "      <td>1</td>\n",
       "      <td>1</td>\n",
       "      <td>M</td>\n",
       "      <td>Bouteloua gracilis</td>\n",
       "      <td>C-4</td>\n",
       "      <td></td>\n",
       "      <td></td>\n",
       "      <td>0-10</td>\n",
       "      <td>0.55</td>\n",
       "      <td>0.07</td>\n",
       "      <td>7.857142857</td>\n",
       "    </tr>\n",
       "  </tbody>\n",
       "</table>\n",
       "</div>"
      ],
      "text/plain": [
       "   Year  Plot Ring CO2 Treatment Nitrogen Treatment  CountOfSpecies  \\\n",
       "0  2002     1    1       Cenrich               Namb               4   \n",
       "1  2002     1    1       Cenrich               Namb               4   \n",
       "2  2002     1    1       Cenrich               Namb               4   \n",
       "3  2002     1    1       Cenrich               Namb               4   \n",
       "4  2002     2    1       Cenrich               Namb               1   \n",
       "\n",
       "   CountOfGroup Experiment         monospecies Monogroup Water Treatment  \\\n",
       "0             2          M                                                 \n",
       "1             2          M                                                 \n",
       "2             2          M                                                 \n",
       "3             2          M                                                 \n",
       "4             1          M  Bouteloua gracilis       C-4                   \n",
       "\n",
       "  Temp Treatment  Depth Carbon(%) Nitrogen(%)    C/N Ratio  \n",
       "0                  0-10     0.618       0.074  8.351351351  \n",
       "1                 10-20     0.515       0.057  9.035087719  \n",
       "2                 20-40     0.142       0.023  6.173913043  \n",
       "3                 40-60     0.132       0.016         8.25  \n",
       "4                  0-10      0.55        0.07  7.857142857  "
      ]
     },
     "execution_count": 59,
     "metadata": {},
     "output_type": "execute_result"
    }
   ],
   "source": [
    "biocon.head()"
   ]
  },
  {
   "cell_type": "markdown",
   "id": "2b1f2eb5-4f2c-41fa-ab0f-2f047b5be367",
   "metadata": {},
   "source": [
    "Write something more about the training process etc.\n",
    "\n",
    "### Cross validation\n",
    "We separated the dataset into a training set and validation/ test set. The split was done in 80% training and the rest as the validation.\n"
   ]
  },
  {
   "cell_type": "code",
   "execution_count": 71,
   "id": "471e45e8-536a-4d76-a6f2-3734581f6817",
   "metadata": {},
   "outputs": [
    {
     "data": {
      "text/plain": [
       "numpy.float64"
      ]
     },
     "execution_count": 71,
     "metadata": {},
     "output_type": "execute_result"
    }
   ],
   "source": [
    "np.random.seed(1337)\n",
    "\n",
    "def train_test_split(data):\n",
    "    lenght = data.shape[0]\n",
    "    shuffled_indices = np.random.permutation(lenght)\n",
    "    \n",
    "    train_indices = np.array(shuffled_indices[:int(lenght*0.8)])\n",
    "    test_indices = np.array(shuffled_indices[int(lenght*0.8):])\n",
    "    train = data.iloc[train_indices]\n",
    "    test = data.iloc[test_indices]\n",
    "    return train, test\n",
    "    \n",
    "train, test = train_test_split(total)\n",
    "\n",
    "Xtrain = train.drop(columns=['Carbon(%)']).to_numpy()\n",
    "ytrain = train.loc[:, 'Carbon(%)'].to_numpy()\n",
    "\n",
    "Xtest = test.drop(columns=['Carbon(%)']).to_numpy()\n",
    "ytest = test.loc[:, 'Carbon(%)'].to_numpy()\n",
    "\n",
    "\n",
    "linear_model = lm.LinearRegression(fit_intercept=True)\n",
    "type(ytrain[0])"
   ]
  },
  {
   "cell_type": "code",
   "execution_count": 66,
   "id": "d67a4b98-4d52-471d-a3c3-3aa98ce92e03",
   "metadata": {},
   "outputs": [],
   "source": [
    "# Fit the 1st model\n",
    "# Compute the fitted and predicted values of Log Sale Price for 1st model\n",
    "linear_model.fit(Xtrain, ytrain)\n",
    "y_fitted = linear_model.predict(Xtrain)\n",
    "y_predicted = linear_model.predict(Xtest)"
   ]
  },
  {
   "cell_type": "markdown",
   "id": "d7d1f47f-d2a9-4e2e-ae4f-9a73cb15c621",
   "metadata": {},
   "source": [
    "### Measuring error\n",
    "To evaluate our model, we used the rmse (Root Mean Squared Error) performance metric.\n",
    "* **Why did we choose this?**"
   ]
  },
  {
   "cell_type": "code",
   "execution_count": 67,
   "id": "d53a1088-e6c6-48ed-859a-434ad421827a",
   "metadata": {},
   "outputs": [],
   "source": [
    "def rmse(predicted, actual):\n",
    "    return np.sqrt(np.mean((actual - predicted)**2))"
   ]
  },
  {
   "cell_type": "code",
   "execution_count": 68,
   "id": "dba31197-12fb-4a49-baf4-3483f1b08116",
   "metadata": {},
   "outputs": [
    {
     "name": "stdout",
     "output_type": "stream",
     "text": [
      "1st Model\n",
      "Training RMSE: 0.09372001954939153\n",
      "Test RMSE: 0.09106098589248408\n",
      "\n"
     ]
    }
   ],
   "source": [
    "# Training and test errors for the 1st model\n",
    "training_error_m1 = rmse(y_fitted, ytrain)\n",
    "test_error_m1 = rmse(y_predicted, ytest)\n",
    "\n",
    "print(\"1st Model\\nTraining RMSE: {}\\nTest RMSE: {}\\n\".format(training_error_m1, test_error_m1))"
   ]
  },
  {
   "cell_type": "code",
   "execution_count": null,
   "id": "642f19f2-f786-469b-b3fb-7f8e3e2902ee",
   "metadata": {},
   "outputs": [
    {
     "data": {
      "text/plain": [
       "[<matplotlib.lines.Line2D at 0x2b5535090>]"
      ]
     },
     "execution_count": 242,
     "metadata": {},
     "output_type": "execute_result"
    },
    {
     "data": {
      "image/png": "[encoded data removed]",
      "text/plain": [
       "<Figure size 720x504 with 1 Axes>"
      ]
     },
     "metadata": {
      "needs_background": "light"
     },
     "output_type": "display_data"
    }
   ],
   "source": [
    "x1, y1 = y_fitted, ytrain\n",
    "x2, y2 = y_predicted, ytest\n",
    "\n",
    "plt.figure(figsize=(10,7))\n",
    "plt.scatter(x1, y1, alpha=0.8, linewidth=0.5, s=3)\n",
    "plt.scatter(x2, y2, alpha=0.8, linewidth=0.5, s=3)\n",
    "\n",
    "m1, b1 = np.polyfit(x1, y1, 1)\n",
    "m2, b2 = np.polyfit(x2, y2, 1)\n",
    "\n",
    "#add linear regression line to scatterplot \n",
    "plt.plot(x1, m1*x1+b1, color='red')\n",
    "plt.plot(x2, m2*x2+b2, color='orange')"
   ]
  },
  {
   "cell_type": "markdown",
   "id": "9ff55153-126d-43b0-9be5-2ac760017b7a",
   "metadata": {},
   "source": [
    "### Bias-variance tradeoff\n",
    "What do we think of our result?\n",
    "\n",
    "https://stats.stackexchange.com/questions/187335/validation-error-less-than-training-error\n",
    "\n",
    "This result says that we are ‘better’ at predicting the unknown values than the learned values, which does not make sense in the machine learning essence of predicting the unknown. This is a flag indicating that the data splitting method might need to be re-evaluated. \n",
    "\n",
    "This also indicates that there is a sampling bias in our test set, as the test cases was easily predicted by the model and is probably similar values to those it has been trained on.\n",
    "\n",
    "Both of the values are very low, and are quite similar, this means that the model has a good fit as it can replicate the validation data.\n",
    "\n",
    "If your test error is less than the training error, this means that there is a sampling bias in your test. (link)"
   ]
  },
  {
   "cell_type": "code",
   "execution_count": null,
   "id": "8fec72e6-641d-4b9e-b838-ea9e837ec0ca",
   "metadata": {},
   "outputs": [
    {
     "data": {
      "text/html": [
       "<div>\n",
       "<style scoped>\n",
       "    .dataframe tbody tr th:only-of-type {\n",
       "        vertical-align: middle;\n",
       "    }\n",
       "\n",
       "    .dataframe tbody tr th {\n",
       "        vertical-align: top;\n",
       "    }\n",
       "\n",
       "    .dataframe thead th {\n",
       "        text-align: right;\n",
       "    }\n",
       "</style>\n",
       "<table border=\"1\" class=\"dataframe\">\n",
       "  <thead>\n",
       "    <tr style=\"text-align: right;\">\n",
       "      <th></th>\n",
       "      <th>Plot</th>\n",
       "      <th>CountOfSpecies</th>\n",
       "      <th>Carbon(%)</th>\n",
       "      <th>Nitrogen(%)</th>\n",
       "      <th>Achillea millefolium</th>\n",
       "      <th>Agropyron repens</th>\n",
       "      <th>Amorpha canescens</th>\n",
       "      <th>Andropogon gerardi</th>\n",
       "      <th>Anemone cylindrica</th>\n",
       "      <th>Asclepias tuberosa</th>\n",
       "      <th>Bouteloua gracilis</th>\n",
       "      <th>Bromus inermis</th>\n",
       "      <th>Koeleria cristata</th>\n",
       "      <th>Lespedeza capitata</th>\n",
       "      <th>Lupinus perennis</th>\n",
       "      <th>Petalostemum villosum</th>\n",
       "      <th>Poa pratensis</th>\n",
       "      <th>Schizachyrium scoparium</th>\n",
       "      <th>Solidago rigida</th>\n",
       "      <th>Sorghastrum nutans</th>\n",
       "    </tr>\n",
       "  </thead>\n",
       "  <tbody>\n",
       "    <tr>\n",
       "      <th>3372</th>\n",
       "      <td>223</td>\n",
       "      <td>1</td>\n",
       "      <td>0.5713</td>\n",
       "      <td>0.0532</td>\n",
       "      <td>1</td>\n",
       "      <td>0</td>\n",
       "      <td>0</td>\n",
       "      <td>0</td>\n",
       "      <td>0</td>\n",
       "      <td>0</td>\n",
       "      <td>0</td>\n",
       "      <td>0</td>\n",
       "      <td>0</td>\n",
       "      <td>0</td>\n",
       "      <td>0</td>\n",
       "      <td>0</td>\n",
       "      <td>0</td>\n",
       "      <td>0</td>\n",
       "      <td>0</td>\n",
       "      <td>0</td>\n",
       "    </tr>\n",
       "    <tr>\n",
       "      <th>610</th>\n",
       "      <td>41</td>\n",
       "      <td>4</td>\n",
       "      <td>0.5450</td>\n",
       "      <td>0.0520</td>\n",
       "      <td>0</td>\n",
       "      <td>1</td>\n",
       "      <td>0</td>\n",
       "      <td>0</td>\n",
       "      <td>0</td>\n",
       "      <td>0</td>\n",
       "      <td>0</td>\n",
       "      <td>1</td>\n",
       "      <td>1</td>\n",
       "      <td>0</td>\n",
       "      <td>0</td>\n",
       "      <td>0</td>\n",
       "      <td>1</td>\n",
       "      <td>0</td>\n",
       "      <td>0</td>\n",
       "      <td>0</td>\n",
       "    </tr>\n",
       "    <tr>\n",
       "      <th>5385</th>\n",
       "      <td>355</td>\n",
       "      <td>16</td>\n",
       "      <td>0.7124</td>\n",
       "      <td>0.0665</td>\n",
       "      <td>1</td>\n",
       "      <td>1</td>\n",
       "      <td>1</td>\n",
       "      <td>1</td>\n",
       "      <td>1</td>\n",
       "      <td>1</td>\n",
       "      <td>1</td>\n",
       "      <td>1</td>\n",
       "      <td>1</td>\n",
       "      <td>1</td>\n",
       "      <td>1</td>\n",
       "      <td>1</td>\n",
       "      <td>1</td>\n",
       "      <td>1</td>\n",
       "      <td>1</td>\n",
       "      <td>1</td>\n",
       "    </tr>\n",
       "    <tr>\n",
       "      <th>2011</th>\n",
       "      <td>133</td>\n",
       "      <td>9</td>\n",
       "      <td>0.6530</td>\n",
       "      <td>0.0520</td>\n",
       "      <td>1</td>\n",
       "      <td>0</td>\n",
       "      <td>0</td>\n",
       "      <td>0</td>\n",
       "      <td>0</td>\n",
       "      <td>0</td>\n",
       "      <td>1</td>\n",
       "      <td>1</td>\n",
       "      <td>1</td>\n",
       "      <td>0</td>\n",
       "      <td>0</td>\n",
       "      <td>1</td>\n",
       "      <td>1</td>\n",
       "      <td>1</td>\n",
       "      <td>1</td>\n",
       "      <td>1</td>\n",
       "    </tr>\n",
       "    <tr>\n",
       "      <th>2258</th>\n",
       "      <td>149</td>\n",
       "      <td>9</td>\n",
       "      <td>0.6030</td>\n",
       "      <td>0.0660</td>\n",
       "      <td>0</td>\n",
       "      <td>1</td>\n",
       "      <td>1</td>\n",
       "      <td>1</td>\n",
       "      <td>0</td>\n",
       "      <td>0</td>\n",
       "      <td>0</td>\n",
       "      <td>0</td>\n",
       "      <td>1</td>\n",
       "      <td>1</td>\n",
       "      <td>1</td>\n",
       "      <td>0</td>\n",
       "      <td>0</td>\n",
       "      <td>1</td>\n",
       "      <td>1</td>\n",
       "      <td>1</td>\n",
       "    </tr>\n",
       "    <tr>\n",
       "      <th>...</th>\n",
       "      <td>...</td>\n",
       "      <td>...</td>\n",
       "      <td>...</td>\n",
       "      <td>...</td>\n",
       "      <td>...</td>\n",
       "      <td>...</td>\n",
       "      <td>...</td>\n",
       "      <td>...</td>\n",
       "      <td>...</td>\n",
       "      <td>...</td>\n",
       "      <td>...</td>\n",
       "      <td>...</td>\n",
       "      <td>...</td>\n",
       "      <td>...</td>\n",
       "      <td>...</td>\n",
       "      <td>...</td>\n",
       "      <td>...</td>\n",
       "      <td>...</td>\n",
       "      <td>...</td>\n",
       "      <td>...</td>\n",
       "    </tr>\n",
       "    <tr>\n",
       "      <th>3578</th>\n",
       "      <td>236</td>\n",
       "      <td>16</td>\n",
       "      <td>0.9549</td>\n",
       "      <td>0.0784</td>\n",
       "      <td>1</td>\n",
       "      <td>1</td>\n",
       "      <td>1</td>\n",
       "      <td>1</td>\n",
       "      <td>1</td>\n",
       "      <td>1</td>\n",
       "      <td>1</td>\n",
       "      <td>1</td>\n",
       "      <td>1</td>\n",
       "      <td>1</td>\n",
       "      <td>1</td>\n",
       "      <td>1</td>\n",
       "      <td>1</td>\n",
       "      <td>1</td>\n",
       "      <td>1</td>\n",
       "      <td>1</td>\n",
       "    </tr>\n",
       "    <tr>\n",
       "      <th>3582</th>\n",
       "      <td>236</td>\n",
       "      <td>16</td>\n",
       "      <td>1.2620</td>\n",
       "      <td>0.1010</td>\n",
       "      <td>1</td>\n",
       "      <td>1</td>\n",
       "      <td>1</td>\n",
       "      <td>1</td>\n",
       "      <td>1</td>\n",
       "      <td>1</td>\n",
       "      <td>1</td>\n",
       "      <td>1</td>\n",
       "      <td>1</td>\n",
       "      <td>1</td>\n",
       "      <td>1</td>\n",
       "      <td>1</td>\n",
       "      <td>1</td>\n",
       "      <td>1</td>\n",
       "      <td>1</td>\n",
       "      <td>1</td>\n",
       "    </tr>\n",
       "    <tr>\n",
       "      <th>1279</th>\n",
       "      <td>85</td>\n",
       "      <td>4</td>\n",
       "      <td>0.5230</td>\n",
       "      <td>0.0450</td>\n",
       "      <td>0</td>\n",
       "      <td>0</td>\n",
       "      <td>1</td>\n",
       "      <td>0</td>\n",
       "      <td>0</td>\n",
       "      <td>0</td>\n",
       "      <td>1</td>\n",
       "      <td>0</td>\n",
       "      <td>0</td>\n",
       "      <td>1</td>\n",
       "      <td>0</td>\n",
       "      <td>0</td>\n",
       "      <td>0</td>\n",
       "      <td>0</td>\n",
       "      <td>0</td>\n",
       "      <td>1</td>\n",
       "    </tr>\n",
       "    <tr>\n",
       "      <th>1735</th>\n",
       "      <td>115</td>\n",
       "      <td>1</td>\n",
       "      <td>0.6650</td>\n",
       "      <td>0.0510</td>\n",
       "      <td>0</td>\n",
       "      <td>0</td>\n",
       "      <td>0</td>\n",
       "      <td>0</td>\n",
       "      <td>0</td>\n",
       "      <td>0</td>\n",
       "      <td>0</td>\n",
       "      <td>0</td>\n",
       "      <td>0</td>\n",
       "      <td>0</td>\n",
       "      <td>0</td>\n",
       "      <td>0</td>\n",
       "      <td>1</td>\n",
       "      <td>0</td>\n",
       "      <td>0</td>\n",
       "      <td>0</td>\n",
       "    </tr>\n",
       "    <tr>\n",
       "      <th>123</th>\n",
       "      <td>9</td>\n",
       "      <td>4</td>\n",
       "      <td>0.1960</td>\n",
       "      <td>0.0410</td>\n",
       "      <td>0</td>\n",
       "      <td>1</td>\n",
       "      <td>0</td>\n",
       "      <td>0</td>\n",
       "      <td>0</td>\n",
       "      <td>0</td>\n",
       "      <td>0</td>\n",
       "      <td>1</td>\n",
       "      <td>1</td>\n",
       "      <td>0</td>\n",
       "      <td>0</td>\n",
       "      <td>0</td>\n",
       "      <td>1</td>\n",
       "      <td>0</td>\n",
       "      <td>0</td>\n",
       "      <td>0</td>\n",
       "    </tr>\n",
       "  </tbody>\n",
       "</table>\n",
       "<p>4498 rows × 20 columns</p>\n",
       "</div>"
      ],
      "text/plain": [
       "      Plot  CountOfSpecies  Carbon(%)  Nitrogen(%)  Achillea millefolium  \\\n",
       "3372   223               1     0.5713       0.0532                     1   \n",
       "610     41               4     0.5450       0.0520                     0   \n",
       "5385   355              16     0.7124       0.0665                     1   \n",
       "2011   133               9     0.6530       0.0520                     1   \n",
       "2258   149               9     0.6030       0.0660                     0   \n",
       "...    ...             ...        ...          ...                   ...   \n",
       "3578   236              16     0.9549       0.0784                     1   \n",
       "3582   236              16     1.2620       0.1010                     1   \n",
       "1279    85               4     0.5230       0.0450                     0   \n",
       "1735   115               1     0.6650       0.0510                     0   \n",
       "123      9               4     0.1960       0.0410                     0   \n",
       "\n",
       "      Agropyron repens  Amorpha canescens  Andropogon gerardi  \\\n",
       "3372                 0                  0                   0   \n",
       "610                  1                  0                   0   \n",
       "5385                 1                  1                   1   \n",
       "2011                 0                  0                   0   \n",
       "2258                 1                  1                   1   \n",
       "...                ...                ...                 ...   \n",
       "3578                 1                  1                   1   \n",
       "3582                 1                  1                   1   \n",
       "1279                 0                  1                   0   \n",
       "1735                 0                  0                   0   \n",
       "123                  1                  0                   0   \n",
       "\n",
       "      Anemone cylindrica  Asclepias tuberosa  Bouteloua gracilis  \\\n",
       "3372                   0                   0                   0   \n",
       "610                    0                   0                   0   \n",
       "5385                   1                   1                   1   \n",
       "2011                   0                   0                   1   \n",
       "2258                   0                   0                   0   \n",
       "...                  ...                 ...                 ...   \n",
       "3578                   1                   1                   1   \n",
       "3582                   1                   1                   1   \n",
       "1279                   0                   0                   1   \n",
       "1735                   0                   0                   0   \n",
       "123                    0                   0                   0   \n",
       "\n",
       "      Bromus inermis  Koeleria cristata  Lespedeza capitata  Lupinus perennis  \\\n",
       "3372               0                  0                   0                 0   \n",
       "610                1                  1                   0                 0   \n",
       "5385               1                  1                   1                 1   \n",
       "2011               1                  1                   0                 0   \n",
       "2258               0                  1                   1                 1   \n",
       "...              ...                ...                 ...               ...   \n",
       "3578               1                  1                   1                 1   \n",
       "3582               1                  1                   1                 1   \n",
       "1279               0                  0                   1                 0   \n",
       "1735               0                  0                   0                 0   \n",
       "123                1                  1                   0                 0   \n",
       "\n",
       "      Petalostemum villosum  Poa pratensis  Schizachyrium scoparium  \\\n",
       "3372                      0              0                        0   \n",
       "610                       0              1                        0   \n",
       "5385                      1              1                        1   \n",
       "2011                      1              1                        1   \n",
       "2258                      0              0                        1   \n",
       "...                     ...            ...                      ...   \n",
       "3578                      1              1                        1   \n",
       "3582                      1              1                        1   \n",
       "1279                      0              0                        0   \n",
       "1735                      0              1                        0   \n",
       "123                       0              1                        0   \n",
       "\n",
       "      Solidago rigida  Sorghastrum nutans  \n",
       "3372                0                   0  \n",
       "610                 0                   0  \n",
       "5385                1                   1  \n",
       "2011                1                   1  \n",
       "2258                1                   1  \n",
       "...               ...                 ...  \n",
       "3578                1                   1  \n",
       "3582                1                   1  \n",
       "1279                0                   1  \n",
       "1735                0                   0  \n",
       "123                 0                   0  \n",
       "\n",
       "[4498 rows x 20 columns]"
      ]
     },
     "execution_count": 22,
     "metadata": {},
     "output_type": "execute_result"
    }
   ],
   "source": [
    "train"
   ]
  },
  {
   "cell_type": "code",
   "execution_count": null,
   "id": "d7d3fd65-8679-4d15-b45c-0f25dc07fd86",
   "metadata": {},
   "outputs": [
    {
     "data": {
      "text/html": [
       "<div>\n",
       "<style scoped>\n",
       "    .dataframe tbody tr th:only-of-type {\n",
       "        vertical-align: middle;\n",
       "    }\n",
       "\n",
       "    .dataframe tbody tr th {\n",
       "        vertical-align: top;\n",
       "    }\n",
       "\n",
       "    .dataframe thead th {\n",
       "        text-align: right;\n",
       "    }\n",
       "</style>\n",
       "<table border=\"1\" class=\"dataframe\">\n",
       "  <thead>\n",
       "    <tr style=\"text-align: right;\">\n",
       "      <th></th>\n",
       "      <th>Plot</th>\n",
       "      <th>CountOfSpecies</th>\n",
       "      <th>Carbon(%)</th>\n",
       "      <th>Nitrogen(%)</th>\n",
       "      <th>Achillea millefolium</th>\n",
       "      <th>Agropyron repens</th>\n",
       "      <th>Amorpha canescens</th>\n",
       "      <th>Andropogon gerardi</th>\n",
       "      <th>Anemone cylindrica</th>\n",
       "      <th>Asclepias tuberosa</th>\n",
       "      <th>Bouteloua gracilis</th>\n",
       "      <th>Bromus inermis</th>\n",
       "      <th>Koeleria cristata</th>\n",
       "      <th>Lespedeza capitata</th>\n",
       "      <th>Lupinus perennis</th>\n",
       "      <th>Petalostemum villosum</th>\n",
       "      <th>Poa pratensis</th>\n",
       "      <th>Schizachyrium scoparium</th>\n",
       "      <th>Solidago rigida</th>\n",
       "      <th>Sorghastrum nutans</th>\n",
       "    </tr>\n",
       "  </thead>\n",
       "  <tbody>\n",
       "    <tr>\n",
       "      <th>81</th>\n",
       "      <td>6</td>\n",
       "      <td>4</td>\n",
       "      <td>0.583</td>\n",
       "      <td>0.043</td>\n",
       "      <td>0</td>\n",
       "      <td>0</td>\n",
       "      <td>0</td>\n",
       "      <td>1</td>\n",
       "      <td>0</td>\n",
       "      <td>0</td>\n",
       "      <td>1</td>\n",
       "      <td>0</td>\n",
       "      <td>0</td>\n",
       "      <td>0</td>\n",
       "      <td>0</td>\n",
       "      <td>0</td>\n",
       "      <td>0</td>\n",
       "      <td>1</td>\n",
       "      <td>0</td>\n",
       "      <td>1</td>\n",
       "    </tr>\n",
       "    <tr>\n",
       "      <th>4566</th>\n",
       "      <td>301</td>\n",
       "      <td>16</td>\n",
       "      <td>1.288</td>\n",
       "      <td>0.094</td>\n",
       "      <td>1</td>\n",
       "      <td>1</td>\n",
       "      <td>1</td>\n",
       "      <td>1</td>\n",
       "      <td>1</td>\n",
       "      <td>1</td>\n",
       "      <td>1</td>\n",
       "      <td>1</td>\n",
       "      <td>1</td>\n",
       "      <td>1</td>\n",
       "      <td>1</td>\n",
       "      <td>1</td>\n",
       "      <td>1</td>\n",
       "      <td>1</td>\n",
       "      <td>1</td>\n",
       "      <td>1</td>\n",
       "    </tr>\n",
       "    <tr>\n",
       "      <th>3959</th>\n",
       "      <td>261</td>\n",
       "      <td>1</td>\n",
       "      <td>0.506</td>\n",
       "      <td>0.068</td>\n",
       "      <td>0</td>\n",
       "      <td>0</td>\n",
       "      <td>0</td>\n",
       "      <td>0</td>\n",
       "      <td>0</td>\n",
       "      <td>0</td>\n",
       "      <td>0</td>\n",
       "      <td>0</td>\n",
       "      <td>1</td>\n",
       "      <td>0</td>\n",
       "      <td>0</td>\n",
       "      <td>0</td>\n",
       "      <td>0</td>\n",
       "      <td>0</td>\n",
       "      <td>0</td>\n",
       "      <td>0</td>\n",
       "    </tr>\n",
       "    <tr>\n",
       "      <th>2063</th>\n",
       "      <td>136</td>\n",
       "      <td>4</td>\n",
       "      <td>0.565</td>\n",
       "      <td>0.047</td>\n",
       "      <td>1</td>\n",
       "      <td>0</td>\n",
       "      <td>0</td>\n",
       "      <td>0</td>\n",
       "      <td>1</td>\n",
       "      <td>1</td>\n",
       "      <td>0</td>\n",
       "      <td>0</td>\n",
       "      <td>0</td>\n",
       "      <td>0</td>\n",
       "      <td>0</td>\n",
       "      <td>0</td>\n",
       "      <td>0</td>\n",
       "      <td>0</td>\n",
       "      <td>1</td>\n",
       "      <td>0</td>\n",
       "    </tr>\n",
       "    <tr>\n",
       "      <th>3432</th>\n",
       "      <td>227</td>\n",
       "      <td>1</td>\n",
       "      <td>0.512</td>\n",
       "      <td>0.060</td>\n",
       "      <td>0</td>\n",
       "      <td>0</td>\n",
       "      <td>0</td>\n",
       "      <td>0</td>\n",
       "      <td>0</td>\n",
       "      <td>0</td>\n",
       "      <td>1</td>\n",
       "      <td>0</td>\n",
       "      <td>0</td>\n",
       "      <td>0</td>\n",
       "      <td>0</td>\n",
       "      <td>0</td>\n",
       "      <td>0</td>\n",
       "      <td>0</td>\n",
       "      <td>0</td>\n",
       "      <td>0</td>\n",
       "    </tr>\n",
       "    <tr>\n",
       "      <th>...</th>\n",
       "      <td>...</td>\n",
       "      <td>...</td>\n",
       "      <td>...</td>\n",
       "      <td>...</td>\n",
       "      <td>...</td>\n",
       "      <td>...</td>\n",
       "      <td>...</td>\n",
       "      <td>...</td>\n",
       "      <td>...</td>\n",
       "      <td>...</td>\n",
       "      <td>...</td>\n",
       "      <td>...</td>\n",
       "      <td>...</td>\n",
       "      <td>...</td>\n",
       "      <td>...</td>\n",
       "      <td>...</td>\n",
       "      <td>...</td>\n",
       "      <td>...</td>\n",
       "      <td>...</td>\n",
       "      <td>...</td>\n",
       "    </tr>\n",
       "    <tr>\n",
       "      <th>3239</th>\n",
       "      <td>213</td>\n",
       "      <td>16</td>\n",
       "      <td>0.870</td>\n",
       "      <td>0.060</td>\n",
       "      <td>1</td>\n",
       "      <td>1</td>\n",
       "      <td>1</td>\n",
       "      <td>1</td>\n",
       "      <td>1</td>\n",
       "      <td>1</td>\n",
       "      <td>1</td>\n",
       "      <td>1</td>\n",
       "      <td>1</td>\n",
       "      <td>1</td>\n",
       "      <td>1</td>\n",
       "      <td>1</td>\n",
       "      <td>1</td>\n",
       "      <td>1</td>\n",
       "      <td>1</td>\n",
       "      <td>1</td>\n",
       "    </tr>\n",
       "    <tr>\n",
       "      <th>1256</th>\n",
       "      <td>84</td>\n",
       "      <td>9</td>\n",
       "      <td>0.536</td>\n",
       "      <td>0.053</td>\n",
       "      <td>0</td>\n",
       "      <td>0</td>\n",
       "      <td>1</td>\n",
       "      <td>1</td>\n",
       "      <td>0</td>\n",
       "      <td>1</td>\n",
       "      <td>1</td>\n",
       "      <td>0</td>\n",
       "      <td>0</td>\n",
       "      <td>1</td>\n",
       "      <td>1</td>\n",
       "      <td>1</td>\n",
       "      <td>1</td>\n",
       "      <td>1</td>\n",
       "      <td>0</td>\n",
       "      <td>0</td>\n",
       "    </tr>\n",
       "    <tr>\n",
       "      <th>860</th>\n",
       "      <td>57</td>\n",
       "      <td>1</td>\n",
       "      <td>0.475</td>\n",
       "      <td>0.042</td>\n",
       "      <td>0</td>\n",
       "      <td>0</td>\n",
       "      <td>0</td>\n",
       "      <td>0</td>\n",
       "      <td>0</td>\n",
       "      <td>0</td>\n",
       "      <td>0</td>\n",
       "      <td>0</td>\n",
       "      <td>0</td>\n",
       "      <td>0</td>\n",
       "      <td>0</td>\n",
       "      <td>0</td>\n",
       "      <td>0</td>\n",
       "      <td>1</td>\n",
       "      <td>0</td>\n",
       "      <td>0</td>\n",
       "    </tr>\n",
       "    <tr>\n",
       "      <th>189</th>\n",
       "      <td>13</td>\n",
       "      <td>16</td>\n",
       "      <td>1.192</td>\n",
       "      <td>0.101</td>\n",
       "      <td>1</td>\n",
       "      <td>1</td>\n",
       "      <td>1</td>\n",
       "      <td>1</td>\n",
       "      <td>1</td>\n",
       "      <td>1</td>\n",
       "      <td>1</td>\n",
       "      <td>1</td>\n",
       "      <td>1</td>\n",
       "      <td>1</td>\n",
       "      <td>1</td>\n",
       "      <td>1</td>\n",
       "      <td>1</td>\n",
       "      <td>1</td>\n",
       "      <td>1</td>\n",
       "      <td>1</td>\n",
       "    </tr>\n",
       "    <tr>\n",
       "      <th>3223</th>\n",
       "      <td>212</td>\n",
       "      <td>1</td>\n",
       "      <td>0.680</td>\n",
       "      <td>0.060</td>\n",
       "      <td>0</td>\n",
       "      <td>0</td>\n",
       "      <td>0</td>\n",
       "      <td>0</td>\n",
       "      <td>0</td>\n",
       "      <td>0</td>\n",
       "      <td>0</td>\n",
       "      <td>0</td>\n",
       "      <td>0</td>\n",
       "      <td>0</td>\n",
       "      <td>1</td>\n",
       "      <td>0</td>\n",
       "      <td>0</td>\n",
       "      <td>0</td>\n",
       "      <td>0</td>\n",
       "      <td>0</td>\n",
       "    </tr>\n",
       "  </tbody>\n",
       "</table>\n",
       "<p>1125 rows × 20 columns</p>\n",
       "</div>"
      ],
      "text/plain": [
       "      Plot  CountOfSpecies  Carbon(%)  Nitrogen(%)  Achillea millefolium  \\\n",
       "81       6               4      0.583        0.043                     0   \n",
       "4566   301              16      1.288        0.094                     1   \n",
       "3959   261               1      0.506        0.068                     0   \n",
       "2063   136               4      0.565        0.047                     1   \n",
       "3432   227               1      0.512        0.060                     0   \n",
       "...    ...             ...        ...          ...                   ...   \n",
       "3239   213              16      0.870        0.060                     1   \n",
       "1256    84               9      0.536        0.053                     0   \n",
       "860     57               1      0.475        0.042                     0   \n",
       "189     13              16      1.192        0.101                     1   \n",
       "3223   212               1      0.680        0.060                     0   \n",
       "\n",
       "      Agropyron repens  Amorpha canescens  Andropogon gerardi  \\\n",
       "81                   0                  0                   1   \n",
       "4566                 1                  1                   1   \n",
       "3959                 0                  0                   0   \n",
       "2063                 0                  0                   0   \n",
       "3432                 0                  0                   0   \n",
       "...                ...                ...                 ...   \n",
       "3239                 1                  1                   1   \n",
       "1256                 0                  1                   1   \n",
       "860                  0                  0                   0   \n",
       "189                  1                  1                   1   \n",
       "3223                 0                  0                   0   \n",
       "\n",
       "      Anemone cylindrica  Asclepias tuberosa  Bouteloua gracilis  \\\n",
       "81                     0                   0                   1   \n",
       "4566                   1                   1                   1   \n",
       "3959                   0                   0                   0   \n",
       "2063                   1                   1                   0   \n",
       "3432                   0                   0                   1   \n",
       "...                  ...                 ...                 ...   \n",
       "3239                   1                   1                   1   \n",
       "1256                   0                   1                   1   \n",
       "860                    0                   0                   0   \n",
       "189                    1                   1                   1   \n",
       "3223                   0                   0                   0   \n",
       "\n",
       "      Bromus inermis  Koeleria cristata  Lespedeza capitata  Lupinus perennis  \\\n",
       "81                 0                  0                   0                 0   \n",
       "4566               1                  1                   1                 1   \n",
       "3959               0                  1                   0                 0   \n",
       "2063               0                  0                   0                 0   \n",
       "3432               0                  0                   0                 0   \n",
       "...              ...                ...                 ...               ...   \n",
       "3239               1                  1                   1                 1   \n",
       "1256               0                  0                   1                 1   \n",
       "860                0                  0                   0                 0   \n",
       "189                1                  1                   1                 1   \n",
       "3223               0                  0                   0                 1   \n",
       "\n",
       "      Petalostemum villosum  Poa pratensis  Schizachyrium scoparium  \\\n",
       "81                        0              0                        1   \n",
       "4566                      1              1                        1   \n",
       "3959                      0              0                        0   \n",
       "2063                      0              0                        0   \n",
       "3432                      0              0                        0   \n",
       "...                     ...            ...                      ...   \n",
       "3239                      1              1                        1   \n",
       "1256                      1              1                        1   \n",
       "860                       0              0                        1   \n",
       "189                       1              1                        1   \n",
       "3223                      0              0                        0   \n",
       "\n",
       "      Solidago rigida  Sorghastrum nutans  \n",
       "81                  0                   1  \n",
       "4566                1                   1  \n",
       "3959                0                   0  \n",
       "2063                1                   0  \n",
       "3432                0                   0  \n",
       "...               ...                 ...  \n",
       "3239                1                   1  \n",
       "1256                0                   0  \n",
       "860                 0                   0  \n",
       "189                 1                   1  \n",
       "3223                0                   0  \n",
       "\n",
       "[1125 rows x 20 columns]"
      ]
     },
     "execution_count": 23,
     "metadata": {},
     "output_type": "execute_result"
    }
   ],
   "source": [
    "test"
   ]
  },
  {
   "cell_type": "markdown",
   "id": "2186915f-a096-4400-aede-d302b44f82e7",
   "metadata": {},
   "source": [
    "### Conclusion\n",
    "Write something here"
   ]
  },
  {
   "cell_type": "markdown",
   "id": "c0d6db8a-5f23-48ba-b9e1-a9904c23d91e",
   "metadata": {},
   "source": [
    "### Future improvements\n",
    "Further research into the topic, maybe there are some other features we need more knowledge of to be able to improve the accuracy of the model?\n",
    "\n",
    "As the research was performed only in perfect weather conditions, even with the different treatments, an input with these cercumstances would not be guaranteed a accurate prediction."
   ]
  },
  {
   "cell_type": "markdown",
   "id": "80753dfe-336b-453f-a22f-cf8a11d10973",
   "metadata": {},
   "source": [
    "# References\n",
    "* https://education.nationalgeographic.org/resource/biodiversity\n",
    "* https://climate.nasa.gov/climate_resources/24/graphic-the-relentless-rise-of-carbon-dioxide/"
   ]
  }
 ],
 "metadata": {
  "kernelspec": {
   "display_name": "Python 3 (ipykernel)",
   "language": "python",
   "name": "python3"
  },
  "language_info": {
   "codemirror_mode": {
    "name": "ipython",
    "version": 3
   },
   "file_extension": ".py",
   "mimetype": "text/x-python",
   "name": "python",
   "nbconvert_exporter": "python",
   "pygments_lexer": "ipython3",
   "version": "3.10.2"
  }
 },
 "nbformat": 4,
 "nbformat_minor": 5
}

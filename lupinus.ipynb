{
 "cells": [
  {
   "cell_type": "code",
   "execution_count": 1,
   "id": "b6d5ec3c-46b8-4c8f-93e7-ff6960f630c6",
   "metadata": {},
   "outputs": [],
   "source": [
    "import pandas as pd\n",
    "import matplotlib.pyplot as plt\n",
    "import seaborn as sns\n",
    "import numpy as np\n",
    "from numpy import nan\n",
    "import math\n",
    "\n",
    "lupinus = pd.read_csv('datasets/lupinus.txt', delimiter='\\t')\n",
    "poll = pd.read_csv('datasets/plant_pollinator_diversity_set2.csv')"
   ]
  },
  {
   "cell_type": "code",
   "execution_count": 2,
   "id": "ab62a6d2-5e92-4cb1-ab7f-d7f1e30bfbbe",
   "metadata": {},
   "outputs": [
    {
     "data": {
      "text/html": [
       "<div>\n",
       "<style scoped>\n",
       "    .dataframe tbody tr th:only-of-type {\n",
       "        vertical-align: middle;\n",
       "    }\n",
       "\n",
       "    .dataframe tbody tr th {\n",
       "        vertical-align: top;\n",
       "    }\n",
       "\n",
       "    .dataframe thead th {\n",
       "        text-align: right;\n",
       "    }\n",
       "</style>\n",
       "<table border=\"1\" class=\"dataframe\">\n",
       "  <thead>\n",
       "    <tr style=\"text-align: right;\">\n",
       "      <th></th>\n",
       "      <th>Year</th>\n",
       "      <th>Experiment</th>\n",
       "      <th>Plant ID</th>\n",
       "      <th>Maternal plot</th>\n",
       "      <th>Maternal CO2</th>\n",
       "      <th>Maternal N</th>\n",
       "      <th>Offspring ring</th>\n",
       "      <th>Offspring CO2</th>\n",
       "      <th>Seed mass</th>\n",
       "      <th>Emergence date</th>\n",
       "      <th>10 July leaf #</th>\n",
       "      <th>10 July leaflet length</th>\n",
       "      <th>August leaf #</th>\n",
       "      <th>August leaflet length</th>\n",
       "      <th>root length (cm)</th>\n",
       "      <th>aboveground biomass (g)</th>\n",
       "    </tr>\n",
       "  </thead>\n",
       "  <tbody>\n",
       "    <tr>\n",
       "      <th>0</th>\n",
       "      <td>2006</td>\n",
       "      <td>E141</td>\n",
       "      <td>4048</td>\n",
       "      <td>NaN</td>\n",
       "      <td>NaN</td>\n",
       "      <td>NaN</td>\n",
       "      <td>3</td>\n",
       "      <td>elevated</td>\n",
       "      <td>NaN</td>\n",
       "      <td>13.0</td>\n",
       "      <td>1.0</td>\n",
       "      <td>17</td>\n",
       "      <td>1</td>\n",
       "      <td>53.0</td>\n",
       "      <td>NaN</td>\n",
       "      <td>NaN</td>\n",
       "    </tr>\n",
       "    <tr>\n",
       "      <th>1</th>\n",
       "      <td>2006</td>\n",
       "      <td>E141</td>\n",
       "      <td>5212</td>\n",
       "      <td>30.0</td>\n",
       "      <td>elevated</td>\n",
       "      <td>elevated</td>\n",
       "      <td>5</td>\n",
       "      <td>elevated</td>\n",
       "      <td>0.0257</td>\n",
       "      <td>13.0</td>\n",
       "      <td>4.0</td>\n",
       "      <td>24</td>\n",
       "      <td>4</td>\n",
       "      <td>26.0</td>\n",
       "      <td>15.0</td>\n",
       "      <td>0.27</td>\n",
       "    </tr>\n",
       "    <tr>\n",
       "      <th>2</th>\n",
       "      <td>2006</td>\n",
       "      <td>E141</td>\n",
       "      <td>5104</td>\n",
       "      <td>33.0</td>\n",
       "      <td>elevated</td>\n",
       "      <td>ambient</td>\n",
       "      <td>5</td>\n",
       "      <td>elevated</td>\n",
       "      <td>0.0259</td>\n",
       "      <td>16.0</td>\n",
       "      <td>4.0</td>\n",
       "      <td>19</td>\n",
       "      <td>6</td>\n",
       "      <td>26.0</td>\n",
       "      <td>14.5</td>\n",
       "      <td>0.14</td>\n",
       "    </tr>\n",
       "    <tr>\n",
       "      <th>3</th>\n",
       "      <td>2006</td>\n",
       "      <td>E141</td>\n",
       "      <td>4323</td>\n",
       "      <td>13.0</td>\n",
       "      <td>elevated</td>\n",
       "      <td>elevated</td>\n",
       "      <td>3</td>\n",
       "      <td>elevated</td>\n",
       "      <td>0.0278</td>\n",
       "      <td>19.0</td>\n",
       "      <td>4.0</td>\n",
       "      <td>23</td>\n",
       "      <td>7</td>\n",
       "      <td>30.0</td>\n",
       "      <td>NaN</td>\n",
       "      <td>NaN</td>\n",
       "    </tr>\n",
       "    <tr>\n",
       "      <th>4</th>\n",
       "      <td>2006</td>\n",
       "      <td>E141</td>\n",
       "      <td>5616</td>\n",
       "      <td>13.0</td>\n",
       "      <td>elevated</td>\n",
       "      <td>elevated</td>\n",
       "      <td>6</td>\n",
       "      <td>ambient</td>\n",
       "      <td>0.0278</td>\n",
       "      <td>19.0</td>\n",
       "      <td>3.0</td>\n",
       "      <td>23</td>\n",
       "      <td>6</td>\n",
       "      <td>25.0</td>\n",
       "      <td>11.5</td>\n",
       "      <td>0.24</td>\n",
       "    </tr>\n",
       "  </tbody>\n",
       "</table>\n",
       "</div>"
      ],
      "text/plain": [
       "   Year Experiment  Plant ID  Maternal plot Maternal CO2 Maternal N  \\\n",
       "0  2006       E141      4048            NaN          NaN        NaN   \n",
       "1  2006       E141      5212           30.0     elevated   elevated   \n",
       "2  2006       E141      5104           33.0     elevated    ambient   \n",
       "3  2006       E141      4323           13.0     elevated   elevated   \n",
       "4  2006       E141      5616           13.0     elevated   elevated   \n",
       "\n",
       "   Offspring ring Offspring CO2  Seed mass  Emergence date  10 July leaf #  \\\n",
       "0               3      elevated        NaN            13.0             1.0   \n",
       "1               5      elevated     0.0257            13.0             4.0   \n",
       "2               5      elevated     0.0259            16.0             4.0   \n",
       "3               3      elevated     0.0278            19.0             4.0   \n",
       "4               6       ambient     0.0278            19.0             3.0   \n",
       "\n",
       "  10 July leaflet length August leaf #  August leaflet length  \\\n",
       "0                     17             1                   53.0   \n",
       "1                     24             4                   26.0   \n",
       "2                     19             6                   26.0   \n",
       "3                     23             7                   30.0   \n",
       "4                     23             6                   25.0   \n",
       "\n",
       "   root length (cm)  aboveground biomass (g)  \n",
       "0               NaN                      NaN  \n",
       "1              15.0                     0.27  \n",
       "2              14.5                     0.14  \n",
       "3               NaN                      NaN  \n",
       "4              11.5                     0.24  "
      ]
     },
     "execution_count": 2,
     "metadata": {},
     "output_type": "execute_result"
    }
   ],
   "source": [
    "lupinus.head()"
   ]
  },
  {
   "cell_type": "code",
   "execution_count": 3,
   "id": "bd21441e-4acd-4080-9261-52d6198a565e",
   "metadata": {},
   "outputs": [
    {
     "data": {
      "text/plain": [
       "20                 28\n",
       "19                 27\n",
       "21                 23\n",
       "22                 20\n",
       "23                 17\n",
       "24                 17\n",
       "15                 13\n",
       "18                 11\n",
       "25                  9\n",
       "16                  8\n",
       "12                  7\n",
       "13                  7\n",
       "26                  4\n",
       "17                  4\n",
       "10                  3\n",
       "14                  3\n",
       "29                  2\n",
       "27                  2\n",
       "8                   2\n",
       "30                  2\n",
       "11                  2\n",
       "immature            1\n",
       "13 (herbvy)         1\n",
       "20 (shrivelled)     1\n",
       "28                  1\n",
       "shriveled           1\n",
       "15 (herbvy)         1\n",
       "9                   1\n",
       "shrivelled          1\n",
       "24 (closed)         1\n",
       "5                   1\n",
       "23 (herbvy)         1\n",
       "Name: 10 July leaflet length, dtype: int64"
      ]
     },
     "execution_count": 3,
     "metadata": {},
     "output_type": "execute_result"
    }
   ],
   "source": [
    "lupinus['10 July leaflet length'].value_counts()"
   ]
  },
  {
   "cell_type": "code",
   "execution_count": 4,
   "id": "11563752-5afb-4c27-809a-8be87c08d7ce",
   "metadata": {},
   "outputs": [
    {
     "data": {
      "text/plain": [
       "25.0    32\n",
       "24.0    30\n",
       "28.0    20\n",
       "22.0    18\n",
       "26.0    17\n",
       "30.0    13\n",
       "20.0    13\n",
       "23.0    12\n",
       "21.0    12\n",
       "27.0    10\n",
       "29.0     8\n",
       "32.0     5\n",
       "19.0     4\n",
       "31.0     4\n",
       "34.0     3\n",
       "18.0     3\n",
       "37.0     2\n",
       "36.0     1\n",
       "53.0     1\n",
       "Name: August leaflet length, dtype: int64"
      ]
     },
     "execution_count": 4,
     "metadata": {},
     "output_type": "execute_result"
    }
   ],
   "source": [
    "lupinus['August leaflet length'].value_counts()"
   ]
  },
  {
   "cell_type": "code",
   "execution_count": 5,
   "id": "54f7119a-7058-4605-a86e-fc193b9879e1",
   "metadata": {},
   "outputs": [
    {
     "data": {
      "text/plain": [
       "20.0    29\n",
       "19.0    27\n",
       "21.0    23\n",
       "22.0    20\n",
       "23.0    18\n",
       "24.0    18\n",
       "15.0    14\n",
       "18.0    11\n",
       "25.0     9\n",
       "13.0     8\n",
       "16.0     8\n",
       "12.0     7\n",
       "26.0     4\n",
       "17.0     4\n",
       "10.0     3\n",
       "14.0     3\n",
       "27.0     2\n",
       "11.0     2\n",
       "29.0     2\n",
       "30.0     2\n",
       "8.0      2\n",
       "9.0      1\n",
       "28.0     1\n",
       "5.0      1\n",
       "Name: 10 July leaflet length_new, dtype: int64"
      ]
     },
     "execution_count": 5,
     "metadata": {},
     "output_type": "execute_result"
    }
   ],
   "source": [
    "lupinus['10 July leaflet length_new'] = lupinus['10 July leaflet length'].str.extract(r'(\\d+)')\n",
    "lupinus['10 July leaflet length_new'] = pd.to_numeric(lupinus['10 July leaflet length_new'], errors='coerce').dropna()\n",
    "lupinus['10 July leaflet length_new'].value_counts()"
   ]
  },
  {
   "cell_type": "code",
   "execution_count": 6,
   "id": "da03bf3c-f7a9-42ee-8487-ba657f2d8481",
   "metadata": {},
   "outputs": [
    {
     "data": {
      "text/plain": [
       "(236, 17)"
      ]
     },
     "execution_count": 6,
     "metadata": {},
     "output_type": "execute_result"
    }
   ],
   "source": [
    "lupinus.shape"
   ]
  },
  {
   "cell_type": "code",
   "execution_count": 7,
   "id": "7c8b2a7e-d137-4c2c-9f1a-bb465f3d27af",
   "metadata": {},
   "outputs": [
    {
     "data": {
      "text/html": [
       "<div>\n",
       "<style scoped>\n",
       "    .dataframe tbody tr th:only-of-type {\n",
       "        vertical-align: middle;\n",
       "    }\n",
       "\n",
       "    .dataframe tbody tr th {\n",
       "        vertical-align: top;\n",
       "    }\n",
       "\n",
       "    .dataframe thead th {\n",
       "        text-align: right;\n",
       "    }\n",
       "</style>\n",
       "<table border=\"1\" class=\"dataframe\">\n",
       "  <thead>\n",
       "    <tr style=\"text-align: right;\">\n",
       "      <th></th>\n",
       "      <th>Year</th>\n",
       "      <th>Experiment</th>\n",
       "      <th>Plant ID</th>\n",
       "      <th>Maternal plot</th>\n",
       "      <th>Maternal CO2</th>\n",
       "      <th>Maternal N</th>\n",
       "      <th>Offspring ring</th>\n",
       "      <th>Offspring CO2</th>\n",
       "      <th>Seed mass</th>\n",
       "      <th>Emergence date</th>\n",
       "      <th>10 July leaf #</th>\n",
       "      <th>10 July leaflet length</th>\n",
       "      <th>August leaf #</th>\n",
       "      <th>August leaflet length</th>\n",
       "      <th>root length (cm)</th>\n",
       "      <th>aboveground biomass (g)</th>\n",
       "      <th>10 July leaflet length_new</th>\n",
       "    </tr>\n",
       "  </thead>\n",
       "  <tbody>\n",
       "    <tr>\n",
       "      <th>0</th>\n",
       "      <td>2006</td>\n",
       "      <td>E141</td>\n",
       "      <td>4048</td>\n",
       "      <td>NaN</td>\n",
       "      <td>NaN</td>\n",
       "      <td>NaN</td>\n",
       "      <td>3</td>\n",
       "      <td>elevated</td>\n",
       "      <td>NaN</td>\n",
       "      <td>13.0</td>\n",
       "      <td>1.0</td>\n",
       "      <td>17</td>\n",
       "      <td>1</td>\n",
       "      <td>53.0</td>\n",
       "      <td>NaN</td>\n",
       "      <td>NaN</td>\n",
       "      <td>17.0</td>\n",
       "    </tr>\n",
       "    <tr>\n",
       "      <th>1</th>\n",
       "      <td>2006</td>\n",
       "      <td>E141</td>\n",
       "      <td>5212</td>\n",
       "      <td>30.0</td>\n",
       "      <td>elevated</td>\n",
       "      <td>elevated</td>\n",
       "      <td>5</td>\n",
       "      <td>elevated</td>\n",
       "      <td>0.0257</td>\n",
       "      <td>13.0</td>\n",
       "      <td>4.0</td>\n",
       "      <td>24</td>\n",
       "      <td>4</td>\n",
       "      <td>26.0</td>\n",
       "      <td>15.0</td>\n",
       "      <td>0.27</td>\n",
       "      <td>24.0</td>\n",
       "    </tr>\n",
       "    <tr>\n",
       "      <th>2</th>\n",
       "      <td>2006</td>\n",
       "      <td>E141</td>\n",
       "      <td>5104</td>\n",
       "      <td>33.0</td>\n",
       "      <td>elevated</td>\n",
       "      <td>ambient</td>\n",
       "      <td>5</td>\n",
       "      <td>elevated</td>\n",
       "      <td>0.0259</td>\n",
       "      <td>16.0</td>\n",
       "      <td>4.0</td>\n",
       "      <td>19</td>\n",
       "      <td>6</td>\n",
       "      <td>26.0</td>\n",
       "      <td>14.5</td>\n",
       "      <td>0.14</td>\n",
       "      <td>19.0</td>\n",
       "    </tr>\n",
       "    <tr>\n",
       "      <th>3</th>\n",
       "      <td>2006</td>\n",
       "      <td>E141</td>\n",
       "      <td>4323</td>\n",
       "      <td>13.0</td>\n",
       "      <td>elevated</td>\n",
       "      <td>elevated</td>\n",
       "      <td>3</td>\n",
       "      <td>elevated</td>\n",
       "      <td>0.0278</td>\n",
       "      <td>19.0</td>\n",
       "      <td>4.0</td>\n",
       "      <td>23</td>\n",
       "      <td>7</td>\n",
       "      <td>30.0</td>\n",
       "      <td>NaN</td>\n",
       "      <td>NaN</td>\n",
       "      <td>23.0</td>\n",
       "    </tr>\n",
       "    <tr>\n",
       "      <th>4</th>\n",
       "      <td>2006</td>\n",
       "      <td>E141</td>\n",
       "      <td>5616</td>\n",
       "      <td>13.0</td>\n",
       "      <td>elevated</td>\n",
       "      <td>elevated</td>\n",
       "      <td>6</td>\n",
       "      <td>ambient</td>\n",
       "      <td>0.0278</td>\n",
       "      <td>19.0</td>\n",
       "      <td>3.0</td>\n",
       "      <td>23</td>\n",
       "      <td>6</td>\n",
       "      <td>25.0</td>\n",
       "      <td>11.5</td>\n",
       "      <td>0.24</td>\n",
       "      <td>23.0</td>\n",
       "    </tr>\n",
       "  </tbody>\n",
       "</table>\n",
       "</div>"
      ],
      "text/plain": [
       "   Year Experiment  Plant ID  Maternal plot Maternal CO2 Maternal N  \\\n",
       "0  2006       E141      4048            NaN          NaN        NaN   \n",
       "1  2006       E141      5212           30.0     elevated   elevated   \n",
       "2  2006       E141      5104           33.0     elevated    ambient   \n",
       "3  2006       E141      4323           13.0     elevated   elevated   \n",
       "4  2006       E141      5616           13.0     elevated   elevated   \n",
       "\n",
       "   Offspring ring Offspring CO2  Seed mass  Emergence date  10 July leaf #  \\\n",
       "0               3      elevated        NaN            13.0             1.0   \n",
       "1               5      elevated     0.0257            13.0             4.0   \n",
       "2               5      elevated     0.0259            16.0             4.0   \n",
       "3               3      elevated     0.0278            19.0             4.0   \n",
       "4               6       ambient     0.0278            19.0             3.0   \n",
       "\n",
       "  10 July leaflet length August leaf #  August leaflet length  \\\n",
       "0                     17             1                   53.0   \n",
       "1                     24             4                   26.0   \n",
       "2                     19             6                   26.0   \n",
       "3                     23             7                   30.0   \n",
       "4                     23             6                   25.0   \n",
       "\n",
       "   root length (cm)  aboveground biomass (g)  10 July leaflet length_new  \n",
       "0               NaN                      NaN                        17.0  \n",
       "1              15.0                     0.27                        24.0  \n",
       "2              14.5                     0.14                        19.0  \n",
       "3               NaN                      NaN                        23.0  \n",
       "4              11.5                     0.24                        23.0  "
      ]
     },
     "execution_count": 7,
     "metadata": {},
     "output_type": "execute_result"
    }
   ],
   "source": [
    "lupinus.head()"
   ]
  },
  {
   "cell_type": "code",
   "execution_count": 8,
   "id": "688c06ec-37db-4d23-aa18-ef99772a0683",
   "metadata": {},
   "outputs": [
    {
     "data": {
      "text/plain": [
       "numpy.float64"
      ]
     },
     "execution_count": 8,
     "metadata": {},
     "output_type": "execute_result"
    }
   ],
   "source": [
    "type(lupinus['August leaflet length'][0])"
   ]
  },
  {
   "cell_type": "code",
   "execution_count": 9,
   "id": "ac91a375-0208-473e-bdf2-27d410f22339",
   "metadata": {},
   "outputs": [
    {
     "data": {
      "text/plain": [
       "(236, 17)"
      ]
     },
     "execution_count": 9,
     "metadata": {},
     "output_type": "execute_result"
    }
   ],
   "source": [
    "lupinus.shape"
   ]
  },
  {
   "cell_type": "code",
   "execution_count": 10,
   "id": "a38d3eb1-dbc9-4ace-9970-56b2d4747cca",
   "metadata": {},
   "outputs": [
    {
     "data": {
      "text/plain": [
       "numpy.float64"
      ]
     },
     "execution_count": 10,
     "metadata": {},
     "output_type": "execute_result"
    }
   ],
   "source": [
    "type(lupinus['10 July leaflet length_new'][0])"
   ]
  },
  {
   "cell_type": "code",
   "execution_count": 11,
   "id": "40843901-4001-405d-922b-42b5fab24370",
   "metadata": {},
   "outputs": [
    {
     "data": {
      "text/html": [
       "<div>\n",
       "<style scoped>\n",
       "    .dataframe tbody tr th:only-of-type {\n",
       "        vertical-align: middle;\n",
       "    }\n",
       "\n",
       "    .dataframe tbody tr th {\n",
       "        vertical-align: top;\n",
       "    }\n",
       "\n",
       "    .dataframe thead th {\n",
       "        text-align: right;\n",
       "    }\n",
       "</style>\n",
       "<table border=\"1\" class=\"dataframe\">\n",
       "  <thead>\n",
       "    <tr style=\"text-align: right;\">\n",
       "      <th></th>\n",
       "      <th>Maternal plot</th>\n",
       "      <th>Offspring CO2</th>\n",
       "      <th>aboveground biomass (g)</th>\n",
       "    </tr>\n",
       "  </thead>\n",
       "  <tbody>\n",
       "    <tr>\n",
       "      <th>0</th>\n",
       "      <td>354.0</td>\n",
       "      <td>ambient</td>\n",
       "      <td>0.080</td>\n",
       "    </tr>\n",
       "    <tr>\n",
       "      <th>1</th>\n",
       "      <td>67.0</td>\n",
       "      <td>ambient</td>\n",
       "      <td>0.120</td>\n",
       "    </tr>\n",
       "    <tr>\n",
       "      <th>2</th>\n",
       "      <td>107.0</td>\n",
       "      <td>ambient</td>\n",
       "      <td>0.130</td>\n",
       "    </tr>\n",
       "    <tr>\n",
       "      <th>3</th>\n",
       "      <td>234.0</td>\n",
       "      <td>ambient</td>\n",
       "      <td>0.135</td>\n",
       "    </tr>\n",
       "    <tr>\n",
       "      <th>4</th>\n",
       "      <td>33.0</td>\n",
       "      <td>elevated</td>\n",
       "      <td>0.140</td>\n",
       "    </tr>\n",
       "    <tr>\n",
       "      <th>...</th>\n",
       "      <td>...</td>\n",
       "      <td>...</td>\n",
       "      <td>...</td>\n",
       "    </tr>\n",
       "    <tr>\n",
       "      <th>78</th>\n",
       "      <td>13.0</td>\n",
       "      <td>elevated</td>\n",
       "      <td>NaN</td>\n",
       "    </tr>\n",
       "    <tr>\n",
       "      <th>79</th>\n",
       "      <td>118.0</td>\n",
       "      <td>ambient</td>\n",
       "      <td>NaN</td>\n",
       "    </tr>\n",
       "    <tr>\n",
       "      <th>80</th>\n",
       "      <td>173.0</td>\n",
       "      <td>elevated</td>\n",
       "      <td>NaN</td>\n",
       "    </tr>\n",
       "    <tr>\n",
       "      <th>81</th>\n",
       "      <td>179.0</td>\n",
       "      <td>elevated</td>\n",
       "      <td>NaN</td>\n",
       "    </tr>\n",
       "    <tr>\n",
       "      <th>82</th>\n",
       "      <td>307.0</td>\n",
       "      <td>ambient</td>\n",
       "      <td>NaN</td>\n",
       "    </tr>\n",
       "  </tbody>\n",
       "</table>\n",
       "<p>83 rows × 3 columns</p>\n",
       "</div>"
      ],
      "text/plain": [
       "    Maternal plot Offspring CO2  aboveground biomass (g)\n",
       "0           354.0       ambient                    0.080\n",
       "1            67.0       ambient                    0.120\n",
       "2           107.0       ambient                    0.130\n",
       "3           234.0       ambient                    0.135\n",
       "4            33.0      elevated                    0.140\n",
       "..            ...           ...                      ...\n",
       "78           13.0      elevated                      NaN\n",
       "79          118.0       ambient                      NaN\n",
       "80          173.0      elevated                      NaN\n",
       "81          179.0      elevated                      NaN\n",
       "82          307.0       ambient                      NaN\n",
       "\n",
       "[83 rows x 3 columns]"
      ]
     },
     "execution_count": 11,
     "metadata": {},
     "output_type": "execute_result"
    }
   ],
   "source": [
    "test = lupinus.groupby(['Maternal plot', 'Offspring CO2']).mean('aboveground biomass (g)').sort_values(['aboveground biomass (g)'])['aboveground biomass (g)'].to_frame().reset_index()\n",
    "test"
   ]
  },
  {
   "cell_type": "code",
   "execution_count": 12,
   "id": "14f557a3-1e0b-4a35-a1ec-ea21722e0db6",
   "metadata": {},
   "outputs": [
    {
     "data": {
      "text/plain": [
       "(40, 3)"
      ]
     },
     "execution_count": 12,
     "metadata": {},
     "output_type": "execute_result"
    }
   ],
   "source": [
    "test[test['Offspring CO2'] == 'ambient'].shape"
   ]
  },
  {
   "cell_type": "code",
   "execution_count": 13,
   "id": "a36ef16e-2d36-42dd-aacd-f3c2ef341389",
   "metadata": {},
   "outputs": [
    {
     "data": {
      "text/plain": [
       "(43, 3)"
      ]
     },
     "execution_count": 13,
     "metadata": {},
     "output_type": "execute_result"
    }
   ],
   "source": [
    "test[test['Offspring CO2'] == 'elevated'].shape"
   ]
  },
  {
   "cell_type": "code",
   "execution_count": 14,
   "id": "d98b96e6-faaa-4088-bf16-521a33803b18",
   "metadata": {},
   "outputs": [
    {
     "data": {
      "text/plain": [
       "43.0     2\n",
       "188.0    2\n",
       "67.0     2\n",
       "179.0    2\n",
       "130.0    2\n",
       "64.0     2\n",
       "267.0    2\n",
       "250.0    2\n",
       "163.0    2\n",
       "13.0     2\n",
       "307.0    2\n",
       "253.0    2\n",
       "110.0    2\n",
       "147.0    2\n",
       "355.0    2\n",
       "45.0     2\n",
       "213.0    2\n",
       "151.0    2\n",
       "184.0    2\n",
       "344.0    2\n",
       "283.0    2\n",
       "301.0    2\n",
       "234.0    2\n",
       "33.0     2\n",
       "23.0     2\n",
       "321.0    2\n",
       "205.0    2\n",
       "236.0    2\n",
       "52.0     2\n",
       "222.0    2\n",
       "175.0    2\n",
       "51.0     2\n",
       "104.0    2\n",
       "173.0    2\n",
       "108.0    2\n",
       "201.0    2\n",
       "69.0     2\n",
       "107.0    2\n",
       "180.0    1\n",
       "272.0    1\n",
       "311.0    1\n",
       "354.0    1\n",
       "30.0     1\n",
       "275.0    1\n",
       "118.0    1\n",
       "Name: Maternal plot, dtype: int64"
      ]
     },
     "execution_count": 14,
     "metadata": {},
     "output_type": "execute_result"
    }
   ],
   "source": [
    "test['Maternal plot'].value_counts()"
   ]
  },
  {
   "cell_type": "code",
   "execution_count": 15,
   "id": "0224f683-7ded-486e-a0ba-81be2a8d4db7",
   "metadata": {},
   "outputs": [
    {
     "data": {
      "text/plain": [
       "<AxesSubplot:ylabel='aboveground biomass (g)'>"
      ]
     },
     "execution_count": 15,
     "metadata": {},
     "output_type": "execute_result"
    },
    {
     "data": {
      "image/png": "[encoded data removed]",
      "text/plain": [
       "<Figure size 640x480 with 1 Axes>"
      ]
     },
     "metadata": {},
     "output_type": "display_data"
    }
   ],
   "source": [
    "x_axis=[*range(1,84,1)]\n",
    "#plt.scatter(x, test1['aboveground biomass (g)'], cmap='Offspring CO2')\n",
    "sns.scatterplot(data=test, x=x_axis, y='aboveground biomass (g)', hue='Offspring CO2')"
   ]
  },
  {
   "cell_type": "code",
   "execution_count": 16,
   "id": "1a0abc07-fb43-40d9-8865-47bca3ea0e15",
   "metadata": {},
   "outputs": [
    {
     "data": {
      "text/html": [
       "<div>\n",
       "<style scoped>\n",
       "    .dataframe tbody tr th:only-of-type {\n",
       "        vertical-align: middle;\n",
       "    }\n",
       "\n",
       "    .dataframe tbody tr th {\n",
       "        vertical-align: top;\n",
       "    }\n",
       "\n",
       "    .dataframe thead th {\n",
       "        text-align: right;\n",
       "    }\n",
       "</style>\n",
       "<table border=\"1\" class=\"dataframe\">\n",
       "  <thead>\n",
       "    <tr style=\"text-align: right;\">\n",
       "      <th></th>\n",
       "      <th>Maternal plot</th>\n",
       "      <th>Offspring CO2</th>\n",
       "      <th>August leaflet length</th>\n",
       "    </tr>\n",
       "  </thead>\n",
       "  <tbody>\n",
       "    <tr>\n",
       "      <th>0</th>\n",
       "      <td>184.0</td>\n",
       "      <td>elevated</td>\n",
       "      <td>18.000000</td>\n",
       "    </tr>\n",
       "    <tr>\n",
       "      <th>1</th>\n",
       "      <td>205.0</td>\n",
       "      <td>ambient</td>\n",
       "      <td>19.666667</td>\n",
       "    </tr>\n",
       "    <tr>\n",
       "      <th>2</th>\n",
       "      <td>275.0</td>\n",
       "      <td>elevated</td>\n",
       "      <td>20.000000</td>\n",
       "    </tr>\n",
       "    <tr>\n",
       "      <th>3</th>\n",
       "      <td>354.0</td>\n",
       "      <td>ambient</td>\n",
       "      <td>20.000000</td>\n",
       "    </tr>\n",
       "    <tr>\n",
       "      <th>4</th>\n",
       "      <td>175.0</td>\n",
       "      <td>ambient</td>\n",
       "      <td>20.000000</td>\n",
       "    </tr>\n",
       "    <tr>\n",
       "      <th>...</th>\n",
       "      <td>...</td>\n",
       "      <td>...</td>\n",
       "      <td>...</td>\n",
       "    </tr>\n",
       "    <tr>\n",
       "      <th>75</th>\n",
       "      <td>355.0</td>\n",
       "      <td>elevated</td>\n",
       "      <td>30.000000</td>\n",
       "    </tr>\n",
       "    <tr>\n",
       "      <th>76</th>\n",
       "      <td>151.0</td>\n",
       "      <td>elevated</td>\n",
       "      <td>31.000000</td>\n",
       "    </tr>\n",
       "    <tr>\n",
       "      <th>77</th>\n",
       "      <td>108.0</td>\n",
       "      <td>elevated</td>\n",
       "      <td>32.000000</td>\n",
       "    </tr>\n",
       "    <tr>\n",
       "      <th>78</th>\n",
       "      <td>130.0</td>\n",
       "      <td>elevated</td>\n",
       "      <td>32.000000</td>\n",
       "    </tr>\n",
       "    <tr>\n",
       "      <th>79</th>\n",
       "      <td>344.0</td>\n",
       "      <td>elevated</td>\n",
       "      <td>32.000000</td>\n",
       "    </tr>\n",
       "  </tbody>\n",
       "</table>\n",
       "<p>80 rows × 3 columns</p>\n",
       "</div>"
      ],
      "text/plain": [
       "    Maternal plot Offspring CO2  August leaflet length\n",
       "0           184.0      elevated              18.000000\n",
       "1           205.0       ambient              19.666667\n",
       "2           275.0      elevated              20.000000\n",
       "3           354.0       ambient              20.000000\n",
       "4           175.0       ambient              20.000000\n",
       "..            ...           ...                    ...\n",
       "75          355.0      elevated              30.000000\n",
       "76          151.0      elevated              31.000000\n",
       "77          108.0      elevated              32.000000\n",
       "78          130.0      elevated              32.000000\n",
       "79          344.0      elevated              32.000000\n",
       "\n",
       "[80 rows x 3 columns]"
      ]
     },
     "execution_count": 16,
     "metadata": {},
     "output_type": "execute_result"
    }
   ],
   "source": [
    "test1 = lupinus.groupby(['Maternal plot', 'Offspring CO2']).mean('August leaflet length').sort_values(['August leaflet length'])['August leaflet length'].dropna().to_frame().reset_index()\n",
    "test1"
   ]
  },
  {
   "cell_type": "code",
   "execution_count": 17,
   "id": "12a751e8-4f29-442a-9095-a850e6c203c0",
   "metadata": {},
   "outputs": [
    {
     "data": {
      "text/plain": [
       "<AxesSubplot:ylabel='August leaflet length'>"
      ]
     },
     "execution_count": 17,
     "metadata": {},
     "output_type": "execute_result"
    },
    {
     "data": {
      "image/png": "[encoded data removed]",
      "text/plain": [
       "<Figure size 640x480 with 1 Axes>"
      ]
     },
     "metadata": {},
     "output_type": "display_data"
    }
   ],
   "source": [
    "x_axis=[*range(1,81,1)]\n",
    "#plt.scatter(x, test1['aboveground biomass (g)'], cmap='Offspring CO2')\n",
    "sns.scatterplot(data=test1, x=x_axis, y='August leaflet length', hue='Offspring CO2')"
   ]
  },
  {
   "cell_type": "markdown",
   "id": "c5b019d9-e72a-4385-9ec9-1e1eb133e11e",
   "metadata": {},
   "source": [
    "# Antall lupinus planer vs andre planter i et plot\n",
    "#### Teori: Jo flere lupinus, jo færre andre typer planter"
   ]
  },
  {
   "cell_type": "code",
   "execution_count": 18,
   "id": "af0fc0b3-d75f-4e71-b9eb-1df3436b4eac",
   "metadata": {},
   "outputs": [
    {
     "data": {
      "text/html": [
       "<div>\n",
       "<style scoped>\n",
       "    .dataframe tbody tr th:only-of-type {\n",
       "        vertical-align: middle;\n",
       "    }\n",
       "\n",
       "    .dataframe tbody tr th {\n",
       "        vertical-align: top;\n",
       "    }\n",
       "\n",
       "    .dataframe thead th {\n",
       "        text-align: right;\n",
       "    }\n",
       "</style>\n",
       "<table border=\"1\" class=\"dataframe\">\n",
       "  <thead>\n",
       "    <tr style=\"text-align: right;\">\n",
       "      <th></th>\n",
       "      <th>DBCODE</th>\n",
       "      <th>ENTITY</th>\n",
       "      <th>COMPLEX</th>\n",
       "      <th>MEADOW</th>\n",
       "      <th>PLOT_ID</th>\n",
       "      <th>YEAR</th>\n",
       "      <th>SAMPLEDATE</th>\n",
       "      <th>WATCH</th>\n",
       "      <th>OBSERVER</th>\n",
       "      <th>PLOT</th>\n",
       "      <th>FLW_STATUS</th>\n",
       "      <th>PLTSP_CODE</th>\n",
       "      <th>PLTSP_NAME</th>\n",
       "      <th>NO_STALK</th>\n",
       "      <th>NO_FLWS</th>\n",
       "      <th>QC_NOTES</th>\n",
       "    </tr>\n",
       "  </thead>\n",
       "  <tbody>\n",
       "    <tr>\n",
       "      <th>0</th>\n",
       "      <td>SA026</td>\n",
       "      <td>2</td>\n",
       "      <td>Bunchgrass</td>\n",
       "      <td>BD</td>\n",
       "      <td>BGD01</td>\n",
       "      <td>2011</td>\n",
       "      <td>2011-07-20</td>\n",
       "      <td>1.0</td>\n",
       "      <td>ND</td>\n",
       "      <td>1</td>\n",
       "      <td>NaN</td>\n",
       "      <td>NaN</td>\n",
       "      <td>NaN</td>\n",
       "      <td>NaN</td>\n",
       "      <td>NaN</td>\n",
       "      <td>NaN</td>\n",
       "    </tr>\n",
       "    <tr>\n",
       "      <th>1</th>\n",
       "      <td>SA026</td>\n",
       "      <td>2</td>\n",
       "      <td>Bunchgrass</td>\n",
       "      <td>BD</td>\n",
       "      <td>BGD01</td>\n",
       "      <td>2011</td>\n",
       "      <td>2011-07-25</td>\n",
       "      <td>2.0</td>\n",
       "      <td>Andy</td>\n",
       "      <td>1</td>\n",
       "      <td>FLW</td>\n",
       "      <td>ACHIMILL</td>\n",
       "      <td>Achillea millefolium</td>\n",
       "      <td>4.0</td>\n",
       "      <td>36.0</td>\n",
       "      <td>NaN</td>\n",
       "    </tr>\n",
       "    <tr>\n",
       "      <th>2</th>\n",
       "      <td>SA026</td>\n",
       "      <td>2</td>\n",
       "      <td>Bunchgrass</td>\n",
       "      <td>BD</td>\n",
       "      <td>BGD01</td>\n",
       "      <td>2011</td>\n",
       "      <td>2011-07-25</td>\n",
       "      <td>2.0</td>\n",
       "      <td>Andy</td>\n",
       "      <td>1</td>\n",
       "      <td>FLW</td>\n",
       "      <td>ERIGFOLI</td>\n",
       "      <td>Erigeron foliosus</td>\n",
       "      <td>14.0</td>\n",
       "      <td>1.0</td>\n",
       "      <td>NaN</td>\n",
       "    </tr>\n",
       "    <tr>\n",
       "      <th>3</th>\n",
       "      <td>SA026</td>\n",
       "      <td>2</td>\n",
       "      <td>Bunchgrass</td>\n",
       "      <td>BD</td>\n",
       "      <td>BGD01</td>\n",
       "      <td>2011</td>\n",
       "      <td>2011-07-25</td>\n",
       "      <td>2.0</td>\n",
       "      <td>Andy</td>\n",
       "      <td>1</td>\n",
       "      <td>FLW</td>\n",
       "      <td>VICIAMER</td>\n",
       "      <td>Vicia americana</td>\n",
       "      <td>3.0</td>\n",
       "      <td>2.3</td>\n",
       "      <td>NaN</td>\n",
       "    </tr>\n",
       "    <tr>\n",
       "      <th>4</th>\n",
       "      <td>SA026</td>\n",
       "      <td>2</td>\n",
       "      <td>Bunchgrass</td>\n",
       "      <td>BD</td>\n",
       "      <td>BGD01</td>\n",
       "      <td>2011</td>\n",
       "      <td>2011-08-02</td>\n",
       "      <td>3.0</td>\n",
       "      <td>Andy, Tim</td>\n",
       "      <td>1</td>\n",
       "      <td>FLW</td>\n",
       "      <td>ACHIMILL</td>\n",
       "      <td>Achillea millefolium</td>\n",
       "      <td>2.0</td>\n",
       "      <td>26.0</td>\n",
       "      <td>NaN</td>\n",
       "    </tr>\n",
       "  </tbody>\n",
       "</table>\n",
       "</div>"
      ],
      "text/plain": [
       "  DBCODE  ENTITY     COMPLEX MEADOW PLOT_ID  YEAR  SAMPLEDATE  WATCH  \\\n",
       "0  SA026       2  Bunchgrass     BD   BGD01  2011  2011-07-20    1.0   \n",
       "1  SA026       2  Bunchgrass     BD   BGD01  2011  2011-07-25    2.0   \n",
       "2  SA026       2  Bunchgrass     BD   BGD01  2011  2011-07-25    2.0   \n",
       "3  SA026       2  Bunchgrass     BD   BGD01  2011  2011-07-25    2.0   \n",
       "4  SA026       2  Bunchgrass     BD   BGD01  2011  2011-08-02    3.0   \n",
       "\n",
       "    OBSERVER  PLOT FLW_STATUS PLTSP_CODE            PLTSP_NAME  NO_STALK  \\\n",
       "0         ND     1        NaN        NaN                   NaN       NaN   \n",
       "1       Andy     1        FLW   ACHIMILL  Achillea millefolium       4.0   \n",
       "2       Andy     1        FLW   ERIGFOLI     Erigeron foliosus      14.0   \n",
       "3       Andy     1        FLW   VICIAMER       Vicia americana       3.0   \n",
       "4  Andy, Tim     1        FLW   ACHIMILL  Achillea millefolium       2.0   \n",
       "\n",
       "   NO_FLWS QC_NOTES  \n",
       "0      NaN      NaN  \n",
       "1     36.0      NaN  \n",
       "2      1.0      NaN  \n",
       "3      2.3      NaN  \n",
       "4     26.0      NaN  "
      ]
     },
     "execution_count": 18,
     "metadata": {},
     "output_type": "execute_result"
    }
   ],
   "source": [
    "poll.head()"
   ]
  },
  {
   "cell_type": "code",
   "execution_count": 19,
   "id": "3eea9dfe-5002-44f4-ae7c-ab2a2eb85414",
   "metadata": {},
   "outputs": [
    {
     "data": {
      "text/plain": [
       "(22619, 16)"
      ]
     },
     "execution_count": 19,
     "metadata": {},
     "output_type": "execute_result"
    }
   ],
   "source": [
    "poll.shape"
   ]
  },
  {
   "cell_type": "code",
   "execution_count": 20,
   "id": "724a1841-3e26-4eee-95ac-5f01f7bb7c50",
   "metadata": {},
   "outputs": [],
   "source": [
    "# hvor lange lupinus er det i et plot (180 forskjellige plot)"
   ]
  },
  {
   "cell_type": "code",
   "execution_count": 21,
   "id": "25461cac-8115-40a4-80cd-20b35df6628c",
   "metadata": {},
   "outputs": [
    {
     "data": {
      "text/plain": [
       "PLOT_ID\n",
       "FM202    314\n",
       "FM204    302\n",
       "FM201    298\n",
       "FM210    295\n",
       "FM207    289\n",
       "        ... \n",
       "BGS04     17\n",
       "BGS09     17\n",
       "BGS02     16\n",
       "BGS05     16\n",
       "BGS03     13\n",
       "Length: 180, dtype: int64"
      ]
     },
     "execution_count": 21,
     "metadata": {},
     "output_type": "execute_result"
    }
   ],
   "source": [
    "poll.value_counts('PLOT_ID')"
   ]
  },
  {
   "cell_type": "code",
   "execution_count": 27,
   "id": "2d6caa56-41d4-48d0-838f-f73a5db355f8",
   "metadata": {},
   "outputs": [
    {
     "data": {
      "text/plain": [
       "(867, 16)"
      ]
     },
     "execution_count": 27,
     "metadata": {},
     "output_type": "execute_result"
    }
   ],
   "source": [
    "lup = poll[poll['PLTSP_NAME']=='Lupinus laxiflorus']\n",
    "lup.shape"
   ]
  },
  {
   "cell_type": "code",
   "execution_count": 26,
   "id": "d249637f-635b-4a24-8206-dc0fb0523fd1",
   "metadata": {},
   "outputs": [
    {
     "data": {
      "text/html": [
       "<div>\n",
       "<style scoped>\n",
       "    .dataframe tbody tr th:only-of-type {\n",
       "        vertical-align: middle;\n",
       "    }\n",
       "\n",
       "    .dataframe tbody tr th {\n",
       "        vertical-align: top;\n",
       "    }\n",
       "\n",
       "    .dataframe thead th {\n",
       "        text-align: right;\n",
       "    }\n",
       "</style>\n",
       "<table border=\"1\" class=\"dataframe\">\n",
       "  <thead>\n",
       "    <tr style=\"text-align: right;\">\n",
       "      <th></th>\n",
       "      <th>PLOT_ID</th>\n",
       "      <th>Lupinus</th>\n",
       "    </tr>\n",
       "  </thead>\n",
       "  <tbody>\n",
       "    <tr>\n",
       "      <th>0</th>\n",
       "      <td>BGD01</td>\n",
       "      <td>1</td>\n",
       "    </tr>\n",
       "    <tr>\n",
       "      <th>1</th>\n",
       "      <td>BGD02</td>\n",
       "      <td>1</td>\n",
       "    </tr>\n",
       "    <tr>\n",
       "      <th>2</th>\n",
       "      <td>BGD03</td>\n",
       "      <td>4</td>\n",
       "    </tr>\n",
       "    <tr>\n",
       "      <th>3</th>\n",
       "      <td>BGD04</td>\n",
       "      <td>2</td>\n",
       "    </tr>\n",
       "    <tr>\n",
       "      <th>4</th>\n",
       "      <td>BGD05</td>\n",
       "      <td>2</td>\n",
       "    </tr>\n",
       "    <tr>\n",
       "      <th>...</th>\n",
       "      <td>...</td>\n",
       "      <td>...</td>\n",
       "    </tr>\n",
       "    <tr>\n",
       "      <th>132</th>\n",
       "      <td>RP206</td>\n",
       "      <td>3</td>\n",
       "    </tr>\n",
       "    <tr>\n",
       "      <th>133</th>\n",
       "      <td>RP207</td>\n",
       "      <td>10</td>\n",
       "    </tr>\n",
       "    <tr>\n",
       "      <th>134</th>\n",
       "      <td>RP208</td>\n",
       "      <td>21</td>\n",
       "    </tr>\n",
       "    <tr>\n",
       "      <th>135</th>\n",
       "      <td>RP209</td>\n",
       "      <td>14</td>\n",
       "    </tr>\n",
       "    <tr>\n",
       "      <th>136</th>\n",
       "      <td>RP210</td>\n",
       "      <td>6</td>\n",
       "    </tr>\n",
       "  </tbody>\n",
       "</table>\n",
       "<p>137 rows × 2 columns</p>\n",
       "</div>"
      ],
      "text/plain": [
       "    PLOT_ID  Lupinus\n",
       "0     BGD01        1\n",
       "1     BGD02        1\n",
       "2     BGD03        4\n",
       "3     BGD04        2\n",
       "4     BGD05        2\n",
       "..      ...      ...\n",
       "132   RP206        3\n",
       "133   RP207       10\n",
       "134   RP208       21\n",
       "135   RP209       14\n",
       "136   RP210        6\n",
       "\n",
       "[137 rows x 2 columns]"
      ]
     },
     "execution_count": 26,
     "metadata": {},
     "output_type": "execute_result"
    }
   ],
   "source": [
    "lup = lup.groupby('PLOT_ID').size().to_frame().reset_index().rename(columns={0:'Lupinus'})\n",
    "lup.shape\n",
    "lup"
   ]
  },
  {
   "cell_type": "code",
   "execution_count": 23,
   "id": "16a537f6-1a24-4144-9bd7-0bd5bb27b638",
   "metadata": {},
   "outputs": [
    {
     "data": {
      "text/plain": [
       "(21752, 16)"
      ]
     },
     "execution_count": 23,
     "metadata": {},
     "output_type": "execute_result"
    }
   ],
   "source": [
    "other = poll[poll['PLTSP_CODE']!='LUPILAXI']\n",
    "other.shape"
   ]
  },
  {
   "cell_type": "code",
   "execution_count": 24,
   "id": "83d7c20b-6de1-4adf-8c4d-fa71ce2a8978",
   "metadata": {},
   "outputs": [
    {
     "data": {
      "text/html": [
       "<div>\n",
       "<style scoped>\n",
       "    .dataframe tbody tr th:only-of-type {\n",
       "        vertical-align: middle;\n",
       "    }\n",
       "\n",
       "    .dataframe tbody tr th {\n",
       "        vertical-align: top;\n",
       "    }\n",
       "\n",
       "    .dataframe thead th {\n",
       "        text-align: right;\n",
       "    }\n",
       "</style>\n",
       "<table border=\"1\" class=\"dataframe\">\n",
       "  <thead>\n",
       "    <tr style=\"text-align: right;\">\n",
       "      <th></th>\n",
       "      <th>PLOT_ID</th>\n",
       "      <th>Other</th>\n",
       "    </tr>\n",
       "  </thead>\n",
       "  <tbody>\n",
       "    <tr>\n",
       "      <th>0</th>\n",
       "      <td>BGD01</td>\n",
       "      <td>37</td>\n",
       "    </tr>\n",
       "    <tr>\n",
       "      <th>1</th>\n",
       "      <td>BGD02</td>\n",
       "      <td>27</td>\n",
       "    </tr>\n",
       "    <tr>\n",
       "      <th>2</th>\n",
       "      <td>BGD03</td>\n",
       "      <td>40</td>\n",
       "    </tr>\n",
       "    <tr>\n",
       "      <th>3</th>\n",
       "      <td>BGD04</td>\n",
       "      <td>34</td>\n",
       "    </tr>\n",
       "    <tr>\n",
       "      <th>4</th>\n",
       "      <td>BGD05</td>\n",
       "      <td>38</td>\n",
       "    </tr>\n",
       "    <tr>\n",
       "      <th>...</th>\n",
       "      <td>...</td>\n",
       "      <td>...</td>\n",
       "    </tr>\n",
       "    <tr>\n",
       "      <th>175</th>\n",
       "      <td>RP206</td>\n",
       "      <td>151</td>\n",
       "    </tr>\n",
       "    <tr>\n",
       "      <th>176</th>\n",
       "      <td>RP207</td>\n",
       "      <td>103</td>\n",
       "    </tr>\n",
       "    <tr>\n",
       "      <th>177</th>\n",
       "      <td>RP208</td>\n",
       "      <td>144</td>\n",
       "    </tr>\n",
       "    <tr>\n",
       "      <th>178</th>\n",
       "      <td>RP209</td>\n",
       "      <td>187</td>\n",
       "    </tr>\n",
       "    <tr>\n",
       "      <th>179</th>\n",
       "      <td>RP210</td>\n",
       "      <td>187</td>\n",
       "    </tr>\n",
       "  </tbody>\n",
       "</table>\n",
       "<p>180 rows × 2 columns</p>\n",
       "</div>"
      ],
      "text/plain": [
       "    PLOT_ID  Other\n",
       "0     BGD01     37\n",
       "1     BGD02     27\n",
       "2     BGD03     40\n",
       "3     BGD04     34\n",
       "4     BGD05     38\n",
       "..      ...    ...\n",
       "175   RP206    151\n",
       "176   RP207    103\n",
       "177   RP208    144\n",
       "178   RP209    187\n",
       "179   RP210    187\n",
       "\n",
       "[180 rows x 2 columns]"
      ]
     },
     "execution_count": 24,
     "metadata": {},
     "output_type": "execute_result"
    }
   ],
   "source": [
    "other = other.groupby('PLOT_ID').size().to_frame().reset_index().rename(columns={0:'Other'})\n",
    "other.shape\n",
    "other"
   ]
  },
  {
   "cell_type": "code",
   "execution_count": 29,
   "id": "c5585f14-a132-4d20-91ee-7bbb7239024b",
   "metadata": {},
   "outputs": [
    {
     "data": {
      "text/html": [
       "<div>\n",
       "<style scoped>\n",
       "    .dataframe tbody tr th:only-of-type {\n",
       "        vertical-align: middle;\n",
       "    }\n",
       "\n",
       "    .dataframe tbody tr th {\n",
       "        vertical-align: top;\n",
       "    }\n",
       "\n",
       "    .dataframe thead th {\n",
       "        text-align: right;\n",
       "    }\n",
       "</style>\n",
       "<table border=\"1\" class=\"dataframe\">\n",
       "  <thead>\n",
       "    <tr style=\"text-align: right;\">\n",
       "      <th></th>\n",
       "      <th>PLOT_ID</th>\n",
       "      <th>Lupinus</th>\n",
       "      <th>Other</th>\n",
       "    </tr>\n",
       "  </thead>\n",
       "  <tbody>\n",
       "    <tr>\n",
       "      <th>0</th>\n",
       "      <td>BGD01</td>\n",
       "      <td>1</td>\n",
       "      <td>37</td>\n",
       "    </tr>\n",
       "    <tr>\n",
       "      <th>33</th>\n",
       "      <td>CNT01</td>\n",
       "      <td>1</td>\n",
       "      <td>35</td>\n",
       "    </tr>\n",
       "    <tr>\n",
       "      <th>36</th>\n",
       "      <td>CNT05</td>\n",
       "      <td>1</td>\n",
       "      <td>52</td>\n",
       "    </tr>\n",
       "    <tr>\n",
       "      <th>40</th>\n",
       "      <td>CPB05</td>\n",
       "      <td>1</td>\n",
       "      <td>199</td>\n",
       "    </tr>\n",
       "    <tr>\n",
       "      <th>42</th>\n",
       "      <td>CPB07</td>\n",
       "      <td>1</td>\n",
       "      <td>201</td>\n",
       "    </tr>\n",
       "    <tr>\n",
       "      <th>...</th>\n",
       "      <td>...</td>\n",
       "      <td>...</td>\n",
       "      <td>...</td>\n",
       "    </tr>\n",
       "    <tr>\n",
       "      <th>66</th>\n",
       "      <td>FM202</td>\n",
       "      <td>18</td>\n",
       "      <td>296</td>\n",
       "    </tr>\n",
       "    <tr>\n",
       "      <th>126</th>\n",
       "      <td>RP110</td>\n",
       "      <td>19</td>\n",
       "      <td>214</td>\n",
       "    </tr>\n",
       "    <tr>\n",
       "      <th>65</th>\n",
       "      <td>FM201</td>\n",
       "      <td>20</td>\n",
       "      <td>278</td>\n",
       "    </tr>\n",
       "    <tr>\n",
       "      <th>102</th>\n",
       "      <td>LOO06</td>\n",
       "      <td>21</td>\n",
       "      <td>224</td>\n",
       "    </tr>\n",
       "    <tr>\n",
       "      <th>134</th>\n",
       "      <td>RP208</td>\n",
       "      <td>21</td>\n",
       "      <td>144</td>\n",
       "    </tr>\n",
       "  </tbody>\n",
       "</table>\n",
       "<p>137 rows × 3 columns</p>\n",
       "</div>"
      ],
      "text/plain": [
       "    PLOT_ID  Lupinus  Other\n",
       "0     BGD01        1     37\n",
       "33    CNT01        1     35\n",
       "36    CNT05        1     52\n",
       "40    CPB05        1    199\n",
       "42    CPB07        1    201\n",
       "..      ...      ...    ...\n",
       "66    FM202       18    296\n",
       "126   RP110       19    214\n",
       "65    FM201       20    278\n",
       "102   LOO06       21    224\n",
       "134   RP208       21    144\n",
       "\n",
       "[137 rows x 3 columns]"
      ]
     },
     "execution_count": 29,
     "metadata": {},
     "output_type": "execute_result"
    }
   ],
   "source": [
    "total = pd.merge(lup, other, on='PLOT_ID').sort_values('Lupinus')\n",
    "total"
   ]
  },
  {
   "cell_type": "code",
   "execution_count": 30,
   "id": "44ee62b9-4541-4d67-a30e-4d43345bf8d5",
   "metadata": {},
   "outputs": [
    {
     "data": {
      "text/plain": [
       "<AxesSubplot:xlabel='Lupinus', ylabel='Other'>"
      ]
     },
     "execution_count": 30,
     "metadata": {},
     "output_type": "execute_result"
    },
    {
     "data": {
      "image/png": "[encoded data removed]",
      "text/plain": [
       "<Figure size 640x480 with 1 Axes>"
      ]
     },
     "metadata": {},
     "output_type": "display_data"
    }
   ],
   "source": [
    "sns.scatterplot(data=total, x='Lupinus', y='Other')"
   ]
  },
  {
   "cell_type": "code",
   "execution_count": 33,
   "id": "deb0441c-9a9a-4044-8868-92f9e1e53d10",
   "metadata": {},
   "outputs": [
    {
     "data": {
      "text/html": [
       "<div>\n",
       "<style scoped>\n",
       "    .dataframe tbody tr th:only-of-type {\n",
       "        vertical-align: middle;\n",
       "    }\n",
       "\n",
       "    .dataframe tbody tr th {\n",
       "        vertical-align: top;\n",
       "    }\n",
       "\n",
       "    .dataframe thead th {\n",
       "        text-align: right;\n",
       "    }\n",
       "</style>\n",
       "<table border=\"1\" class=\"dataframe\">\n",
       "  <thead>\n",
       "    <tr style=\"text-align: right;\">\n",
       "      <th></th>\n",
       "      <th>Other</th>\n",
       "    </tr>\n",
       "    <tr>\n",
       "      <th>Lupinus</th>\n",
       "      <th></th>\n",
       "    </tr>\n",
       "  </thead>\n",
       "  <tbody>\n",
       "    <tr>\n",
       "      <th>1</th>\n",
       "      <td>105.263158</td>\n",
       "    </tr>\n",
       "    <tr>\n",
       "      <th>2</th>\n",
       "      <td>66.736842</td>\n",
       "    </tr>\n",
       "    <tr>\n",
       "      <th>3</th>\n",
       "      <td>96.357143</td>\n",
       "    </tr>\n",
       "    <tr>\n",
       "      <th>4</th>\n",
       "      <td>129.666667</td>\n",
       "    </tr>\n",
       "    <tr>\n",
       "      <th>5</th>\n",
       "      <td>81.714286</td>\n",
       "    </tr>\n",
       "    <tr>\n",
       "      <th>6</th>\n",
       "      <td>129.090909</td>\n",
       "    </tr>\n",
       "    <tr>\n",
       "      <th>7</th>\n",
       "      <td>184.400000</td>\n",
       "    </tr>\n",
       "    <tr>\n",
       "      <th>8</th>\n",
       "      <td>162.666667</td>\n",
       "    </tr>\n",
       "    <tr>\n",
       "      <th>9</th>\n",
       "      <td>182.888889</td>\n",
       "    </tr>\n",
       "    <tr>\n",
       "      <th>10</th>\n",
       "      <td>146.400000</td>\n",
       "    </tr>\n",
       "    <tr>\n",
       "      <th>11</th>\n",
       "      <td>207.714286</td>\n",
       "    </tr>\n",
       "    <tr>\n",
       "      <th>12</th>\n",
       "      <td>184.400000</td>\n",
       "    </tr>\n",
       "    <tr>\n",
       "      <th>13</th>\n",
       "      <td>195.000000</td>\n",
       "    </tr>\n",
       "    <tr>\n",
       "      <th>14</th>\n",
       "      <td>176.000000</td>\n",
       "    </tr>\n",
       "    <tr>\n",
       "      <th>15</th>\n",
       "      <td>265.500000</td>\n",
       "    </tr>\n",
       "    <tr>\n",
       "      <th>16</th>\n",
       "      <td>203.000000</td>\n",
       "    </tr>\n",
       "    <tr>\n",
       "      <th>18</th>\n",
       "      <td>286.500000</td>\n",
       "    </tr>\n",
       "    <tr>\n",
       "      <th>19</th>\n",
       "      <td>214.000000</td>\n",
       "    </tr>\n",
       "    <tr>\n",
       "      <th>20</th>\n",
       "      <td>278.000000</td>\n",
       "    </tr>\n",
       "    <tr>\n",
       "      <th>21</th>\n",
       "      <td>184.000000</td>\n",
       "    </tr>\n",
       "  </tbody>\n",
       "</table>\n",
       "</div>"
      ],
      "text/plain": [
       "              Other\n",
       "Lupinus            \n",
       "1        105.263158\n",
       "2         66.736842\n",
       "3         96.357143\n",
       "4        129.666667\n",
       "5         81.714286\n",
       "6        129.090909\n",
       "7        184.400000\n",
       "8        162.666667\n",
       "9        182.888889\n",
       "10       146.400000\n",
       "11       207.714286\n",
       "12       184.400000\n",
       "13       195.000000\n",
       "14       176.000000\n",
       "15       265.500000\n",
       "16       203.000000\n",
       "18       286.500000\n",
       "19       214.000000\n",
       "20       278.000000\n",
       "21       184.000000"
      ]
     },
     "execution_count": 33,
     "metadata": {},
     "output_type": "execute_result"
    }
   ],
   "source": [
    "mean_df = total.groupby('Lupinus').mean()\n",
    "mean_df"
   ]
  },
  {
   "cell_type": "code",
   "execution_count": 34,
   "id": "ecdbc3a0-60f4-4b2b-af88-ebaf68ff012f",
   "metadata": {},
   "outputs": [
    {
     "data": {
      "text/plain": [
       "<AxesSubplot:xlabel='Lupinus', ylabel='Other'>"
      ]
     },
     "execution_count": 34,
     "metadata": {},
     "output_type": "execute_result"
    },
    {
     "data": {
      "image/png": "[encoded data removed]",
      "text/plain": [
       "<Figure size 640x480 with 1 Axes>"
      ]
     },
     "metadata": {},
     "output_type": "display_data"
    }
   ],
   "source": [
    "sns.scatterplot(data=mean_df, x='Lupinus', y='Other')"
   ]
  },
  {
   "cell_type": "markdown",
   "id": "30b38b53-d350-4a6c-8587-02cc6032380c",
   "metadata": {},
   "source": [
    "### Se på antall andre planter i plot der det ikke finnes lupinus"
   ]
  },
  {
   "cell_type": "code",
   "execution_count": 39,
   "id": "53c1fd2c-9659-4526-93e9-756461d3cc3f",
   "metadata": {},
   "outputs": [
    {
     "data": {
      "text/plain": [
       "0      BGD01\n",
       "1      BGD02\n",
       "2      BGD03\n",
       "3      BGD04\n",
       "4      BGD05\n",
       "       ...  \n",
       "132    RP206\n",
       "133    RP207\n",
       "134    RP208\n",
       "135    RP209\n",
       "136    RP210\n",
       "Name: PLOT_ID, Length: 137, dtype: object"
      ]
     },
     "execution_count": 39,
     "metadata": {},
     "output_type": "execute_result"
    }
   ],
   "source": [
    "lup_plots=lup['PLOT_ID']\n",
    "lup_plots"
   ]
  },
  {
   "cell_type": "code",
   "execution_count": 43,
   "id": "6ca410d7-e59f-4db3-9386-a789169d344b",
   "metadata": {},
   "outputs": [
    {
     "name": "stderr",
     "output_type": "stream",
     "text": [
      "/tmp/ipykernel_181/2387546604.py:1: FutureWarning: Dropping of nuisance columns in DataFrame reductions (with 'numeric_only=None') is deprecated; in a future version this will raise TypeError.  Select only valid columns before calling the reduction.\n",
      "  new_other=other[~other['PLOT_ID'].isin(lup_plots)].mean()\n"
     ]
    },
    {
     "data": {
      "text/plain": [
       "Other    73.651163\n",
       "dtype: float64"
      ]
     },
     "execution_count": 43,
     "metadata": {},
     "output_type": "execute_result"
    }
   ],
   "source": [
    "new_other=other[~other['PLOT_ID'].isin(lup_plots)].mean()\n",
    "new_other"
   ]
  },
  {
   "cell_type": "code",
   "execution_count": null,
   "id": "59e28fab-8b24-40d6-bf42-9627183ba7af",
   "metadata": {},
   "outputs": [],
   "source": []
  }
 ],
 "metadata": {
  "kernelspec": {
   "display_name": "Python 3 (ipykernel)",
   "language": "python",
   "name": "python3"
  },
  "language_info": {
   "codemirror_mode": {
    "name": "ipython",
    "version": 3
   },
   "file_extension": ".py",
   "mimetype": "text/x-python",
   "name": "python",
   "nbconvert_exporter": "python",
   "pygments_lexer": "ipython3",
   "version": "3.8.6"
  }
 },
 "nbformat": 4,
 "nbformat_minor": 5
}

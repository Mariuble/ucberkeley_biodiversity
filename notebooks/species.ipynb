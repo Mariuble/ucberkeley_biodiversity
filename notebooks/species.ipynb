{
 "cells": [
  {
   "cell_type": "code",
   "execution_count": 1,
   "id": "ee2457e2-0a1d-4be6-afc1-2b03df938706",
   "metadata": {},
   "outputs": [],
   "source": [
    "import pandas as pd\n",
    "import seaborn as sns"
   ]
  },
  {
   "cell_type": "code",
   "execution_count": 3,
   "id": "86da0750-378c-48ca-88a6-ae2339cf294f",
   "metadata": {},
   "outputs": [],
   "source": [
    "species = pd.read_csv('../datasets/national_parks_biodiversity_species.csv', dtype='string'"
   ]
  },
  {
   "cell_type": "code",
   "execution_count": 7,
   "id": "f2281d5a-1c9f-4853-af47-94016c52d5c7",
   "metadata": {},
   "outputs": [
    {
     "data": {
      "text/plain": [
       "Index(['Species ID', 'Park Name', 'Category', 'Order', 'Family',\n",
       "       'Scientific Name', 'Common Names', 'Record Status', 'Occurrence',\n",
       "       'Nativeness', 'Abundance', 'Seasonality', 'Conservation Status',\n",
       "       'Unnamed: 13'],\n",
       "      dtype='object')"
      ]
     },
     "execution_count": 7,
     "metadata": {},
     "output_type": "execute_result"
    }
   ],
   "source": [
    "species.columns"
   ]
  },
  {
   "cell_type": "code",
   "execution_count": 5,
   "id": "beda2aec-adeb-40b7-a8be-b3a1d0e932ef",
   "metadata": {},
   "outputs": [
    {
     "data": {
      "text/plain": [
       "Vascular Plant         65221\n",
       "Bird                   14601\n",
       "Insect                 14349\n",
       "Fungi                   6203\n",
       "Nonvascular Plant       4278\n",
       "Fish                    3956\n",
       "Mammal                  3867\n",
       "Invertebrate            1566\n",
       "Reptile                 1343\n",
       "Algae                    976\n",
       "Slug/Snail               787\n",
       "Spider/Scorpion          776\n",
       "Amphibian                743\n",
       "Crab/Lobster/Shrimp      582\n",
       "Name: Category, dtype: Int64"
      ]
     },
     "execution_count": 5,
     "metadata": {},
     "output_type": "execute_result"
    }
   ],
   "source": [
    "species['Category'].value_counts()"
   ]
  },
  {
   "cell_type": "code",
   "execution_count": 27,
   "id": "5735475a-2bb6-4a17-822a-5a5ea07f9f9f",
   "metadata": {},
   "outputs": [
    {
     "data": {
      "text/html": [
       "<div>\n",
       "<style scoped>\n",
       "    .dataframe tbody tr th:only-of-type {\n",
       "        vertical-align: middle;\n",
       "    }\n",
       "\n",
       "    .dataframe tbody tr th {\n",
       "        vertical-align: top;\n",
       "    }\n",
       "\n",
       "    .dataframe thead th {\n",
       "        text-align: right;\n",
       "    }\n",
       "</style>\n",
       "<table border=\"1\" class=\"dataframe\">\n",
       "  <thead>\n",
       "    <tr style=\"text-align: right;\">\n",
       "      <th></th>\n",
       "      <th>Park Name</th>\n",
       "    </tr>\n",
       "    <tr>\n",
       "      <th>Common Names</th>\n",
       "      <th></th>\n",
       "    </tr>\n",
       "  </thead>\n",
       "  <tbody>\n",
       "    <tr>\n",
       "      <th>Pronghorn</th>\n",
       "      <td>9</td>\n",
       "    </tr>\n",
       "    <tr>\n",
       "      <th>None</th>\n",
       "      <td>6</td>\n",
       "    </tr>\n",
       "    <tr>\n",
       "      <th>White-Tailed Deer</th>\n",
       "      <td>5</td>\n",
       "    </tr>\n",
       "    <tr>\n",
       "      <th>Moose</th>\n",
       "      <td>4</td>\n",
       "    </tr>\n",
       "    <tr>\n",
       "      <th>Pronghorn, Pronghorn</th>\n",
       "      <td>4</td>\n",
       "    </tr>\n",
       "    <tr>\n",
       "      <th>Mountain Goat</th>\n",
       "      <td>4</td>\n",
       "    </tr>\n",
       "    <tr>\n",
       "      <th>White-Tailed Deer, White-Tailed Deer</th>\n",
       "      <td>2</td>\n",
       "    </tr>\n",
       "    <tr>\n",
       "      <th>Bison</th>\n",
       "      <td>2</td>\n",
       "    </tr>\n",
       "    <tr>\n",
       "      <th>Muskox</th>\n",
       "      <td>2</td>\n",
       "    </tr>\n",
       "    <tr>\n",
       "      <th>Sierra Nevada Bighorn Sheep</th>\n",
       "      <td>1</td>\n",
       "    </tr>\n",
       "    <tr>\n",
       "      <th>Short-Finned Pilot Whale</th>\n",
       "      <td>1</td>\n",
       "    </tr>\n",
       "    <tr>\n",
       "      <th>Pronghorn Antelope, Pronghorn/Antelope</th>\n",
       "      <td>1</td>\n",
       "    </tr>\n",
       "    <tr>\n",
       "      <th>Pronghorn Antelope</th>\n",
       "      <td>1</td>\n",
       "    </tr>\n",
       "    <tr>\n",
       "      <th>Mountain Goat, Mountain Goat, Rocky Mountain Goat</th>\n",
       "      <td>1</td>\n",
       "    </tr>\n",
       "    <tr>\n",
       "      <th>Antelope, Pronghorn</th>\n",
       "      <td>1</td>\n",
       "    </tr>\n",
       "    <tr>\n",
       "      <th>Aurochs, Aurochs, Domestic Cattle (Feral), Dom...</th>\n",
       "      <td>1</td>\n",
       "    </tr>\n",
       "    <tr>\n",
       "      <th>Gapper's Red-Backed Vole</th>\n",
       "      <td>1</td>\n",
       "    </tr>\n",
       "    <tr>\n",
       "      <th>Feral Sheep, Red Sheep</th>\n",
       "      <td>1</td>\n",
       "    </tr>\n",
       "    <tr>\n",
       "      <th>Feral Cattle</th>\n",
       "      <td>1</td>\n",
       "    </tr>\n",
       "    <tr>\n",
       "      <th>Domestic Cow</th>\n",
       "      <td>1</td>\n",
       "    </tr>\n",
       "    <tr>\n",
       "      <th>Domestic Cattle (Feral),</th>\n",
       "      <td>1</td>\n",
       "    </tr>\n",
       "    <tr>\n",
       "      <th>Desert Pallid Bat</th>\n",
       "      <td>1</td>\n",
       "    </tr>\n",
       "    <tr>\n",
       "      <th>Dall's Sheep</th>\n",
       "      <td>1</td>\n",
       "    </tr>\n",
       "    <tr>\n",
       "      <th>Colorado Chipmunk</th>\n",
       "      <td>1</td>\n",
       "    </tr>\n",
       "    <tr>\n",
       "      <th>Channel Islands Gray Fox</th>\n",
       "      <td>1</td>\n",
       "    </tr>\n",
       "    <tr>\n",
       "      <th>Bighorn Sheep</th>\n",
       "      <td>1</td>\n",
       "    </tr>\n",
       "    <tr>\n",
       "      <th>Merriam's Elk</th>\n",
       "      <td>1</td>\n",
       "    </tr>\n",
       "  </tbody>\n",
       "</table>\n",
       "</div>"
      ],
      "text/plain": [
       "                                                   Park Name\n",
       "Common Names                                                \n",
       "Pronghorn                                                  9\n",
       "None                                                       6\n",
       "White-Tailed Deer                                          5\n",
       "Moose                                                      4\n",
       "Pronghorn, Pronghorn                                       4\n",
       "Mountain Goat                                              4\n",
       "White-Tailed Deer, White-Tailed Deer                       2\n",
       "Bison                                                      2\n",
       "Muskox                                                     2\n",
       "Sierra Nevada Bighorn Sheep                                1\n",
       "Short-Finned Pilot Whale                                   1\n",
       "Pronghorn Antelope, Pronghorn/Antelope                     1\n",
       "Pronghorn Antelope                                         1\n",
       "Mountain Goat, Mountain Goat, Rocky Mountain Goat          1\n",
       "Antelope, Pronghorn                                        1\n",
       "Aurochs, Aurochs, Domestic Cattle (Feral), Dom...          1\n",
       "Gapper's Red-Backed Vole                                   1\n",
       "Feral Sheep, Red Sheep                                     1\n",
       "Feral Cattle                                               1\n",
       "Domestic Cow                                               1\n",
       "Domestic Cattle (Feral),                                   1\n",
       "Desert Pallid Bat                                          1\n",
       "Dall's Sheep                                               1\n",
       "Colorado Chipmunk                                          1\n",
       "Channel Islands Gray Fox                                   1\n",
       "Bighorn Sheep                                              1\n",
       "Merriam's Elk                                              1"
      ]
     },
     "execution_count": 27,
     "metadata": {},
     "output_type": "execute_result"
    }
   ],
   "source": [
    "species.groupby('Park Name').first().reset_index().groupby('Common Names').agg({'Park Name': 'count'}).sort_values(by='Park Name', ascending=False)"
   ]
  },
  {
   "cell_type": "code",
   "execution_count": 6,
   "id": "295ac2c1-9caa-475d-9764-ae019f432ecd",
   "metadata": {},
   "outputs": [],
   "source": [
    "plants = species[(species['Category'] == 'Vascular Plant') | (species['Category'] == 'Nonvascular Plant')]"
   ]
  },
  {
   "cell_type": "code",
   "execution_count": 42,
   "id": "1278492c-caa0-42bd-b73f-9bbf8387b234",
   "metadata": {},
   "outputs": [
    {
     "data": {
      "text/plain": [
       "Succulent Lupine                                     1\n",
       "Seashore Lupine                                      1\n",
       "Annual Lupine, Sky Lupine                            2\n",
       "Hairy Bush-Pea, Hairy False-Lupine                   1\n",
       "Chamisso Bush Lupine                                 1\n",
       "Silverleaf Lupine                                    2\n",
       "Bicolor Lupine, Miniature Lupine                     4\n",
       "Big-Lvd Lupine, Many-Lvd Lupine, Swamp Lupine        1\n",
       "Green Slender Lupine                                 1\n",
       "Wyeth's Lupine                                       2\n",
       "Columbia Lupine                                      1\n",
       "Bajada Lupine, Elegant Lupine, Scarlet Lupine        2\n",
       "Hyacinth Lupine                                      1\n",
       "Donner Lake Lupine                                   1\n",
       "Garden Lupine                                        1\n",
       "Adonis Lupine                                        1\n",
       "Inyo Meadow Lupine                                   1\n",
       "Meadow Lupine                                        3\n",
       "Drew's Silky Lupine                                  1\n",
       "Shortstem Lupine                                     5\n",
       "Altramuz Perenne, Bigleaf Lupine, Garden Lupin...    6\n",
       "Panamint Mountain Lupine                             2\n",
       "Yellow-Eye Lupine                                    1\n",
       "Subalpine Lupine                                     3\n",
       "Pale Desert Lupine                                   1\n",
       "Greenstipule Lupine                                  2\n",
       "Summer Lupine                                        2\n",
       "Shaggy Lupine                                        1\n",
       "Lupine, Silky Lupine, Wyeth Lupine                   1\n",
       "Miniature Annual Lupine, Miniature Lupine            1\n",
       "Name: Common Names, dtype: Int64"
      ]
     },
     "execution_count": 42,
     "metadata": {},
     "output_type": "execute_result"
    }
   ],
   "source": [
    "plants[plants['Common Names'].str.lower().str.contains('lupin')]['Common Names'].value_counts().sample(30)"
   ]
  },
  {
   "cell_type": "code",
   "execution_count": 65,
   "id": "b743e2b8-6eb1-41b1-8967-bfa4c91023b0",
   "metadata": {},
   "outputs": [
    {
     "data": {
      "text/plain": [
       "<bound method Series.sort_values of None                      6403\n",
       "Brachythecium Moss          75\n",
       "Kentucky Bluegrass          58\n",
       "Bryum Moss                  53\n",
       "Dicranum Moss               53\n",
       "                          ... \n",
       "Kamchatica Rockress          1\n",
       "Sand-Dune Rockcress          1\n",
       "Western Poppy                1\n",
       "Deer Cabbage                 1\n",
       "Palmer's Ground-Cherry       1\n",
       "Name: Common Names, Length: 27638, dtype: Int64>"
      ]
     },
     "execution_count": 65,
     "metadata": {},
     "output_type": "execute_result"
    }
   ],
   "source": [
    "plants['Common Names'].value_counts().sort_values"
   ]
  }
 ],
 "metadata": {
  "kernelspec": {
   "display_name": "Python 3 (ipykernel)",
   "language": "python",
   "name": "python3"
  },
  "language_info": {
   "codemirror_mode": {
    "name": "ipython",
    "version": 3
   },
   "file_extension": ".py",
   "mimetype": "text/x-python",
   "name": "python",
   "nbconvert_exporter": "python",
   "pygments_lexer": "ipython3",
   "version": "3.10.2"
  }
 },
 "nbformat": 4,
 "nbformat_minor": 5
}

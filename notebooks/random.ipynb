{
 "cells": [
  {
   "cell_type": "code",
   "execution_count": 1,
   "id": "8506a5db",
   "metadata": {},
   "outputs": [
    {
     "name": "stdout",
     "output_type": "stream",
     "text": [
      "bioCON_plant_diversity.txt\n",
      "national_parks_biodiversity_parks.csv\n",
      "national_parks_biodiversity_species.csv\n",
      "plant_pollinator_diversity_set1.csv\n",
      "plant_pollinator_diversity_set2.csv\n"
     ]
    }
   ],
   "source": [
    "ls datasets/"
   ]
  },
  {
   "cell_type": "code",
   "execution_count": 2,
   "id": "88182753",
   "metadata": {},
   "outputs": [],
   "source": [
    "import pandas as pd\n",
    "import seaborn as sns\n",
    "import matplotlib.pyplot as plt"
   ]
  },
  {
   "cell_type": "code",
   "execution_count": 3,
   "id": "46033a25",
   "metadata": {},
   "outputs": [],
   "source": [
    "bicon = pd.read_csv('datasets/bioCON_plant_diversity.txt', delimiter='\\t')\n",
    "parks = pd.read_csv('datasets/national_parks_biodiversity_parks.csv')\n",
    "species = pd.read_csv('datasets/national_parks_biodiversity_species.csv', dtype='string')\n",
    "pollinator1 = pd.read_csv('datasets/plant_pollinator_diversity_set1.csv')\n",
    "pollinator2 = pd.read_csv('datasets/plant_pollinator_diversity_set2.csv')"
   ]
  },
  {
   "cell_type": "code",
   "execution_count": 4,
   "id": "24b4f318",
   "metadata": {},
   "outputs": [
    {
     "data": {
      "text/html": [
       "<div>\n",
       "<style scoped>\n",
       "    .dataframe tbody tr th:only-of-type {\n",
       "        vertical-align: middle;\n",
       "    }\n",
       "\n",
       "    .dataframe tbody tr th {\n",
       "        vertical-align: top;\n",
       "    }\n",
       "\n",
       "    .dataframe thead th {\n",
       "        text-align: right;\n",
       "    }\n",
       "</style>\n",
       "<table border=\"1\" class=\"dataframe\">\n",
       "  <thead>\n",
       "    <tr style=\"text-align: right;\">\n",
       "      <th></th>\n",
       "      <th>Species ID</th>\n",
       "      <th>Park Name</th>\n",
       "      <th>Category</th>\n",
       "      <th>Order</th>\n",
       "      <th>Family</th>\n",
       "      <th>Scientific Name</th>\n",
       "      <th>Common Names</th>\n",
       "      <th>Record Status</th>\n",
       "      <th>Occurrence</th>\n",
       "      <th>Nativeness</th>\n",
       "      <th>Abundance</th>\n",
       "      <th>Seasonality</th>\n",
       "      <th>Conservation Status</th>\n",
       "      <th>Unnamed: 13</th>\n",
       "    </tr>\n",
       "  </thead>\n",
       "  <tbody>\n",
       "    <tr>\n",
       "      <th>0</th>\n",
       "      <td>ACAD-1000</td>\n",
       "      <td>Acadia National Park</td>\n",
       "      <td>Mammal</td>\n",
       "      <td>Artiodactyla</td>\n",
       "      <td>Cervidae</td>\n",
       "      <td>Alces alces</td>\n",
       "      <td>Moose</td>\n",
       "      <td>Approved</td>\n",
       "      <td>Present</td>\n",
       "      <td>Native</td>\n",
       "      <td>Rare</td>\n",
       "      <td>Resident</td>\n",
       "      <td>NaN</td>\n",
       "      <td>NaN</td>\n",
       "    </tr>\n",
       "    <tr>\n",
       "      <th>24768</th>\n",
       "      <td>DENA-1003</td>\n",
       "      <td>Denali National Park and Preserve</td>\n",
       "      <td>Mammal</td>\n",
       "      <td>Artiodactyla</td>\n",
       "      <td>Cervidae</td>\n",
       "      <td>Alces alces</td>\n",
       "      <td>Moose</td>\n",
       "      <td>Approved</td>\n",
       "      <td>Present</td>\n",
       "      <td>Native</td>\n",
       "      <td>Common</td>\n",
       "      <td>Breeder</td>\n",
       "      <td>NaN</td>\n",
       "      <td>NaN</td>\n",
       "    </tr>\n",
       "    <tr>\n",
       "      <th>33458</th>\n",
       "      <td>GAAR-1002</td>\n",
       "      <td>Gates Of The Arctic National Park and Preserve</td>\n",
       "      <td>Mammal</td>\n",
       "      <td>Artiodactyla</td>\n",
       "      <td>Cervidae</td>\n",
       "      <td>Alces alces</td>\n",
       "      <td>Moose</td>\n",
       "      <td>Approved</td>\n",
       "      <td>Present</td>\n",
       "      <td>Native</td>\n",
       "      <td>Common</td>\n",
       "      <td>Breeder</td>\n",
       "      <td>NaN</td>\n",
       "      <td>NaN</td>\n",
       "    </tr>\n",
       "    <tr>\n",
       "      <th>34813</th>\n",
       "      <td>GLAC-1004</td>\n",
       "      <td>Glacier National Park</td>\n",
       "      <td>Mammal</td>\n",
       "      <td>Artiodactyla</td>\n",
       "      <td>Cervidae</td>\n",
       "      <td>Alces alces</td>\n",
       "      <td>Moose</td>\n",
       "      <td>Approved</td>\n",
       "      <td>Present</td>\n",
       "      <td>Native</td>\n",
       "      <td>Common</td>\n",
       "      <td>Breeder</td>\n",
       "      <td>NaN</td>\n",
       "      <td>NaN</td>\n",
       "    </tr>\n",
       "    <tr>\n",
       "      <th>37366</th>\n",
       "      <td>GLBA-1001</td>\n",
       "      <td>Glacier Bay National Park and Preserve</td>\n",
       "      <td>Mammal</td>\n",
       "      <td>Artiodactyla</td>\n",
       "      <td>Cervidae</td>\n",
       "      <td>Alces alces</td>\n",
       "      <td>Moose</td>\n",
       "      <td>Approved</td>\n",
       "      <td>Present</td>\n",
       "      <td>Native</td>\n",
       "      <td>Common</td>\n",
       "      <td>Breeder</td>\n",
       "      <td>NaN</td>\n",
       "      <td>NaN</td>\n",
       "    </tr>\n",
       "  </tbody>\n",
       "</table>\n",
       "</div>"
      ],
      "text/plain": [
       "      Species ID                                       Park Name Category  \\\n",
       "0      ACAD-1000                            Acadia National Park   Mammal   \n",
       "24768  DENA-1003               Denali National Park and Preserve   Mammal   \n",
       "33458  GAAR-1002  Gates Of The Arctic National Park and Preserve   Mammal   \n",
       "34813  GLAC-1004                           Glacier National Park   Mammal   \n",
       "37366  GLBA-1001          Glacier Bay National Park and Preserve   Mammal   \n",
       "\n",
       "              Order    Family Scientific Name Common Names Record Status  \\\n",
       "0      Artiodactyla  Cervidae     Alces alces        Moose      Approved   \n",
       "24768  Artiodactyla  Cervidae     Alces alces        Moose      Approved   \n",
       "33458  Artiodactyla  Cervidae     Alces alces        Moose      Approved   \n",
       "34813  Artiodactyla  Cervidae     Alces alces        Moose      Approved   \n",
       "37366  Artiodactyla  Cervidae     Alces alces        Moose      Approved   \n",
       "\n",
       "      Occurrence Nativeness Abundance Seasonality Conservation Status  \\\n",
       "0        Present     Native      Rare    Resident                 NaN   \n",
       "24768    Present     Native    Common     Breeder                 NaN   \n",
       "33458    Present     Native    Common     Breeder                 NaN   \n",
       "34813    Present     Native    Common     Breeder                 NaN   \n",
       "37366    Present     Native    Common     Breeder                 NaN   \n",
       "\n",
       "      Unnamed: 13  \n",
       "0             NaN  \n",
       "24768         NaN  \n",
       "33458         NaN  \n",
       "34813         NaN  \n",
       "37366         NaN  "
      ]
     },
     "execution_count": 4,
     "metadata": {},
     "output_type": "execute_result"
    }
   ],
   "source": [
    "species[species['Common Names'] == 'Moose'].head()"
   ]
  },
  {
   "cell_type": "code",
   "execution_count": 5,
   "id": "d24c571b",
   "metadata": {},
   "outputs": [
    {
     "data": {
      "text/plain": [
       "<AxesSubplot:xlabel='YEAR', ylabel='TOT_STALKS'>"
      ]
     },
     "execution_count": 5,
     "metadata": {},
     "output_type": "execute_result"
    },
    {
     "data": {
      "image/png": "[encoded data removed]",
      "text/plain": [
       "<Figure size 432x288 with 1 Axes>"
      ]
     },
     "metadata": {
      "needs_background": "light"
     },
     "output_type": "display_data"
    }
   ],
   "source": [
    "smp = pollinator2.sample(100)\n",
    "smp = smp.groupby('YEAR')[['YEAR', 'NO_STALK']].agg({'YEAR':'first','NO_STALK':'sum'}).rename(columns={'NO_STALK':'TOT_STALKS'})\n",
    "sns.barplot(data=smp, x='YEAR', y='TOT_STALKS')"
   ]
  },
  {
   "cell_type": "code",
   "execution_count": 6,
   "id": "dad6e36b",
   "metadata": {},
   "outputs": [
    {
     "data": {
      "text/plain": [
       "Index(['Year', 'Plot', 'Ring', 'CO2 Treatment', 'Nitrogen Treatment',\n",
       "       'CountOfSpecies', 'CountOfGroup', 'Experiment', 'monospecies',\n",
       "       'Monogroup', 'Water Treatment', 'Temp Treatment', 'Depth', 'Carbon(%)',\n",
       "       'Nitrogen(%)', 'C/N Ratio'],\n",
       "      dtype='object')"
      ]
     },
     "execution_count": 6,
     "metadata": {},
     "output_type": "execute_result"
    }
   ],
   "source": [
    "bicon.columns"
   ]
  },
  {
   "cell_type": "code",
   "execution_count": 4,
   "id": "2d7fb81e-f1b9-4ba1-b504-326d50acf7d8",
   "metadata": {},
   "outputs": [
    {
     "data": {
      "text/plain": [
       "Index(['DBCODE', 'ENTITY', 'COMPLEX', 'MEADOW', 'PLOT_ID', 'YEAR',\n",
       "       'SAMPLEDATE', 'WATCH', 'OBSERVER', 'PLOT', 'START_TIME', 'END_TIME',\n",
       "       'MINUTE', 'CLOUDS', 'WIND', 'TEMP', 'PPI_STATUS', 'NO_INT',\n",
       "       'PLTSP_CODE', 'PLTSP_NAME', 'VISSP_CODE', 'VISSP_NAME', 'VISSP_TYPE',\n",
       "       'REF_NO', 'VISSP_NO', 'QC_NOTES'],\n",
       "      dtype='object')"
      ]
     },
     "metadata": {},
     "output_type": "display_data"
    },
    {
     "data": {
      "text/plain": [
       "Index(['DBCODE', 'ENTITY', 'COMPLEX', 'MEADOW', 'PLOT_ID', 'YEAR',\n",
       "       'SAMPLEDATE', 'WATCH', 'OBSERVER', 'PLOT', 'FLW_STATUS', 'PLTSP_CODE',\n",
       "       'PLTSP_NAME', 'NO_STALK', 'NO_FLWS', 'QC_NOTES'],\n",
       "      dtype='object')"
      ]
     },
     "metadata": {},
     "output_type": "display_data"
    }
   ],
   "source": [
    "display(pollinator1.columns)\n",
    "display(pollinator2.columns)"
   ]
  },
  {
   "cell_type": "code",
   "execution_count": 7,
   "id": "4317650d-f684-456c-ae32-391f50d6ffdd",
   "metadata": {},
   "outputs": [
    {
     "data": {
      "text/plain": [
       "<AxesSubplot:xlabel='Nitrogen(%)', ylabel='Count'>"
      ]
     },
     "execution_count": 7,
     "metadata": {},
     "output_type": "execute_result"
    },
    {
     "data": {
      "image/png": "[encoded data removed]",
      "text/plain": [
       "<Figure size 432x288 with 1 Axes>"
      ]
     },
     "metadata": {
      "needs_background": "light"
     },
     "output_type": "display_data"
    }
   ],
   "source": [
    "sns.histplot(data=bicon.groupby('Nitrogen(%)')['Nitrogen(%)'].count())"
   ]
  },
  {
   "cell_type": "code",
   "execution_count": 52,
   "id": "0771bc6c-a667-4eab-9fe6-2e8cc461600c",
   "metadata": {},
   "outputs": [
    {
     "data": {
      "text/plain": [
       "<AxesSubplot:>"
      ]
     },
     "execution_count": 52,
     "metadata": {},
     "output_type": "execute_result"
    },
    {
     "data": {
      "image/png": "[encoded data removed]",
      "text/plain": [
       "<Figure size 432x288 with 1 Axes>"
      ]
     },
     "metadata": {
      "needs_background": "light"
     },
     "output_type": "display_data"
    }
   ],
   "source": [
    "#Distribution of Nitrogen percentage\n",
    "\n",
    "pd.to_numeric(bicon['Nitrogen(%)'], errors='coerce').dropna().hist(bins=30)\n"
   ]
  },
  {
   "cell_type": "markdown",
   "id": "d9993941-fed5-4068-8b1a-6a06b951cc8a",
   "metadata": {},
   "source": [
    "### Correlation matrices"
   ]
  },
  {
   "cell_type": "code",
   "execution_count": 8,
   "id": "7ca04632-b04e-4a51-8601-7fafad9481ab",
   "metadata": {},
   "outputs": [
    {
     "data": {
      "text/plain": [
       "Text(0.5, 1.0, 'Correlation matrix')"
      ]
     },
     "execution_count": 8,
     "metadata": {},
     "output_type": "execute_result"
    },
    {
     "data": {
      "image/png": "[encoded data removed]",
      "text/plain": [
       "<Figure size 432x288 with 2 Axes>"
      ]
     },
     "metadata": {
      "needs_background": "light"
     },
     "output_type": "display_data"
    }
   ],
   "source": [
    "sns.heatmap(bicon.corr(), annot=True, cmap=plt.cm.Reds)\n",
    "plt.title('Correlation matrix')"
   ]
  }
 ],
 "metadata": {
  "kernelspec": {
   "display_name": "Python 3 (ipykernel)",
   "language": "python",
   "name": "python3"
  },
  "language_info": {
   "codemirror_mode": {
    "name": "ipython",
    "version": 3
   },
   "file_extension": ".py",
   "mimetype": "text/x-python",
   "name": "python",
   "nbconvert_exporter": "python",
   "pygments_lexer": "ipython3",
   "version": "3.10.2"
  }
 },
 "nbformat": 4,
 "nbformat_minor": 5
}

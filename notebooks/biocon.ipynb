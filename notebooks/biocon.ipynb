{
 "cells": [
  {
   "cell_type": "code",
   "execution_count": 1,
   "id": "fcaec4da-481b-4b2e-82aa-e13d613e2deb",
   "metadata": {},
   "outputs": [],
   "source": [
    "import pandas as pd\n",
    "import seaborn as sns\n",
    "import matplotlib.pyplot as plt"
   ]
  },
  {
   "cell_type": "code",
   "execution_count": 3,
   "id": "603269ed-fbf1-43e4-aafe-936ae0c18479",
   "metadata": {},
   "outputs": [],
   "source": [
    "bicon = pd.read_csv('datasets/bioCON_plant_diversity.txt', delimiter='\\t')\n",
    "#parks = pd.read_csv('datasets/national_parks_biodiversity_parks.csv')\n",
    "#species = pd.read_csv('datasets/national_parks_biodiversity_species.csv', dtype='string')\n",
    "#pollinator1 = pd.read_csv('datasets/plant_pollinator_diversity_set1.csv')\n",
    "#pollinator2 = pd.read_csv('datasets/plant_pollinator_diversity_set2.csv')"
   ]
  },
  {
   "cell_type": "code",
   "execution_count": 4,
   "id": "9f2eee03-a91b-4898-8b43-6018c2b0554f",
   "metadata": {},
   "outputs": [
    {
     "data": {
      "text/plain": [
       "Index(['Year', 'Plot', 'Ring', 'CO2 Treatment', 'Nitrogen Treatment',\n",
       "       'CountOfSpecies', 'CountOfGroup', 'Experiment', 'monospecies',\n",
       "       'Monogroup', 'Water Treatment', 'Temp Treatment', 'Depth', 'Carbon(%)',\n",
       "       'Nitrogen(%)', 'C/N Ratio'],\n",
       "      dtype='object')"
      ]
     },
     "execution_count": 4,
     "metadata": {},
     "output_type": "execute_result"
    }
   ],
   "source": [
    "bicon.columns"
   ]
  },
  {
   "cell_type": "code",
   "execution_count": 5,
   "id": "e873123e-72d8-4784-a3ed-6799186402b9",
   "metadata": {},
   "outputs": [
    {
     "data": {
      "text/plain": [
       "<AxesSubplot:xlabel='Nitrogen(%)', ylabel='Count'>"
      ]
     },
     "execution_count": 5,
     "metadata": {},
     "output_type": "execute_result"
    },
    {
     "data": {
      "image/png": "[encoded data removed]",
      "text/plain": [
       "<Figure size 432x288 with 1 Axes>"
      ]
     },
     "metadata": {
      "needs_background": "light"
     },
     "output_type": "display_data"
    }
   ],
   "source": [
    "sns.histplot(data=bicon.groupby('Nitrogen(%)')['Nitrogen(%)'].count())"
   ]
  },
  {
   "cell_type": "markdown",
   "id": "9db13644-eab8-4454-908c-29876d71c343",
   "metadata": {},
   "source": [
    "Plants from same plant"
   ]
  }
 ],
 "metadata": {
  "kernelspec": {
   "display_name": "Python 3 (ipykernel)",
   "language": "python",
   "name": "python3"
  },
  "language_info": {
   "codemirror_mode": {
    "name": "ipython",
    "version": 3
   },
   "file_extension": ".py",
   "mimetype": "text/x-python",
   "name": "python",
   "nbconvert_exporter": "python",
   "pygments_lexer": "ipython3",
   "version": "3.10.2"
  }
 },
 "nbformat": 4,
 "nbformat_minor": 5
}

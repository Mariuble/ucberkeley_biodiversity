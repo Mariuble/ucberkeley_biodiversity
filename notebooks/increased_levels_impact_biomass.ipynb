{
 "cells": [
  {
   "cell_type": "markdown",
   "id": "248a5fb5-d9d5-4a9c-9cd6-289fa298286d",
   "metadata": {},
   "source": [
    "### Increased levels CO2 and Nitrogen in the atmosphere, and the impact on biomass\n",
    "We know that the atmospheric levels of CO2 and Nitrogen is increasing with the climate change. \n",
    "- How does this affect the biomass in plants?\n",
    "\n",
    "We have a hypothesis that uncomsumed soil levels of nitrate are less where there is higher biodiversity"
   ]
  },
  {
   "cell_type": "code",
   "execution_count": 53,
   "id": "c07e8506-0185-4183-a419-364e79d642e8",
   "metadata": {},
   "outputs": [],
   "source": [
    "import pandas as pd\n",
    "import numpy as np\n",
    "import seaborn as sns\n",
    "import matplotlib.pyplot as plt\n",
    "import plotly.express as px"
   ]
  },
  {
   "cell_type": "code",
   "execution_count": 2,
   "id": "5b85c1f8-031f-40f5-862a-7432dce6a20f",
   "metadata": {},
   "outputs": [
    {
     "name": "stdout",
     "output_type": "stream",
     "text": [
      "MS00101_v9.csv\n",
      "bioCON_plant_diversity.txt\n",
      "e081_Atmospheric deposition and precipitation.txt\n",
      "national_parks_biodiversity_parks.csv\n",
      "national_parks_biodiversity_species.csv\n",
      "plant_pollinator_diversity_set1.csv\n",
      "plant_pollinator_diversity_set2.csv\n"
     ]
    }
   ],
   "source": [
    "ls datasets/"
   ]
  },
  {
   "cell_type": "code",
   "execution_count": 4,
   "id": "51e582c2-ff7f-44cf-9581-fded08f0a1c7",
   "metadata": {},
   "outputs": [],
   "source": [
    "bicon = pd.read_csv('datasets/bioCON_plant_diversity.txt', delimiter='\\t')"
   ]
  },
  {
   "cell_type": "code",
   "execution_count": 5,
   "id": "35f20b5d-8950-423e-9d50-4a16704ac2ed",
   "metadata": {},
   "outputs": [
    {
     "data": {
      "text/plain": [
       "Index(['Year', 'Plot', 'Ring', 'CO2 Treatment', 'Nitrogen Treatment',\n",
       "       'CountOfSpecies', 'CountOfGroup', 'Experiment', 'monospecies',\n",
       "       'Monogroup', 'Water Treatment', 'Temp Treatment', 'Depth', 'Carbon(%)',\n",
       "       'Nitrogen(%)', 'C/N Ratio'],\n",
       "      dtype='object')"
      ]
     },
     "execution_count": 5,
     "metadata": {},
     "output_type": "execute_result"
    }
   ],
   "source": [
    "bicon.columns"
   ]
  },
  {
   "cell_type": "code",
   "execution_count": 114,
   "id": "1bcf5800-218f-44e5-b2dc-0b8c6b4a8381",
   "metadata": {},
   "outputs": [
    {
     "data": {
      "text/plain": [
       "40-60    1409\n",
       "0-10     1408\n",
       "10-20    1408\n",
       "20-40    1408\n",
       "Name: Depth, dtype: int64"
      ]
     },
     "execution_count": 114,
     "metadata": {},
     "output_type": "execute_result"
    }
   ],
   "source": [
    "bicon['Depth'].value_counts()"
   ]
  },
  {
   "cell_type": "code",
   "execution_count": 133,
   "id": "75fb8646-f7cb-4f5e-8856-ab64f5065ac5",
   "metadata": {},
   "outputs": [
    {
     "data": {
      "text/html": [
       "<div>\n",
       "<style scoped>\n",
       "    .dataframe tbody tr th:only-of-type {\n",
       "        vertical-align: middle;\n",
       "    }\n",
       "\n",
       "    .dataframe tbody tr th {\n",
       "        vertical-align: top;\n",
       "    }\n",
       "\n",
       "    .dataframe thead th {\n",
       "        text-align: right;\n",
       "    }\n",
       "</style>\n",
       "<table border=\"1\" class=\"dataframe\">\n",
       "  <thead>\n",
       "    <tr style=\"text-align: right;\">\n",
       "      <th></th>\n",
       "      <th>Year</th>\n",
       "      <th>Plot</th>\n",
       "      <th>Ring</th>\n",
       "      <th>CO2 Treatment</th>\n",
       "      <th>Nitrogen Treatment</th>\n",
       "      <th>CountOfSpecies</th>\n",
       "      <th>CountOfGroup</th>\n",
       "      <th>Experiment</th>\n",
       "      <th>monospecies</th>\n",
       "      <th>Monogroup</th>\n",
       "      <th>Water Treatment</th>\n",
       "      <th>Temp Treatment</th>\n",
       "      <th>Depth</th>\n",
       "      <th>Carbon(%)</th>\n",
       "      <th>Nitrogen(%)</th>\n",
       "      <th>C/N Ratio</th>\n",
       "    </tr>\n",
       "  </thead>\n",
       "  <tbody>\n",
       "    <tr>\n",
       "      <th>4218</th>\n",
       "      <td>2012</td>\n",
       "      <td>313</td>\n",
       "      <td>6</td>\n",
       "      <td>Camb</td>\n",
       "      <td>Namb</td>\n",
       "      <td>4</td>\n",
       "      <td>1</td>\n",
       "      <td>S</td>\n",
       "      <td></td>\n",
       "      <td>Forb</td>\n",
       "      <td></td>\n",
       "      <td></td>\n",
       "      <td>20-40</td>\n",
       "      <td>0.4680</td>\n",
       "      <td>0.0430</td>\n",
       "      <td>10.88372093</td>\n",
       "    </tr>\n",
       "    <tr>\n",
       "      <th>3508</th>\n",
       "      <td>2012</td>\n",
       "      <td>136</td>\n",
       "      <td>3</td>\n",
       "      <td>Cenrich</td>\n",
       "      <td>Nenrich</td>\n",
       "      <td>4</td>\n",
       "      <td>1</td>\n",
       "      <td>S</td>\n",
       "      <td></td>\n",
       "      <td>Forb</td>\n",
       "      <td></td>\n",
       "      <td></td>\n",
       "      <td>10-20</td>\n",
       "      <td>0.5780</td>\n",
       "      <td>0.0510</td>\n",
       "      <td>11.33333333</td>\n",
       "    </tr>\n",
       "    <tr>\n",
       "      <th>1008</th>\n",
       "      <td>2002</td>\n",
       "      <td>253</td>\n",
       "      <td>5</td>\n",
       "      <td>Cenrich</td>\n",
       "      <td>Nenrich</td>\n",
       "      <td>16</td>\n",
       "      <td>4</td>\n",
       "      <td>M</td>\n",
       "      <td></td>\n",
       "      <td></td>\n",
       "      <td></td>\n",
       "      <td></td>\n",
       "      <td>10-20</td>\n",
       "      <td>1.0080</td>\n",
       "      <td>0.1010</td>\n",
       "      <td>9.98019802</td>\n",
       "    </tr>\n",
       "    <tr>\n",
       "      <th>1163</th>\n",
       "      <td>2002</td>\n",
       "      <td>291</td>\n",
       "      <td>5</td>\n",
       "      <td>Cenrich</td>\n",
       "      <td>Namb</td>\n",
       "      <td>4</td>\n",
       "      <td>4</td>\n",
       "      <td>S</td>\n",
       "      <td></td>\n",
       "      <td></td>\n",
       "      <td></td>\n",
       "      <td></td>\n",
       "      <td>0-10</td>\n",
       "      <td>0.3671</td>\n",
       "      <td>0.0442</td>\n",
       "      <td>8.305429864</td>\n",
       "    </tr>\n",
       "    <tr>\n",
       "      <th>4811</th>\n",
       "      <td>2016</td>\n",
       "      <td>114</td>\n",
       "      <td>2</td>\n",
       "      <td>Camb</td>\n",
       "      <td>Nenrich</td>\n",
       "      <td>4</td>\n",
       "      <td>3</td>\n",
       "      <td>M</td>\n",
       "      <td></td>\n",
       "      <td></td>\n",
       "      <td></td>\n",
       "      <td></td>\n",
       "      <td>40-60</td>\n",
       "      <td>0.3000</td>\n",
       "      <td>0.0200</td>\n",
       "      <td>15</td>\n",
       "    </tr>\n",
       "  </tbody>\n",
       "</table>\n",
       "</div>"
      ],
      "text/plain": [
       "      Year  Plot Ring CO2 Treatment Nitrogen Treatment  CountOfSpecies  \\\n",
       "4218  2012   313    6          Camb               Namb               4   \n",
       "3508  2012   136    3       Cenrich            Nenrich               4   \n",
       "1008  2002   253    5       Cenrich            Nenrich              16   \n",
       "1163  2002   291    5       Cenrich               Namb               4   \n",
       "4811  2016   114    2          Camb            Nenrich               4   \n",
       "\n",
       "      CountOfGroup Experiment monospecies Monogroup Water Treatment  \\\n",
       "4218             1          S                  Forb                   \n",
       "3508             1          S                  Forb                   \n",
       "1008             4          M                                         \n",
       "1163             4          S                                         \n",
       "4811             3          M                                         \n",
       "\n",
       "     Temp Treatment  Depth  Carbon(%)  Nitrogen(%)    C/N Ratio  \n",
       "4218                 20-40     0.4680       0.0430  10.88372093  \n",
       "3508                 10-20     0.5780       0.0510  11.33333333  \n",
       "1008                 10-20     1.0080       0.1010   9.98019802  \n",
       "1163                  0-10     0.3671       0.0442  8.305429864  \n",
       "4811                 40-60     0.3000       0.0200           15  "
      ]
     },
     "execution_count": 133,
     "metadata": {},
     "output_type": "execute_result"
    }
   ],
   "source": [
    "bicon.sample(5)"
   ]
  },
  {
   "cell_type": "code",
   "execution_count": 32,
   "id": "cfc73289-9041-45d3-a1c7-37f7078a6f5d",
   "metadata": {},
   "outputs": [],
   "source": [
    "bicon['Carbon(%)'] = pd.to_numeric(bicon['Carbon(%)'], errors='coerce')\n",
    "bicon['Nitrogen(%)'] = pd.to_numeric(bicon['Nitrogen(%)'], errors='coerce')"
   ]
  },
  {
   "cell_type": "markdown",
   "id": "c0b54564-a3f4-444b-8f4b-831bb7ab18c9",
   "metadata": {},
   "source": [
    "### Nitrogen percentage based on count of species and depth\n",
    "- We can see that the deeper values have lower Nitrogen values\n",
    "- We can also see that the slope is similar in the different depths, but the scaling is different"
   ]
  },
  {
   "cell_type": "code",
   "execution_count": 144,
   "id": "c31c971e-771a-4aa8-93f7-f39f40217316",
   "metadata": {},
   "outputs": [
    {
     "data": {
      "text/plain": [
       "<AxesSubplot:xlabel='CountOfSpecies'>"
      ]
     },
     "execution_count": 144,
     "metadata": {},
     "output_type": "execute_result"
    },
    {
     "data": {
      "image/png": "[encoded data removed]",
      "text/plain": [
       "<Figure size 432x288 with 1 Axes>"
      ]
     },
     "metadata": {
      "needs_background": "light"
     },
     "output_type": "display_data"
    }
   ],
   "source": [
    "df = bicon.loc[:, ['CountOfSpecies', 'Depth', 'Nitrogen(%)', 'Nitrogen Treatment']].copy()\n",
    "\n",
    "df['Nitrogen(%)'] = pd.to_numeric(df['Nitrogen(%)'], errors='coerce')\n",
    "df['CountOfSpecies'] = pd.to_numeric(df['CountOfSpecies'], errors='coerce')\n",
    "\n",
    "#fig, axes = plt.subplots(nrows=2, ncols=2)\n",
    "\n",
    "ax = df[(df['Depth'] == '0-10') & (df['Nitrogen Treatment'] == 'Nenrich')].groupby('CountOfSpecies').mean().plot(color='blue')\n",
    "df[(df['Depth'] == '10-20') & (df['Nitrogen Treatment'] == 'Nenrich')].groupby('CountOfSpecies').mean().plot(ax=ax, color='green')\n",
    "df[(df['Depth'] == '20-40') & (df['Nitrogen Treatment'] == 'Nenrich')].groupby('CountOfSpecies').mean().plot(ax=ax, color='orange')\n",
    "df[(df['Depth'] == '40-60') & (df['Nitrogen Treatment'] == 'Nenrich')].groupby('CountOfSpecies').mean().plot(ax=ax, color='red')"
   ]
  }
 ],
 "metadata": {
  "kernelspec": {
   "display_name": "Python 3 (ipykernel)",
   "language": "python",
   "name": "python3"
  },
  "language_info": {
   "codemirror_mode": {
    "name": "ipython",
    "version": 3
   },
   "file_extension": ".py",
   "mimetype": "text/x-python",
   "name": "python",
   "nbconvert_exporter": "python",
   "pygments_lexer": "ipython3",
   "version": "3.10.2"
  }
 },
 "nbformat": 4,
 "nbformat_minor": 5
}

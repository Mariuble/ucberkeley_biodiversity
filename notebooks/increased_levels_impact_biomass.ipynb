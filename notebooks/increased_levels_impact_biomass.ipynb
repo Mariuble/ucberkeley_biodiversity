{
 "cells": [
  {
   "cell_type": "markdown",
   "id": "248a5fb5-d9d5-4a9c-9cd6-289fa298286d",
   "metadata": {},
   "source": [
    "### Increased levels CO2 and Nitrogen in the atmosphere, and the impact on biomass\n",
    "We know that the atmospheric levels of CO2 and Nitrogen is increasing with the climate change. \n",
    "- How does this affect the biomass in plants?\n",
    "\n",
    "We have a hypothesis that uncomsumed soil levels of nitrate are less where there is higher biodiversity"
   ]
  },
  {
   "cell_type": "code",
   "execution_count": 157,
   "id": "c07e8506-0185-4183-a419-364e79d642e8",
   "metadata": {},
   "outputs": [],
   "source": [
    "import pandas as pd\n",
    "import numpy as np\n",
    "import seaborn as sns\n",
    "import matplotlib.pyplot as plt\n",
    "import plotly.express as px"
   ]
  },
  {
   "cell_type": "code",
   "execution_count": 158,
   "id": "5b85c1f8-031f-40f5-862a-7432dce6a20f",
   "metadata": {},
   "outputs": [
    {
     "name": "stdout",
     "output_type": "stream",
     "text": [
      "MS00101_v9.csv\n",
      "bioCON_plant_diversity.txt\n",
      "e081_Atmospheric deposition and precipitation.txt\n",
      "e141_Lupinus Transgenerational Effects.txt\n",
      "e141_Poa Transgenerational Effects.txt\n",
      "e141_Schizachyrium Transgenerational Effects.txt\n",
      "national_parks_biodiversity_parks.csv\n",
      "national_parks_biodiversity_species.csv\n",
      "plant_pollinator_diversity_set1.csv\n",
      "plant_pollinator_diversity_set2.csv\n",
      "species.txt\n"
     ]
    }
   ],
   "source": [
    "ls datasets/"
   ]
  },
  {
   "cell_type": "code",
   "execution_count": 159,
   "id": "51e582c2-ff7f-44cf-9581-fded08f0a1c7",
   "metadata": {},
   "outputs": [],
   "source": [
    "bicon = pd.read_csv('datasets/bioCON_plant_diversity.txt', delimiter='\\t')"
   ]
  },
  {
   "cell_type": "code",
   "execution_count": 160,
   "id": "35f20b5d-8950-423e-9d50-4a16704ac2ed",
   "metadata": {},
   "outputs": [
    {
     "data": {
      "text/plain": [
       "Index(['Year', 'Plot', 'Ring', 'CO2 Treatment', 'Nitrogen Treatment',\n",
       "       'CountOfSpecies', 'CountOfGroup', 'Experiment', 'monospecies',\n",
       "       'Monogroup', 'Water Treatment', 'Temp Treatment', 'Depth', 'Carbon(%)',\n",
       "       'Nitrogen(%)', 'C/N Ratio'],\n",
       "      dtype='object')"
      ]
     },
     "execution_count": 160,
     "metadata": {},
     "output_type": "execute_result"
    }
   ],
   "source": [
    "bicon.columns"
   ]
  },
  {
   "cell_type": "code",
   "execution_count": 161,
   "id": "1bcf5800-218f-44e5-b2dc-0b8c6b4a8381",
   "metadata": {},
   "outputs": [
    {
     "data": {
      "text/plain": [
       "40-60    1409\n",
       "0-10     1408\n",
       "10-20    1408\n",
       "20-40    1408\n",
       "Name: Depth, dtype: int64"
      ]
     },
     "execution_count": 161,
     "metadata": {},
     "output_type": "execute_result"
    }
   ],
   "source": [
    "bicon['Depth'].value_counts()"
   ]
  },
  {
   "cell_type": "code",
   "execution_count": 162,
   "id": "75fb8646-f7cb-4f5e-8856-ab64f5065ac5",
   "metadata": {},
   "outputs": [
    {
     "data": {
      "text/html": [
       "<div>\n",
       "<style scoped>\n",
       "    .dataframe tbody tr th:only-of-type {\n",
       "        vertical-align: middle;\n",
       "    }\n",
       "\n",
       "    .dataframe tbody tr th {\n",
       "        vertical-align: top;\n",
       "    }\n",
       "\n",
       "    .dataframe thead th {\n",
       "        text-align: right;\n",
       "    }\n",
       "</style>\n",
       "<table border=\"1\" class=\"dataframe\">\n",
       "  <thead>\n",
       "    <tr style=\"text-align: right;\">\n",
       "      <th></th>\n",
       "      <th>Year</th>\n",
       "      <th>Plot</th>\n",
       "      <th>Ring</th>\n",
       "      <th>CO2 Treatment</th>\n",
       "      <th>Nitrogen Treatment</th>\n",
       "      <th>CountOfSpecies</th>\n",
       "      <th>CountOfGroup</th>\n",
       "      <th>Experiment</th>\n",
       "      <th>monospecies</th>\n",
       "      <th>Monogroup</th>\n",
       "      <th>Water Treatment</th>\n",
       "      <th>Temp Treatment</th>\n",
       "      <th>Depth</th>\n",
       "      <th>Carbon(%)</th>\n",
       "      <th>Nitrogen(%)</th>\n",
       "      <th>C/N Ratio</th>\n",
       "    </tr>\n",
       "  </thead>\n",
       "  <tbody>\n",
       "    <tr>\n",
       "      <th>2318</th>\n",
       "      <td>2007</td>\n",
       "      <td>209</td>\n",
       "      <td>4</td>\n",
       "      <td>Camb</td>\n",
       "      <td>Namb</td>\n",
       "      <td>1</td>\n",
       "      <td>1</td>\n",
       "      <td>M</td>\n",
       "      <td>Amorpha canescens</td>\n",
       "      <td>Legume</td>\n",
       "      <td></td>\n",
       "      <td></td>\n",
       "      <td>20-40</td>\n",
       "      <td>0.5685</td>\n",
       "      <td>0.0514</td>\n",
       "      <td>11.06031128</td>\n",
       "    </tr>\n",
       "    <tr>\n",
       "      <th>2262</th>\n",
       "      <td>2007</td>\n",
       "      <td>195</td>\n",
       "      <td>4</td>\n",
       "      <td>Camb</td>\n",
       "      <td>Nenrich</td>\n",
       "      <td>1</td>\n",
       "      <td>1</td>\n",
       "      <td>M</td>\n",
       "      <td>Koeleria cristata</td>\n",
       "      <td>C-3</td>\n",
       "      <td></td>\n",
       "      <td></td>\n",
       "      <td>20-40</td>\n",
       "      <td>0.3215</td>\n",
       "      <td>0.0322</td>\n",
       "      <td>9.98447205</td>\n",
       "    </tr>\n",
       "    <tr>\n",
       "      <th>1710</th>\n",
       "      <td>2007</td>\n",
       "      <td>57</td>\n",
       "      <td>1</td>\n",
       "      <td>Cenrich</td>\n",
       "      <td>Namb</td>\n",
       "      <td>1</td>\n",
       "      <td>1</td>\n",
       "      <td>M</td>\n",
       "      <td>Schizachyrium scoparium</td>\n",
       "      <td>C-4</td>\n",
       "      <td></td>\n",
       "      <td></td>\n",
       "      <td>20-40</td>\n",
       "      <td>0.322</td>\n",
       "      <td>0.029</td>\n",
       "      <td>11.10344828</td>\n",
       "    </tr>\n",
       "    <tr>\n",
       "      <th>233</th>\n",
       "      <td>2002</td>\n",
       "      <td>59</td>\n",
       "      <td>1</td>\n",
       "      <td>Cenrich</td>\n",
       "      <td>Nenrich</td>\n",
       "      <td>4</td>\n",
       "      <td>4</td>\n",
       "      <td>S</td>\n",
       "      <td></td>\n",
       "      <td></td>\n",
       "      <td></td>\n",
       "      <td></td>\n",
       "      <td>10-20</td>\n",
       "      <td>0.606</td>\n",
       "      <td>0.066</td>\n",
       "      <td>9.181818182</td>\n",
       "    </tr>\n",
       "    <tr>\n",
       "      <th>5042</th>\n",
       "      <td>2016</td>\n",
       "      <td>183</td>\n",
       "      <td>3</td>\n",
       "      <td>Cenrich</td>\n",
       "      <td>Nenrich</td>\n",
       "      <td>1</td>\n",
       "      <td>1</td>\n",
       "      <td>M</td>\n",
       "      <td>Poa pratensis</td>\n",
       "      <td>C-3</td>\n",
       "      <td></td>\n",
       "      <td></td>\n",
       "      <td>40-60</td>\n",
       "      <td>0.46</td>\n",
       "      <td>0.04</td>\n",
       "      <td>11.5</td>\n",
       "    </tr>\n",
       "  </tbody>\n",
       "</table>\n",
       "</div>"
      ],
      "text/plain": [
       "      Year  Plot Ring CO2 Treatment Nitrogen Treatment  CountOfSpecies  \\\n",
       "2318  2007   209    4          Camb               Namb               1   \n",
       "2262  2007   195    4          Camb            Nenrich               1   \n",
       "1710  2007    57    1       Cenrich               Namb               1   \n",
       "233   2002    59    1       Cenrich            Nenrich               4   \n",
       "5042  2016   183    3       Cenrich            Nenrich               1   \n",
       "\n",
       "      CountOfGroup Experiment              monospecies Monogroup  \\\n",
       "2318             1          M        Amorpha canescens    Legume   \n",
       "2262             1          M        Koeleria cristata       C-3   \n",
       "1710             1          M  Schizachyrium scoparium       C-4   \n",
       "233              4          S                                      \n",
       "5042             1          M            Poa pratensis       C-3   \n",
       "\n",
       "     Water Treatment Temp Treatment  Depth Carbon(%) Nitrogen(%)    C/N Ratio  \n",
       "2318                                 20-40    0.5685      0.0514  11.06031128  \n",
       "2262                                 20-40    0.3215      0.0322   9.98447205  \n",
       "1710                                 20-40     0.322       0.029  11.10344828  \n",
       "233                                  10-20     0.606       0.066  9.181818182  \n",
       "5042                                 40-60      0.46        0.04         11.5  "
      ]
     },
     "execution_count": 162,
     "metadata": {},
     "output_type": "execute_result"
    }
   ],
   "source": [
    "bicon.sample(5)"
   ]
  },
  {
   "cell_type": "code",
   "execution_count": 163,
   "id": "cfc73289-9041-45d3-a1c7-37f7078a6f5d",
   "metadata": {},
   "outputs": [],
   "source": [
    "bicon['Carbon(%)'] = pd.to_numeric(bicon['Carbon(%)'], errors='coerce')\n",
    "bicon['Nitrogen(%)'] = pd.to_numeric(bicon['Nitrogen(%)'], errors='coerce')"
   ]
  },
  {
   "cell_type": "markdown",
   "id": "c0b54564-a3f4-444b-8f4b-831bb7ab18c9",
   "metadata": {},
   "source": [
    "### Nitrogen percentage based on count of species and depth\n",
    "- We can see that the deeper values have lower Nitrogen values\n",
    "- We can also see that the slope is similar in the different depths, but the scaling is different"
   ]
  },
  {
   "cell_type": "code",
   "execution_count": 164,
   "id": "c31c971e-771a-4aa8-93f7-f39f40217316",
   "metadata": {},
   "outputs": [
    {
     "data": {
      "text/plain": [
       "<AxesSubplot:xlabel='CountOfSpecies'>"
      ]
     },
     "execution_count": 164,
     "metadata": {},
     "output_type": "execute_result"
    },
    {
     "data": {
      "image/png": "[encoded data removed]",
      "text/plain": [
       "<Figure size 432x288 with 1 Axes>"
      ]
     },
     "metadata": {
      "needs_background": "light"
     },
     "output_type": "display_data"
    }
   ],
   "source": [
    "df = bicon.loc[:, ['CountOfSpecies', 'Depth', 'Nitrogen(%)', 'Nitrogen Treatment']].copy()\n",
    "\n",
    "df['Nitrogen(%)'] = pd.to_numeric(df['Nitrogen(%)'], errors='coerce')\n",
    "df['CountOfSpecies'] = pd.to_numeric(df['CountOfSpecies'], errors='coerce')\n",
    "\n",
    "#fig, axes = plt.subplots(nrows=2, ncols=2)\n",
    "\n",
    "ax = df[(df['Depth'] == '0-10') & (df['Nitrogen Treatment'] == 'Nenrich')].groupby('CountOfSpecies').mean().plot(color='blue')\n",
    "df[(df['Depth'] == '10-20') & (df['Nitrogen Treatment'] == 'Nenrich')].groupby('CountOfSpecies').mean().plot(ax=ax, color='green')\n",
    "df[(df['Depth'] == '20-40') & (df['Nitrogen Treatment'] == 'Nenrich')].groupby('CountOfSpecies').mean().plot(ax=ax, color='orange')\n",
    "df[(df['Depth'] == '40-60') & (df['Nitrogen Treatment'] == 'Nenrich')].groupby('CountOfSpecies').mean().plot(ax=ax, color='red')"
   ]
  },
  {
   "cell_type": "code",
   "execution_count": 165,
   "id": "a7bafefc-0835-4c46-b286-706bdcaea4cd",
   "metadata": {},
   "outputs": [
    {
     "data": {
      "text/plain": [
       "<AxesSubplot:xlabel='Density', ylabel='Nitrogen(%)'>"
      ]
     },
     "execution_count": 165,
     "metadata": {},
     "output_type": "execute_result"
    },
    {
     "data": {
      "image/png": "[encoded data removed]",
      "text/plain": [
       "<Figure size 432x432 with 3 Axes>"
      ]
     },
     "metadata": {
      "needs_background": "light"
     },
     "output_type": "display_data"
    }
   ],
   "source": [
    "g = sns.JointGrid()\n",
    "x, y = bicon[\"CountOfSpecies\"], bicon[\"Nitrogen(%)\"]\n",
    "sns.scatterplot(x=x, y=y, ec='b', fc=\"none\", s=100, linewidth=0.5, ax=g.ax_joint)\n",
    "sns.lineplot(data=bicon[bicon['Depth'] == '0-10'].groupby('CountOfSpecies')['Nitrogen(%)'].mean(), ax=g.ax_joint)\n",
    "sns.lineplot(data=bicon[bicon['Depth'] == '10-20'].groupby('CountOfSpecies')['Nitrogen(%)'].mean(), ax=g.ax_joint)\n",
    "sns.lineplot(data=bicon[bicon['Depth'] == '20-40'].groupby('CountOfSpecies')['Nitrogen(%)'].mean(), ax=g.ax_joint)\n",
    "sns.lineplot(data=bicon[bicon['Depth'] == '40-60'].groupby('CountOfSpecies')['Nitrogen(%)'].mean(), ax=g.ax_joint)\n",
    "sns.histplot(x=x, fill=False, linewidth=2, ax=g.ax_marg_x)\n",
    "sns.kdeplot(y=y, linewidth=2, ax=g.ax_marg_y)"
   ]
  },
  {
   "cell_type": "code",
   "execution_count": 183,
   "id": "d103bb55-2f9a-4aa3-a6e7-564f9fba865f",
   "metadata": {},
   "outputs": [
    {
     "data": {
      "text/plain": [
       "<AxesSubplot:>"
      ]
     },
     "execution_count": 183,
     "metadata": {},
     "output_type": "execute_result"
    },
    {
     "data": {
      "image/png": "[encoded data removed]",
      "text/plain": [
       "<Figure size 1080x360 with 1 Axes>"
      ]
     },
     "metadata": {
      "needs_background": "light"
     },
     "output_type": "display_data"
    }
   ],
   "source": [
    "bicon[bicon['Depth'] == '0-10']['Carbon(%)'].hist(bins=100, figsize=(15,5), alpha=0.2)\n",
    "bicon[bicon['Depth'] == '10-20']['Carbon(%)'].hist(bins=100, figsize=(15,5), alpha=0.4)\n",
    "bicon[bicon['Depth'] == '20-40']['Carbon(%)'].hist(bins=100, figsize=(15,5), alpha=0.7)\n",
    "bicon[bicon['Depth'] == '40-60']['Carbon(%)'].hist(bins=100, figsize=(15,5), alpha=0.8)"
   ]
  }
 ],
 "metadata": {
  "kernelspec": {
   "display_name": "Python 3 (ipykernel)",
   "language": "python",
   "name": "python3"
  },
  "language_info": {
   "codemirror_mode": {
    "name": "ipython",
    "version": 3
   },
   "file_extension": ".py",
   "mimetype": "text/x-python",
   "name": "python",
   "nbconvert_exporter": "python",
   "pygments_lexer": "ipython3",
   "version": "3.10.2"
  }
 },
 "nbformat": 4,
 "nbformat_minor": 5
}

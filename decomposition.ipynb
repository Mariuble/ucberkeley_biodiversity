{
 "cells": [
  {
   "cell_type": "markdown",
   "id": "ebe6ff20-d31a-4f73-ba13-d380feafb143",
   "metadata": {},
   "source": [
    "# Atmospheric deposition and precipitation & temperature"
   ]
  },
  {
   "cell_type": "code",
   "execution_count": 12,
   "id": "497937b0-f1a0-4ba7-ad64-eeb35f68fc78",
   "metadata": {},
   "outputs": [],
   "source": [
    "import pandas as pd\n",
    "import numpy as np\n",
    "import seaborn as sns\n",
    "import matplotlib.pyplot as plt"
   ]
  },
  {
   "cell_type": "code",
   "execution_count": 63,
   "id": "43fc9ac2-a847-41ca-97e1-3ce2bbd2fab2",
   "metadata": {},
   "outputs": [],
   "source": [
    "atmos = pd.read_table('datasets/e081_Atmospheric deposition and precipitation.txt')\n",
    "temp = pd.read_csv('datasets/MS00101_v9.csv')"
   ]
  },
  {
   "cell_type": "code",
   "execution_count": 64,
   "id": "e6f1fef7-5edb-41b2-996f-b83944ac7fb6",
   "metadata": {},
   "outputs": [
    {
     "data": {
      "text/html": [
       "<div>\n",
       "<style scoped>\n",
       "    .dataframe tbody tr th:only-of-type {\n",
       "        vertical-align: middle;\n",
       "    }\n",
       "\n",
       "    .dataframe tbody tr th {\n",
       "        vertical-align: top;\n",
       "    }\n",
       "\n",
       "    .dataframe thead th {\n",
       "        text-align: right;\n",
       "    }\n",
       "</style>\n",
       "<table border=\"1\" class=\"dataframe\">\n",
       "  <thead>\n",
       "    <tr style=\"text-align: right;\">\n",
       "      <th></th>\n",
       "      <th>NADPSiteID</th>\n",
       "      <th>Date On</th>\n",
       "      <th>Date Off</th>\n",
       "      <th>Ca</th>\n",
       "      <th>Mg</th>\n",
       "      <th>K</th>\n",
       "      <th>Na</th>\n",
       "      <th>NH4</th>\n",
       "      <th>NO3</th>\n",
       "      <th>Cl</th>\n",
       "      <th>...</th>\n",
       "      <th>Field Cond</th>\n",
       "      <th>FV Cond</th>\n",
       "      <th>Svol</th>\n",
       "      <th>RG Ppt</th>\n",
       "      <th>Sub Ppt</th>\n",
       "      <th>Lab Type</th>\n",
       "      <th>Valcode</th>\n",
       "      <th>Invalcode</th>\n",
       "      <th>Notes</th>\n",
       "      <th>Error code</th>\n",
       "    </tr>\n",
       "  </thead>\n",
       "  <tbody>\n",
       "    <tr>\n",
       "      <th>635</th>\n",
       "      <td>MN01</td>\n",
       "      <td>4/3/2001</td>\n",
       "      <td>4/10/2001</td>\n",
       "      <td>0.460</td>\n",
       "      <td>0.039</td>\n",
       "      <td>0.044</td>\n",
       "      <td>0.098</td>\n",
       "      <td>0.830</td>\n",
       "      <td>1.400</td>\n",
       "      <td>0.130</td>\n",
       "      <td>...</td>\n",
       "      <td>12.5</td>\n",
       "      <td>p</td>\n",
       "      <td>1812.8</td>\n",
       "      <td>15.24</td>\n",
       "      <td>15.240</td>\n",
       "      <td>w</td>\n",
       "      <td>w</td>\n",
       "      <td>NaN</td>\n",
       "      <td>NaN</td>\n",
       "      <td>NaN</td>\n",
       "    </tr>\n",
       "    <tr>\n",
       "      <th>228</th>\n",
       "      <td>MN01</td>\n",
       "      <td>9/13/1988</td>\n",
       "      <td>NaN</td>\n",
       "      <td>0.091</td>\n",
       "      <td>0.024</td>\n",
       "      <td>-0.040</td>\n",
       "      <td>-0.030</td>\n",
       "      <td>0.462</td>\n",
       "      <td>0.670</td>\n",
       "      <td>0.019</td>\n",
       "      <td>...</td>\n",
       "      <td>NaN</td>\n",
       "      <td>NaN</td>\n",
       "      <td>NaN</td>\n",
       "      <td>NaN</td>\n",
       "      <td>NaN</td>\n",
       "      <td>NaN</td>\n",
       "      <td>NaN</td>\n",
       "      <td>NaN</td>\n",
       "      <td>NaN</td>\n",
       "      <td>NaN</td>\n",
       "    </tr>\n",
       "    <tr>\n",
       "      <th>414</th>\n",
       "      <td>MN01</td>\n",
       "      <td>1/7/1997</td>\n",
       "      <td>1/14/1997</td>\n",
       "      <td>0.350</td>\n",
       "      <td>0.033</td>\n",
       "      <td>0.019</td>\n",
       "      <td>0.074</td>\n",
       "      <td>0.060</td>\n",
       "      <td>3.230</td>\n",
       "      <td>0.130</td>\n",
       "      <td>...</td>\n",
       "      <td>17.9</td>\n",
       "      <td>p</td>\n",
       "      <td>108.3</td>\n",
       "      <td>2.54</td>\n",
       "      <td>2.540</td>\n",
       "      <td>w</td>\n",
       "      <td>w</td>\n",
       "      <td>NaN</td>\n",
       "      <td>NaN</td>\n",
       "      <td>NaN</td>\n",
       "    </tr>\n",
       "    <tr>\n",
       "      <th>700</th>\n",
       "      <td>MN01</td>\n",
       "      <td>7/2/2002</td>\n",
       "      <td>7/9/2002</td>\n",
       "      <td>0.550</td>\n",
       "      <td>0.105</td>\n",
       "      <td>0.087</td>\n",
       "      <td>0.185</td>\n",
       "      <td>0.670</td>\n",
       "      <td>2.120</td>\n",
       "      <td>0.290</td>\n",
       "      <td>...</td>\n",
       "      <td>13.2</td>\n",
       "      <td>p</td>\n",
       "      <td>2654.3</td>\n",
       "      <td>NaN</td>\n",
       "      <td>39.097</td>\n",
       "      <td>w</td>\n",
       "      <td>w</td>\n",
       "      <td>NaN</td>\n",
       "      <td>NaN</td>\n",
       "      <td>NaN</td>\n",
       "    </tr>\n",
       "    <tr>\n",
       "      <th>900</th>\n",
       "      <td>MN01</td>\n",
       "      <td>5/2/2006</td>\n",
       "      <td>5/9/2006</td>\n",
       "      <td>0.576</td>\n",
       "      <td>0.088</td>\n",
       "      <td>0.122</td>\n",
       "      <td>0.030</td>\n",
       "      <td>2.039</td>\n",
       "      <td>2.455</td>\n",
       "      <td>0.083</td>\n",
       "      <td>...</td>\n",
       "      <td>NaN</td>\n",
       "      <td>-</td>\n",
       "      <td>100.2</td>\n",
       "      <td>1.27</td>\n",
       "      <td>1.270</td>\n",
       "      <td>w</td>\n",
       "      <td>w</td>\n",
       "      <td>NaN</td>\n",
       "      <td>NaN</td>\n",
       "      <td>NaN</td>\n",
       "    </tr>\n",
       "  </tbody>\n",
       "</table>\n",
       "<p>5 rows × 39 columns</p>\n",
       "</div>"
      ],
      "text/plain": [
       "    NADPSiteID    Date On   Date Off     Ca     Mg      K     Na    NH4  \\\n",
       "635       MN01   4/3/2001  4/10/2001  0.460  0.039  0.044  0.098  0.830   \n",
       "228       MN01  9/13/1988        NaN  0.091  0.024 -0.040 -0.030  0.462   \n",
       "414       MN01   1/7/1997  1/14/1997  0.350  0.033  0.019  0.074  0.060   \n",
       "700       MN01   7/2/2002   7/9/2002  0.550  0.105  0.087  0.185  0.670   \n",
       "900       MN01   5/2/2006   5/9/2006  0.576  0.088  0.122  0.030  2.039   \n",
       "\n",
       "       NO3     Cl  ...  Field Cond  FV Cond    Svol  RG Ppt  Sub Ppt  \\\n",
       "635  1.400  0.130  ...        12.5        p  1812.8   15.24   15.240   \n",
       "228  0.670  0.019  ...         NaN      NaN     NaN     NaN      NaN   \n",
       "414  3.230  0.130  ...        17.9        p   108.3    2.54    2.540   \n",
       "700  2.120  0.290  ...        13.2        p  2654.3     NaN   39.097   \n",
       "900  2.455  0.083  ...         NaN        -   100.2    1.27    1.270   \n",
       "\n",
       "     Lab Type  Valcode  Invalcode  Notes  Error code  \n",
       "635         w        w        NaN    NaN         NaN  \n",
       "228       NaN      NaN        NaN    NaN         NaN  \n",
       "414         w        w        NaN    NaN         NaN  \n",
       "700         w        w        NaN    NaN         NaN  \n",
       "900         w        w        NaN    NaN         NaN  \n",
       "\n",
       "[5 rows x 39 columns]"
      ]
     },
     "metadata": {},
     "output_type": "display_data"
    },
    {
     "data": {
      "text/html": [
       "<div>\n",
       "<style scoped>\n",
       "    .dataframe tbody tr th:only-of-type {\n",
       "        vertical-align: middle;\n",
       "    }\n",
       "\n",
       "    .dataframe tbody tr th {\n",
       "        vertical-align: top;\n",
       "    }\n",
       "\n",
       "    .dataframe thead th {\n",
       "        text-align: right;\n",
       "    }\n",
       "</style>\n",
       "<table border=\"1\" class=\"dataframe\">\n",
       "  <thead>\n",
       "    <tr style=\"text-align: right;\">\n",
       "      <th></th>\n",
       "      <th>DBCODE</th>\n",
       "      <th>ENTITY</th>\n",
       "      <th>SITECODE</th>\n",
       "      <th>AIRTEMP_METHOD</th>\n",
       "      <th>HEIGHT</th>\n",
       "      <th>QC_LEVEL</th>\n",
       "      <th>PROBE_CODE</th>\n",
       "      <th>DATE</th>\n",
       "      <th>AIRTEMP_MEAN_DAY</th>\n",
       "      <th>AIRTEMP_MEAN_FLAG</th>\n",
       "      <th>AIRTEMP_MAX_DAY</th>\n",
       "      <th>AIRTEMP_MAX_FLAG</th>\n",
       "      <th>AIRTEMP_MAXTIME</th>\n",
       "      <th>AIRTEMP_MIN_DAY</th>\n",
       "      <th>AIRTEMP_MIN_FLAG</th>\n",
       "      <th>AIRTEMP_MINTIME</th>\n",
       "      <th>EVENT_CODE</th>\n",
       "    </tr>\n",
       "  </thead>\n",
       "  <tbody>\n",
       "    <tr>\n",
       "      <th>53425</th>\n",
       "      <td>MS001</td>\n",
       "      <td>1</td>\n",
       "      <td>CS2MET</td>\n",
       "      <td>AIR129</td>\n",
       "      <td>150</td>\n",
       "      <td>2D</td>\n",
       "      <td>AIRCS202</td>\n",
       "      <td>2004-11-14</td>\n",
       "      <td>6.6</td>\n",
       "      <td>A</td>\n",
       "      <td>10.9</td>\n",
       "      <td>A</td>\n",
       "      <td>1508.0</td>\n",
       "      <td>2.9</td>\n",
       "      <td>A</td>\n",
       "      <td>716.0</td>\n",
       "      <td>NaN</td>\n",
       "    </tr>\n",
       "    <tr>\n",
       "      <th>24544</th>\n",
       "      <td>MS001</td>\n",
       "      <td>1</td>\n",
       "      <td>CENMET</td>\n",
       "      <td>AIR153</td>\n",
       "      <td>250</td>\n",
       "      <td>1D</td>\n",
       "      <td>AIRCEN03</td>\n",
       "      <td>2015-08-30</td>\n",
       "      <td>10.2</td>\n",
       "      <td>A</td>\n",
       "      <td>12.1</td>\n",
       "      <td>A</td>\n",
       "      <td>210.0</td>\n",
       "      <td>9.1</td>\n",
       "      <td>A</td>\n",
       "      <td>610.0</td>\n",
       "      <td>NaN</td>\n",
       "    </tr>\n",
       "    <tr>\n",
       "      <th>209340</th>\n",
       "      <td>MS001</td>\n",
       "      <td>1</td>\n",
       "      <td>VANMET</td>\n",
       "      <td>AIR135</td>\n",
       "      <td>450</td>\n",
       "      <td>2D</td>\n",
       "      <td>AIRVAN04</td>\n",
       "      <td>2004-03-26</td>\n",
       "      <td>NaN</td>\n",
       "      <td>M</td>\n",
       "      <td>NaN</td>\n",
       "      <td>M</td>\n",
       "      <td>NaN</td>\n",
       "      <td>NaN</td>\n",
       "      <td>M</td>\n",
       "      <td>NaN</td>\n",
       "      <td>NaN</td>\n",
       "    </tr>\n",
       "    <tr>\n",
       "      <th>128706</th>\n",
       "      <td>MS001</td>\n",
       "      <td>1</td>\n",
       "      <td>PRIMET</td>\n",
       "      <td>AIR241</td>\n",
       "      <td>150</td>\n",
       "      <td>1D</td>\n",
       "      <td>AIRPRI06</td>\n",
       "      <td>2015-02-14</td>\n",
       "      <td>5.6</td>\n",
       "      <td>A</td>\n",
       "      <td>12.9</td>\n",
       "      <td>A</td>\n",
       "      <td>1440.0</td>\n",
       "      <td>1.4</td>\n",
       "      <td>A</td>\n",
       "      <td>725.0</td>\n",
       "      <td>NaN</td>\n",
       "    </tr>\n",
       "    <tr>\n",
       "      <th>63637</th>\n",
       "      <td>MS001</td>\n",
       "      <td>1</td>\n",
       "      <td>H15MET</td>\n",
       "      <td>AIR117</td>\n",
       "      <td>450</td>\n",
       "      <td>2D</td>\n",
       "      <td>AIRH1501</td>\n",
       "      <td>2005-06-10</td>\n",
       "      <td>11.1</td>\n",
       "      <td>A</td>\n",
       "      <td>16.0</td>\n",
       "      <td>A</td>\n",
       "      <td>1024.0</td>\n",
       "      <td>6.9</td>\n",
       "      <td>A</td>\n",
       "      <td>414.0</td>\n",
       "      <td>NaN</td>\n",
       "    </tr>\n",
       "  </tbody>\n",
       "</table>\n",
       "</div>"
      ],
      "text/plain": [
       "       DBCODE  ENTITY SITECODE AIRTEMP_METHOD  HEIGHT QC_LEVEL PROBE_CODE  \\\n",
       "53425   MS001       1   CS2MET         AIR129     150       2D   AIRCS202   \n",
       "24544   MS001       1   CENMET         AIR153     250       1D   AIRCEN03   \n",
       "209340  MS001       1   VANMET         AIR135     450       2D   AIRVAN04   \n",
       "128706  MS001       1   PRIMET         AIR241     150       1D   AIRPRI06   \n",
       "63637   MS001       1   H15MET         AIR117     450       2D   AIRH1501   \n",
       "\n",
       "              DATE  AIRTEMP_MEAN_DAY AIRTEMP_MEAN_FLAG  AIRTEMP_MAX_DAY  \\\n",
       "53425   2004-11-14               6.6                 A             10.9   \n",
       "24544   2015-08-30              10.2                 A             12.1   \n",
       "209340  2004-03-26               NaN                 M              NaN   \n",
       "128706  2015-02-14               5.6                 A             12.9   \n",
       "63637   2005-06-10              11.1                 A             16.0   \n",
       "\n",
       "       AIRTEMP_MAX_FLAG  AIRTEMP_MAXTIME  AIRTEMP_MIN_DAY AIRTEMP_MIN_FLAG  \\\n",
       "53425                 A           1508.0              2.9                A   \n",
       "24544                 A            210.0              9.1                A   \n",
       "209340                M              NaN              NaN                M   \n",
       "128706                A           1440.0              1.4                A   \n",
       "63637                 A           1024.0              6.9                A   \n",
       "\n",
       "        AIRTEMP_MINTIME EVENT_CODE  \n",
       "53425             716.0        NaN  \n",
       "24544             610.0        NaN  \n",
       "209340              NaN        NaN  \n",
       "128706            725.0        NaN  \n",
       "63637             414.0        NaN  "
      ]
     },
     "metadata": {},
     "output_type": "display_data"
    }
   ],
   "source": [
    "display(atmos.sample(5))\n",
    "display(temp.sample(5))"
   ]
  },
  {
   "cell_type": "code",
   "execution_count": 68,
   "id": "30c23470-926b-4be3-ba03-957a3c768423",
   "metadata": {},
   "outputs": [],
   "source": [
    "atmos['Year'] = atmos['Date On'].str.extract(r'\\d+\\/\\d+\\/(\\d+)')\n",
    "temp['Year'] = temp['DATE'].str.extract(r'(\\d+)-')"
   ]
  },
  {
   "cell_type": "code",
   "execution_count": 32,
   "id": "87555e3e-f0c3-489a-b0a5-0cd729f8e5ff",
   "metadata": {},
   "outputs": [
    {
     "data": {
      "text/plain": [
       "Index(['NADPSiteID', 'Date On', 'Date Off', 'Ca', 'Mg', 'K', 'Na', 'NH4',\n",
       "       'NO3', 'Cl', 'SO4', 'NO2', 'Br', 'F', 'PO4', 'Al', 'B', 'Cu', 'Fe',\n",
       "       'Mn', 'Ni', 'Pb', 'Zn', 'Precipitation (mm)', 'pH Field',\n",
       "       'Conductivity', 'pH Lab', 'pH FV', 'Lab Cond', 'Field Cond', 'FV Cond',\n",
       "       'Svol', 'RG Ppt', 'Sub Ppt', 'Lab Type', 'Valcode', 'Invalcode',\n",
       "       'Notes', 'Error code', 'Year'],\n",
       "      dtype='object')"
      ]
     },
     "execution_count": 32,
     "metadata": {},
     "output_type": "execute_result"
    }
   ],
   "source": [
    "atmos.columns"
   ]
  },
  {
   "cell_type": "markdown",
   "id": "3b952c77-3074-4a4f-90d7-df6f2be2820e",
   "metadata": {},
   "source": [
    "## BioCon atmos deposition"
   ]
  },
  {
   "cell_type": "code",
   "execution_count": 62,
   "id": "b5ae06f8-e707-41e1-bb67-7c4fe404dae2",
   "metadata": {},
   "outputs": [
    {
     "data": {
      "text/plain": [
       "<AxesSubplot:xlabel='Year', ylabel='Ca'>"
      ]
     },
     "execution_count": 62,
     "metadata": {},
     "output_type": "execute_result"
    },
    {
     "data": {
      "image/png": "[encoded data removed]",
      "text/plain": [
       "<Figure size 1080x360 with 1 Axes>"
      ]
     },
     "metadata": {
      "needs_background": "light"
     },
     "output_type": "display_data"
    }
   ],
   "source": [
    "plt.figure(figsize=(15,5))\n",
    "sns.barplot(data=atmos, x='Year', y='Ca')"
   ]
  },
  {
   "cell_type": "code",
   "execution_count": 88,
   "id": "b08ca1af-1c39-4ad8-82c0-9ffea1b690be",
   "metadata": {},
   "outputs": [
    {
     "data": {
      "text/plain": [
       "<AxesSubplot:xlabel='Year', ylabel='AIRTEMP_MAX_DAY'>"
      ]
     },
     "execution_count": 88,
     "metadata": {},
     "output_type": "execute_result"
    },
    {
     "data": {
      "image/png": "[encoded data removed]",
      "text/plain": [
       "<Figure size 1080x360 with 1 Axes>"
      ]
     },
     "metadata": {
      "needs_background": "light"
     },
     "output_type": "display_data"
    }
   ],
   "source": [
    "plt.figure(figsize=(15,5))\n",
    "sns.barplot(data=temp, x='Year', y='AIRTEMP_MAX_DAY')"
   ]
  },
  {
   "cell_type": "markdown",
   "id": "e1812210-4e1d-46cc-bea8-543306ff4779",
   "metadata": {},
   "source": [
    "## Andrews Forsest Meteorological Station - air temperature\n",
    "#### Pollinator dataset"
   ]
  },
  {
   "cell_type": "code",
   "execution_count": 93,
   "id": "f2793e0a-f732-49f2-a5db-3ca80c22f7c1",
   "metadata": {},
   "outputs": [
    {
     "data": {
      "text/plain": [
       "Index(['DBCODE', 'ENTITY', 'SITECODE', 'AIRTEMP_METHOD', 'HEIGHT', 'QC_LEVEL',\n",
       "       'PROBE_CODE', 'DATE', 'AIRTEMP_MEAN_DAY', 'AIRTEMP_MEAN_FLAG',\n",
       "       'AIRTEMP_MAX_DAY', 'AIRTEMP_MAX_FLAG', 'AIRTEMP_MAXTIME',\n",
       "       'AIRTEMP_MIN_DAY', 'AIRTEMP_MIN_FLAG', 'AIRTEMP_MINTIME', 'EVENT_CODE',\n",
       "       'Year'],\n",
       "      dtype='object')"
      ]
     },
     "execution_count": 93,
     "metadata": {},
     "output_type": "execute_result"
    }
   ],
   "source": [
    "temp.columns"
   ]
  },
  {
   "cell_type": "code",
   "execution_count": 92,
   "id": "74babf11-c342-4c82-82cb-950a19ea293f",
   "metadata": {},
   "outputs": [
    {
     "data": {
      "text/plain": [
       "<AxesSubplot:xlabel='Year'>"
      ]
     },
     "execution_count": 92,
     "metadata": {},
     "output_type": "execute_result"
    },
    {
     "data": {
      "image/png": "[encoded data removed]",
      "text/plain": [
       "<Figure size 432x288 with 1 Axes>"
      ]
     },
     "metadata": {
      "needs_background": "light"
     },
     "output_type": "display_data"
    }
   ],
   "source": [
    "temp[temp['SITECODE'] == 'CENMET'].groupby('Year')['AIRTEMP_MEAN_DAY'].max().plot()\n",
    "temp[temp['SITECODE'] == 'VANMET'].groupby('Year')['AIRTEMP_MEAN_DAY'].max().plot()\n",
    "temp[temp['SITECODE'] == 'UPLMET'].groupby('Year')['AIRTEMP_MEAN_DAY'].max().plot()"
   ]
  },
  {
   "cell_type": "markdown",
   "id": "815f328e-392b-456b-8e34-965595276f1d",
   "metadata": {},
   "source": [
    "### Feature Engineering"
   ]
  },
  {
   "cell_type": "code",
   "execution_count": 95,
   "id": "c8c05f0d-825e-4e25-83e8-e07ca091735b",
   "metadata": {},
   "outputs": [
    {
     "data": {
      "text/plain": [
       "Text(0.5, 1.0, 'Correlation matrix')"
      ]
     },
     "execution_count": 95,
     "metadata": {},
     "output_type": "execute_result"
    },
    {
     "data": {
      "image/png": "[encoded data removed]",
      "text/plain": [
       "<Figure size 432x288 with 2 Axes>"
      ]
     },
     "metadata": {
      "needs_background": "light"
     },
     "output_type": "display_data"
    }
   ],
   "source": [
    "sns.heatmap(temp.corr(), annot=True, cmap=plt.cm.Reds)\n",
    "plt.title('Correlation matrix')"
   ]
  },
  {
   "cell_type": "markdown",
   "id": "738ee28f-92dd-4afe-8e7c-e06b7fc683bc",
   "metadata": {},
   "source": [
    "### Fitting and prediction"
   ]
  },
  {
   "cell_type": "code",
   "execution_count": null,
   "id": "73067586-82f5-4b2f-8b70-56ada9fcb57f",
   "metadata": {},
   "outputs": [],
   "source": [
    "# Create train/test sets\n",
    "#X = mask_data.drop(columns=['9/12/2021_cpc'])\n",
    "#y = mask_data['9/12/2021_cpc']\n",
    "#X_train, X_test, y_train, y_test = train_test_split(X, y, test_size=0.33, random_state=42, shuffle=True)\n",
    "\n",
    "# fit the linear model and make predictions\n",
    "#model = lm.LinearRegression(fit_intercept=True).fit(X_train, y_train)\n",
    "\n",
    "#y_fitted = model.predict(X_train)\n",
    "#y_predicted = model.predict(X_test)\n",
    "\n",
    "# compute RMSE on train and test sets\n",
    "#train_rmse_cpc = np.sqrt(np.mean((y_fitted - y_train)**2))\n",
    "#test_rmse_cpc = np.sqrt(np.mean((y_predicted - y_test)**2))\n",
    "\n",
    "#train_rmse_cpc, test_rmse_cpc"
   ]
  }
 ],
 "metadata": {
  "kernelspec": {
   "display_name": "Python 3 (ipykernel)",
   "language": "python",
   "name": "python3"
  },
  "language_info": {
   "codemirror_mode": {
    "name": "ipython",
    "version": 3
   },
   "file_extension": ".py",
   "mimetype": "text/x-python",
   "name": "python",
   "nbconvert_exporter": "python",
   "pygments_lexer": "ipython3",
   "version": "3.10.2"
  }
 },
 "nbformat": 4,
 "nbformat_minor": 5
}
